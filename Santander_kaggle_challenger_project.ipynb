{
  "nbformat": 4,
  "nbformat_minor": 0,
  "metadata": {
    "colab": {
      "provenance": [],
      "collapsed_sections": [],
      "include_colab_link": true
    },
    "kernelspec": {
      "name": "python3",
      "display_name": "Python 3"
    },
    "language_info": {
      "name": "python"
    }
  },
  "cells": [
    {
      "cell_type": "markdown",
      "metadata": {
        "id": "view-in-github",
        "colab_type": "text"
      },
      "source": [
        "<a href=\"https://colab.research.google.com/github/WCosmo/DL-Team-Project-1/blob/main/Santander_kaggle_challenger_project.ipynb\" target=\"_parent\"><img src=\"https://colab.research.google.com/assets/colab-badge.svg\" alt=\"Open In Colab\"/></a>"
      ]
    },
    {
      "cell_type": "markdown",
      "source": [
        "#1. Load the dataset"
      ],
      "metadata": {
        "id": "_ZojXkUo36sK"
      }
    },
    {
      "cell_type": "markdown",
      "source": [
        "Upload the API token:"
      ],
      "metadata": {
        "id": "yPWbzBWYsHEE"
      }
    },
    {
      "cell_type": "code",
      "execution_count": 1,
      "metadata": {
        "id": "zlTQ3gb80ftC"
      },
      "outputs": [],
      "source": [
        "from google.colab import files\n"
      ]
    },
    {
      "cell_type": "code",
      "source": [
        "files.upload() #upload kaggle.json"
      ],
      "metadata": {
        "id": "rKyOPCTastiE"
      },
      "execution_count": null,
      "outputs": []
    },
    {
      "cell_type": "markdown",
      "source": [
        "Download the Dataset:"
      ],
      "metadata": {
        "id": "FpxYDzlptV0X"
      }
    },
    {
      "cell_type": "code",
      "source": [
        "!mkdir -p ~/.kaggle\n",
        "!cp kaggle.json ~/.kaggle/\n",
        "!chmod 600 /root/.kaggle/kaggle.json\n",
        "import kaggle"
      ],
      "metadata": {
        "id": "oYpqWkXK049f"
      },
      "execution_count": 6,
      "outputs": []
    },
    {
      "cell_type": "code",
      "source": [
        "!kaggle competitions download -c santander-customer-satisfaction"
      ],
      "metadata": {
        "colab": {
          "base_uri": "https://localhost:8080/"
        },
        "id": "u-DT9SD13q_R",
        "outputId": "d03d0e6c-b03a-475c-cba9-df5acf2ce502"
      },
      "execution_count": 7,
      "outputs": [
        {
          "output_type": "stream",
          "name": "stdout",
          "text": [
            "Downloading santander-customer-satisfaction.zip to /content\n",
            "\r  0% 0.00/8.25M [00:00<?, ?B/s]\r100% 8.25M/8.25M [00:00<00:00, 73.6MB/s]\n",
            "\r100% 8.25M/8.25M [00:00<00:00, 73.4MB/s]\n"
          ]
        }
      ]
    },
    {
      "cell_type": "markdown",
      "source": [
        "Install the Dataset:"
      ],
      "metadata": {
        "id": "3JAkq4u6tc9A"
      }
    },
    {
      "cell_type": "code",
      "source": [
        "!unzip -q santander-customer-satisfaction.zip \n"
      ],
      "metadata": {
        "id": "dCxybiA85GLt"
      },
      "execution_count": 8,
      "outputs": []
    },
    {
      "cell_type": "markdown",
      "source": [
        "Load the Dataset as Pandas:"
      ],
      "metadata": {
        "id": "zZPXEMjStj_o"
      }
    },
    {
      "cell_type": "code",
      "source": [
        "import pandas as pd\n",
        "customer_data = pd.read_csv(\"train.csv\")\n",
        "customer_data_test = pd.read_csv(\"test.csv\")"
      ],
      "metadata": {
        "id": "Y7R2E_RT5mTX"
      },
      "execution_count": 9,
      "outputs": []
    },
    {
      "cell_type": "code",
      "source": [
        "customer_data.describe()"
      ],
      "metadata": {
        "colab": {
          "base_uri": "https://localhost:8080/",
          "height": 394
        },
        "id": "_cak6nn55snt",
        "outputId": "6662aed4-4347-463b-8d2e-d2bf14c91617"
      },
      "execution_count": 10,
      "outputs": [
        {
          "output_type": "execute_result",
          "data": {
            "text/plain": [
              "                  ID           var3         var15  imp_ent_var16_ult1  \\\n",
              "count   76020.000000   76020.000000  76020.000000        76020.000000   \n",
              "mean    75964.050723   -1523.199277     33.212865           86.208265   \n",
              "std     43781.947379   39033.462364     12.956486         1614.757313   \n",
              "min         1.000000 -999999.000000      5.000000            0.000000   \n",
              "25%     38104.750000       2.000000     23.000000            0.000000   \n",
              "50%     76043.000000       2.000000     28.000000            0.000000   \n",
              "75%    113748.750000       2.000000     40.000000            0.000000   \n",
              "max    151838.000000     238.000000    105.000000       210000.000000   \n",
              "\n",
              "       imp_op_var39_comer_ult1  imp_op_var39_comer_ult3  \\\n",
              "count             76020.000000             76020.000000   \n",
              "mean                 72.363067               119.529632   \n",
              "std                 339.315831               546.266294   \n",
              "min                   0.000000                 0.000000   \n",
              "25%                   0.000000                 0.000000   \n",
              "50%                   0.000000                 0.000000   \n",
              "75%                   0.000000                 0.000000   \n",
              "max               12888.030000             21024.810000   \n",
              "\n",
              "       imp_op_var40_comer_ult1  imp_op_var40_comer_ult3  \\\n",
              "count             76020.000000             76020.000000   \n",
              "mean                  3.559130                 6.472698   \n",
              "std                  93.155749               153.737066   \n",
              "min                   0.000000                 0.000000   \n",
              "25%                   0.000000                 0.000000   \n",
              "50%                   0.000000                 0.000000   \n",
              "75%                   0.000000                 0.000000   \n",
              "max                8237.820000             11073.570000   \n",
              "\n",
              "       imp_op_var40_efect_ult1  imp_op_var40_efect_ult3  ...  \\\n",
              "count             76020.000000             76020.000000  ...   \n",
              "mean                  0.412946                 0.567352  ...   \n",
              "std                  30.604864                36.513513  ...   \n",
              "min                   0.000000                 0.000000  ...   \n",
              "25%                   0.000000                 0.000000  ...   \n",
              "50%                   0.000000                 0.000000  ...   \n",
              "75%                   0.000000                 0.000000  ...   \n",
              "max                6600.000000              6600.000000  ...   \n",
              "\n",
              "       saldo_medio_var33_hace2  saldo_medio_var33_hace3  \\\n",
              "count             76020.000000             76020.000000   \n",
              "mean                  7.935824                 1.365146   \n",
              "std                 455.887218               113.959637   \n",
              "min                   0.000000                 0.000000   \n",
              "25%                   0.000000                 0.000000   \n",
              "50%                   0.000000                 0.000000   \n",
              "75%                   0.000000                 0.000000   \n",
              "max               50003.880000             20385.720000   \n",
              "\n",
              "       saldo_medio_var33_ult1  saldo_medio_var33_ult3  \\\n",
              "count            76020.000000            76020.000000   \n",
              "mean                12.215580                8.784074   \n",
              "std                783.207399              538.439211   \n",
              "min                  0.000000                0.000000   \n",
              "25%                  0.000000                0.000000   \n",
              "50%                  0.000000                0.000000   \n",
              "75%                  0.000000                0.000000   \n",
              "max             138831.630000            91778.730000   \n",
              "\n",
              "       saldo_medio_var44_hace2  saldo_medio_var44_hace3  \\\n",
              "count             76020.000000             76020.000000   \n",
              "mean                 31.505324                 1.858575   \n",
              "std                2013.125393               147.786584   \n",
              "min                   0.000000                 0.000000   \n",
              "25%                   0.000000                 0.000000   \n",
              "50%                   0.000000                 0.000000   \n",
              "75%                   0.000000                 0.000000   \n",
              "max              438329.220000             24650.010000   \n",
              "\n",
              "       saldo_medio_var44_ult1  saldo_medio_var44_ult3         var38  \\\n",
              "count            76020.000000            76020.000000  7.602000e+04   \n",
              "mean                76.026165               56.614351  1.172358e+05   \n",
              "std               4040.337842             2852.579397  1.826646e+05   \n",
              "min                  0.000000                0.000000  5.163750e+03   \n",
              "25%                  0.000000                0.000000  6.787061e+04   \n",
              "50%                  0.000000                0.000000  1.064092e+05   \n",
              "75%                  0.000000                0.000000  1.187563e+05   \n",
              "max             681462.900000           397884.300000  2.203474e+07   \n",
              "\n",
              "             TARGET  \n",
              "count  76020.000000  \n",
              "mean       0.039569  \n",
              "std        0.194945  \n",
              "min        0.000000  \n",
              "25%        0.000000  \n",
              "50%        0.000000  \n",
              "75%        0.000000  \n",
              "max        1.000000  \n",
              "\n",
              "[8 rows x 371 columns]"
            ],
            "text/html": [
              "\n",
              "  <div id=\"df-ab0ab1db-86ec-4e1c-b934-939e84b90a19\">\n",
              "    <div class=\"colab-df-container\">\n",
              "      <div>\n",
              "<style scoped>\n",
              "    .dataframe tbody tr th:only-of-type {\n",
              "        vertical-align: middle;\n",
              "    }\n",
              "\n",
              "    .dataframe tbody tr th {\n",
              "        vertical-align: top;\n",
              "    }\n",
              "\n",
              "    .dataframe thead th {\n",
              "        text-align: right;\n",
              "    }\n",
              "</style>\n",
              "<table border=\"1\" class=\"dataframe\">\n",
              "  <thead>\n",
              "    <tr style=\"text-align: right;\">\n",
              "      <th></th>\n",
              "      <th>ID</th>\n",
              "      <th>var3</th>\n",
              "      <th>var15</th>\n",
              "      <th>imp_ent_var16_ult1</th>\n",
              "      <th>imp_op_var39_comer_ult1</th>\n",
              "      <th>imp_op_var39_comer_ult3</th>\n",
              "      <th>imp_op_var40_comer_ult1</th>\n",
              "      <th>imp_op_var40_comer_ult3</th>\n",
              "      <th>imp_op_var40_efect_ult1</th>\n",
              "      <th>imp_op_var40_efect_ult3</th>\n",
              "      <th>...</th>\n",
              "      <th>saldo_medio_var33_hace2</th>\n",
              "      <th>saldo_medio_var33_hace3</th>\n",
              "      <th>saldo_medio_var33_ult1</th>\n",
              "      <th>saldo_medio_var33_ult3</th>\n",
              "      <th>saldo_medio_var44_hace2</th>\n",
              "      <th>saldo_medio_var44_hace3</th>\n",
              "      <th>saldo_medio_var44_ult1</th>\n",
              "      <th>saldo_medio_var44_ult3</th>\n",
              "      <th>var38</th>\n",
              "      <th>TARGET</th>\n",
              "    </tr>\n",
              "  </thead>\n",
              "  <tbody>\n",
              "    <tr>\n",
              "      <th>count</th>\n",
              "      <td>76020.000000</td>\n",
              "      <td>76020.000000</td>\n",
              "      <td>76020.000000</td>\n",
              "      <td>76020.000000</td>\n",
              "      <td>76020.000000</td>\n",
              "      <td>76020.000000</td>\n",
              "      <td>76020.000000</td>\n",
              "      <td>76020.000000</td>\n",
              "      <td>76020.000000</td>\n",
              "      <td>76020.000000</td>\n",
              "      <td>...</td>\n",
              "      <td>76020.000000</td>\n",
              "      <td>76020.000000</td>\n",
              "      <td>76020.000000</td>\n",
              "      <td>76020.000000</td>\n",
              "      <td>76020.000000</td>\n",
              "      <td>76020.000000</td>\n",
              "      <td>76020.000000</td>\n",
              "      <td>76020.000000</td>\n",
              "      <td>7.602000e+04</td>\n",
              "      <td>76020.000000</td>\n",
              "    </tr>\n",
              "    <tr>\n",
              "      <th>mean</th>\n",
              "      <td>75964.050723</td>\n",
              "      <td>-1523.199277</td>\n",
              "      <td>33.212865</td>\n",
              "      <td>86.208265</td>\n",
              "      <td>72.363067</td>\n",
              "      <td>119.529632</td>\n",
              "      <td>3.559130</td>\n",
              "      <td>6.472698</td>\n",
              "      <td>0.412946</td>\n",
              "      <td>0.567352</td>\n",
              "      <td>...</td>\n",
              "      <td>7.935824</td>\n",
              "      <td>1.365146</td>\n",
              "      <td>12.215580</td>\n",
              "      <td>8.784074</td>\n",
              "      <td>31.505324</td>\n",
              "      <td>1.858575</td>\n",
              "      <td>76.026165</td>\n",
              "      <td>56.614351</td>\n",
              "      <td>1.172358e+05</td>\n",
              "      <td>0.039569</td>\n",
              "    </tr>\n",
              "    <tr>\n",
              "      <th>std</th>\n",
              "      <td>43781.947379</td>\n",
              "      <td>39033.462364</td>\n",
              "      <td>12.956486</td>\n",
              "      <td>1614.757313</td>\n",
              "      <td>339.315831</td>\n",
              "      <td>546.266294</td>\n",
              "      <td>93.155749</td>\n",
              "      <td>153.737066</td>\n",
              "      <td>30.604864</td>\n",
              "      <td>36.513513</td>\n",
              "      <td>...</td>\n",
              "      <td>455.887218</td>\n",
              "      <td>113.959637</td>\n",
              "      <td>783.207399</td>\n",
              "      <td>538.439211</td>\n",
              "      <td>2013.125393</td>\n",
              "      <td>147.786584</td>\n",
              "      <td>4040.337842</td>\n",
              "      <td>2852.579397</td>\n",
              "      <td>1.826646e+05</td>\n",
              "      <td>0.194945</td>\n",
              "    </tr>\n",
              "    <tr>\n",
              "      <th>min</th>\n",
              "      <td>1.000000</td>\n",
              "      <td>-999999.000000</td>\n",
              "      <td>5.000000</td>\n",
              "      <td>0.000000</td>\n",
              "      <td>0.000000</td>\n",
              "      <td>0.000000</td>\n",
              "      <td>0.000000</td>\n",
              "      <td>0.000000</td>\n",
              "      <td>0.000000</td>\n",
              "      <td>0.000000</td>\n",
              "      <td>...</td>\n",
              "      <td>0.000000</td>\n",
              "      <td>0.000000</td>\n",
              "      <td>0.000000</td>\n",
              "      <td>0.000000</td>\n",
              "      <td>0.000000</td>\n",
              "      <td>0.000000</td>\n",
              "      <td>0.000000</td>\n",
              "      <td>0.000000</td>\n",
              "      <td>5.163750e+03</td>\n",
              "      <td>0.000000</td>\n",
              "    </tr>\n",
              "    <tr>\n",
              "      <th>25%</th>\n",
              "      <td>38104.750000</td>\n",
              "      <td>2.000000</td>\n",
              "      <td>23.000000</td>\n",
              "      <td>0.000000</td>\n",
              "      <td>0.000000</td>\n",
              "      <td>0.000000</td>\n",
              "      <td>0.000000</td>\n",
              "      <td>0.000000</td>\n",
              "      <td>0.000000</td>\n",
              "      <td>0.000000</td>\n",
              "      <td>...</td>\n",
              "      <td>0.000000</td>\n",
              "      <td>0.000000</td>\n",
              "      <td>0.000000</td>\n",
              "      <td>0.000000</td>\n",
              "      <td>0.000000</td>\n",
              "      <td>0.000000</td>\n",
              "      <td>0.000000</td>\n",
              "      <td>0.000000</td>\n",
              "      <td>6.787061e+04</td>\n",
              "      <td>0.000000</td>\n",
              "    </tr>\n",
              "    <tr>\n",
              "      <th>50%</th>\n",
              "      <td>76043.000000</td>\n",
              "      <td>2.000000</td>\n",
              "      <td>28.000000</td>\n",
              "      <td>0.000000</td>\n",
              "      <td>0.000000</td>\n",
              "      <td>0.000000</td>\n",
              "      <td>0.000000</td>\n",
              "      <td>0.000000</td>\n",
              "      <td>0.000000</td>\n",
              "      <td>0.000000</td>\n",
              "      <td>...</td>\n",
              "      <td>0.000000</td>\n",
              "      <td>0.000000</td>\n",
              "      <td>0.000000</td>\n",
              "      <td>0.000000</td>\n",
              "      <td>0.000000</td>\n",
              "      <td>0.000000</td>\n",
              "      <td>0.000000</td>\n",
              "      <td>0.000000</td>\n",
              "      <td>1.064092e+05</td>\n",
              "      <td>0.000000</td>\n",
              "    </tr>\n",
              "    <tr>\n",
              "      <th>75%</th>\n",
              "      <td>113748.750000</td>\n",
              "      <td>2.000000</td>\n",
              "      <td>40.000000</td>\n",
              "      <td>0.000000</td>\n",
              "      <td>0.000000</td>\n",
              "      <td>0.000000</td>\n",
              "      <td>0.000000</td>\n",
              "      <td>0.000000</td>\n",
              "      <td>0.000000</td>\n",
              "      <td>0.000000</td>\n",
              "      <td>...</td>\n",
              "      <td>0.000000</td>\n",
              "      <td>0.000000</td>\n",
              "      <td>0.000000</td>\n",
              "      <td>0.000000</td>\n",
              "      <td>0.000000</td>\n",
              "      <td>0.000000</td>\n",
              "      <td>0.000000</td>\n",
              "      <td>0.000000</td>\n",
              "      <td>1.187563e+05</td>\n",
              "      <td>0.000000</td>\n",
              "    </tr>\n",
              "    <tr>\n",
              "      <th>max</th>\n",
              "      <td>151838.000000</td>\n",
              "      <td>238.000000</td>\n",
              "      <td>105.000000</td>\n",
              "      <td>210000.000000</td>\n",
              "      <td>12888.030000</td>\n",
              "      <td>21024.810000</td>\n",
              "      <td>8237.820000</td>\n",
              "      <td>11073.570000</td>\n",
              "      <td>6600.000000</td>\n",
              "      <td>6600.000000</td>\n",
              "      <td>...</td>\n",
              "      <td>50003.880000</td>\n",
              "      <td>20385.720000</td>\n",
              "      <td>138831.630000</td>\n",
              "      <td>91778.730000</td>\n",
              "      <td>438329.220000</td>\n",
              "      <td>24650.010000</td>\n",
              "      <td>681462.900000</td>\n",
              "      <td>397884.300000</td>\n",
              "      <td>2.203474e+07</td>\n",
              "      <td>1.000000</td>\n",
              "    </tr>\n",
              "  </tbody>\n",
              "</table>\n",
              "<p>8 rows × 371 columns</p>\n",
              "</div>\n",
              "      <button class=\"colab-df-convert\" onclick=\"convertToInteractive('df-ab0ab1db-86ec-4e1c-b934-939e84b90a19')\"\n",
              "              title=\"Convert this dataframe to an interactive table.\"\n",
              "              style=\"display:none;\">\n",
              "        \n",
              "  <svg xmlns=\"http://www.w3.org/2000/svg\" height=\"24px\"viewBox=\"0 0 24 24\"\n",
              "       width=\"24px\">\n",
              "    <path d=\"M0 0h24v24H0V0z\" fill=\"none\"/>\n",
              "    <path d=\"M18.56 5.44l.94 2.06.94-2.06 2.06-.94-2.06-.94-.94-2.06-.94 2.06-2.06.94zm-11 1L8.5 8.5l.94-2.06 2.06-.94-2.06-.94L8.5 2.5l-.94 2.06-2.06.94zm10 10l.94 2.06.94-2.06 2.06-.94-2.06-.94-.94-2.06-.94 2.06-2.06.94z\"/><path d=\"M17.41 7.96l-1.37-1.37c-.4-.4-.92-.59-1.43-.59-.52 0-1.04.2-1.43.59L10.3 9.45l-7.72 7.72c-.78.78-.78 2.05 0 2.83L4 21.41c.39.39.9.59 1.41.59.51 0 1.02-.2 1.41-.59l7.78-7.78 2.81-2.81c.8-.78.8-2.07 0-2.86zM5.41 20L4 18.59l7.72-7.72 1.47 1.35L5.41 20z\"/>\n",
              "  </svg>\n",
              "      </button>\n",
              "      \n",
              "  <style>\n",
              "    .colab-df-container {\n",
              "      display:flex;\n",
              "      flex-wrap:wrap;\n",
              "      gap: 12px;\n",
              "    }\n",
              "\n",
              "    .colab-df-convert {\n",
              "      background-color: #E8F0FE;\n",
              "      border: none;\n",
              "      border-radius: 50%;\n",
              "      cursor: pointer;\n",
              "      display: none;\n",
              "      fill: #1967D2;\n",
              "      height: 32px;\n",
              "      padding: 0 0 0 0;\n",
              "      width: 32px;\n",
              "    }\n",
              "\n",
              "    .colab-df-convert:hover {\n",
              "      background-color: #E2EBFA;\n",
              "      box-shadow: 0px 1px 2px rgba(60, 64, 67, 0.3), 0px 1px 3px 1px rgba(60, 64, 67, 0.15);\n",
              "      fill: #174EA6;\n",
              "    }\n",
              "\n",
              "    [theme=dark] .colab-df-convert {\n",
              "      background-color: #3B4455;\n",
              "      fill: #D2E3FC;\n",
              "    }\n",
              "\n",
              "    [theme=dark] .colab-df-convert:hover {\n",
              "      background-color: #434B5C;\n",
              "      box-shadow: 0px 1px 3px 1px rgba(0, 0, 0, 0.15);\n",
              "      filter: drop-shadow(0px 1px 2px rgba(0, 0, 0, 0.3));\n",
              "      fill: #FFFFFF;\n",
              "    }\n",
              "  </style>\n",
              "\n",
              "      <script>\n",
              "        const buttonEl =\n",
              "          document.querySelector('#df-ab0ab1db-86ec-4e1c-b934-939e84b90a19 button.colab-df-convert');\n",
              "        buttonEl.style.display =\n",
              "          google.colab.kernel.accessAllowed ? 'block' : 'none';\n",
              "\n",
              "        async function convertToInteractive(key) {\n",
              "          const element = document.querySelector('#df-ab0ab1db-86ec-4e1c-b934-939e84b90a19');\n",
              "          const dataTable =\n",
              "            await google.colab.kernel.invokeFunction('convertToInteractive',\n",
              "                                                     [key], {});\n",
              "          if (!dataTable) return;\n",
              "\n",
              "          const docLinkHtml = 'Like what you see? Visit the ' +\n",
              "            '<a target=\"_blank\" href=https://colab.research.google.com/notebooks/data_table.ipynb>data table notebook</a>'\n",
              "            + ' to learn more about interactive tables.';\n",
              "          element.innerHTML = '';\n",
              "          dataTable['output_type'] = 'display_data';\n",
              "          await google.colab.output.renderOutput(dataTable, element);\n",
              "          const docLink = document.createElement('div');\n",
              "          docLink.innerHTML = docLinkHtml;\n",
              "          element.appendChild(docLink);\n",
              "        }\n",
              "      </script>\n",
              "    </div>\n",
              "  </div>\n",
              "  "
            ]
          },
          "metadata": {},
          "execution_count": 10
        }
      ]
    },
    {
      "cell_type": "code",
      "source": [
        "customer_data.info()"
      ],
      "metadata": {
        "colab": {
          "base_uri": "https://localhost:8080/"
        },
        "id": "iarbfg0V59xS",
        "outputId": "c44c56e1-009b-41e7-f543-aae41972559c"
      },
      "execution_count": 149,
      "outputs": [
        {
          "output_type": "stream",
          "name": "stdout",
          "text": [
            "<class 'pandas.core.frame.DataFrame'>\n",
            "RangeIndex: 76020 entries, 0 to 76019\n",
            "Columns: 371 entries, ID to TARGET\n",
            "dtypes: float64(111), int64(260)\n",
            "memory usage: 215.2 MB\n"
          ]
        }
      ]
    },
    {
      "cell_type": "markdown",
      "source": [
        "#2. Data preprocessing"
      ],
      "metadata": {
        "id": "JTu81SC44a3B"
      }
    },
    {
      "cell_type": "markdown",
      "source": [
        "Correlation matrix calculation:"
      ],
      "metadata": {
        "id": "8BTSZd9F4reN"
      }
    },
    {
      "cell_type": "code",
      "source": [
        "customer_data_corr = customer_data.corr()"
      ],
      "metadata": {
        "id": "zxndNAOm7DZg"
      },
      "execution_count": 12,
      "outputs": []
    },
    {
      "cell_type": "code",
      "source": [
        "idx = customer_data_corr.index[customer_data_corr['TARGET']>=0.01]"
      ],
      "metadata": {
        "id": "0zlnEhHr7MWK"
      },
      "execution_count": 13,
      "outputs": []
    },
    {
      "cell_type": "code",
      "source": [
        "customer_data[idx]"
      ],
      "metadata": {
        "colab": {
          "base_uri": "https://localhost:8080/",
          "height": 488
        },
        "id": "xMEJUVa07RMQ",
        "outputId": "9f495377-55e7-4a8d-f9c4-8fcf76e1e98b"
      },
      "execution_count": 14,
      "outputs": [
        {
          "output_type": "execute_result",
          "data": {
            "text/plain": [
              "       var15  imp_op_var39_comer_ult1  imp_op_var40_efect_ult1  \\\n",
              "0         23                      0.0                      0.0   \n",
              "1         34                      0.0                      0.0   \n",
              "2         23                      0.0                      0.0   \n",
              "3         37                    195.0                      0.0   \n",
              "4         39                      0.0                      0.0   \n",
              "...      ...                      ...                      ...   \n",
              "76015     48                      0.0                      0.0   \n",
              "76016     39                      0.0                      0.0   \n",
              "76017     23                      0.0                      0.0   \n",
              "76018     25                      0.0                      0.0   \n",
              "76019     46                      0.0                      0.0   \n",
              "\n",
              "       imp_op_var40_efect_ult3  imp_op_var41_comer_ult1  \\\n",
              "0                          0.0                      0.0   \n",
              "1                          0.0                      0.0   \n",
              "2                          0.0                      0.0   \n",
              "3                          0.0                    195.0   \n",
              "4                          0.0                      0.0   \n",
              "...                        ...                      ...   \n",
              "76015                      0.0                      0.0   \n",
              "76016                      0.0                      0.0   \n",
              "76017                      0.0                      0.0   \n",
              "76018                      0.0                      0.0   \n",
              "76019                      0.0                      0.0   \n",
              "\n",
              "       imp_op_var41_efect_ult1  imp_op_var41_efect_ult3  imp_op_var41_ult1  \\\n",
              "0                          0.0                      0.0                0.0   \n",
              "1                          0.0                      0.0                0.0   \n",
              "2                          0.0                      0.0                0.0   \n",
              "3                          0.0                      0.0              195.0   \n",
              "4                          0.0                      0.0                0.0   \n",
              "...                        ...                      ...                ...   \n",
              "76015                      0.0                      0.0                0.0   \n",
              "76016                      0.0                      0.0                0.0   \n",
              "76017                      0.0                      0.0                0.0   \n",
              "76018                      0.0                      0.0                0.0   \n",
              "76019                      0.0                      0.0                0.0   \n",
              "\n",
              "       imp_op_var39_efect_ult1  imp_op_var39_efect_ult3  ...  \\\n",
              "0                          0.0                      0.0  ...   \n",
              "1                          0.0                      0.0  ...   \n",
              "2                          0.0                      0.0  ...   \n",
              "3                          0.0                      0.0  ...   \n",
              "4                          0.0                      0.0  ...   \n",
              "...                        ...                      ...  ...   \n",
              "76015                      0.0                      0.0  ...   \n",
              "76016                      0.0                      0.0  ...   \n",
              "76017                      0.0                      0.0  ...   \n",
              "76018                      0.0                      0.0  ...   \n",
              "76019                      0.0                      0.0  ...   \n",
              "\n",
              "       num_med_var22_ult3  num_meses_var8_ult3  num_op_var40_efect_ult1  \\\n",
              "0                       0                    0                        0   \n",
              "1                       0                    0                        0   \n",
              "2                       0                    0                        0   \n",
              "3                       0                    0                        0   \n",
              "4                       3                    0                        0   \n",
              "...                   ...                  ...                      ...   \n",
              "76015                   0                    0                        0   \n",
              "76016                   6                    0                        0   \n",
              "76017                   0                    0                        0   \n",
              "76018                   0                    0                        0   \n",
              "76019                   0                    0                        0   \n",
              "\n",
              "       num_op_var40_efect_ult3  num_op_var41_efect_ult1  \\\n",
              "0                            0                        0   \n",
              "1                            0                        0   \n",
              "2                            0                        0   \n",
              "3                            0                        0   \n",
              "4                            0                        0   \n",
              "...                        ...                      ...   \n",
              "76015                        0                        0   \n",
              "76016                        0                        0   \n",
              "76017                        0                        0   \n",
              "76018                        0                        0   \n",
              "76019                        0                        0   \n",
              "\n",
              "       num_op_var41_efect_ult3  num_op_var39_efect_ult1  \\\n",
              "0                            0                        0   \n",
              "1                            0                        0   \n",
              "2                            0                        0   \n",
              "3                            0                        0   \n",
              "4                            0                        0   \n",
              "...                        ...                      ...   \n",
              "76015                        0                        0   \n",
              "76016                        0                        0   \n",
              "76017                        0                        0   \n",
              "76018                        0                        0   \n",
              "76019                        0                        0   \n",
              "\n",
              "       num_op_var39_efect_ult3  num_reemb_var17_ult1  TARGET  \n",
              "0                            0                     0       0  \n",
              "1                            0                     0       0  \n",
              "2                            0                     0       0  \n",
              "3                            0                     0       0  \n",
              "4                            0                     0       0  \n",
              "...                        ...                   ...     ...  \n",
              "76015                        0                     0       0  \n",
              "76016                        0                     0       0  \n",
              "76017                        0                     0       0  \n",
              "76018                        0                     0       0  \n",
              "76019                        0                     0       0  \n",
              "\n",
              "[76020 rows x 44 columns]"
            ],
            "text/html": [
              "\n",
              "  <div id=\"df-26e82d45-62a7-442f-ac70-edcd0e825f58\">\n",
              "    <div class=\"colab-df-container\">\n",
              "      <div>\n",
              "<style scoped>\n",
              "    .dataframe tbody tr th:only-of-type {\n",
              "        vertical-align: middle;\n",
              "    }\n",
              "\n",
              "    .dataframe tbody tr th {\n",
              "        vertical-align: top;\n",
              "    }\n",
              "\n",
              "    .dataframe thead th {\n",
              "        text-align: right;\n",
              "    }\n",
              "</style>\n",
              "<table border=\"1\" class=\"dataframe\">\n",
              "  <thead>\n",
              "    <tr style=\"text-align: right;\">\n",
              "      <th></th>\n",
              "      <th>var15</th>\n",
              "      <th>imp_op_var39_comer_ult1</th>\n",
              "      <th>imp_op_var40_efect_ult1</th>\n",
              "      <th>imp_op_var40_efect_ult3</th>\n",
              "      <th>imp_op_var41_comer_ult1</th>\n",
              "      <th>imp_op_var41_efect_ult1</th>\n",
              "      <th>imp_op_var41_efect_ult3</th>\n",
              "      <th>imp_op_var41_ult1</th>\n",
              "      <th>imp_op_var39_efect_ult1</th>\n",
              "      <th>imp_op_var39_efect_ult3</th>\n",
              "      <th>...</th>\n",
              "      <th>num_med_var22_ult3</th>\n",
              "      <th>num_meses_var8_ult3</th>\n",
              "      <th>num_op_var40_efect_ult1</th>\n",
              "      <th>num_op_var40_efect_ult3</th>\n",
              "      <th>num_op_var41_efect_ult1</th>\n",
              "      <th>num_op_var41_efect_ult3</th>\n",
              "      <th>num_op_var39_efect_ult1</th>\n",
              "      <th>num_op_var39_efect_ult3</th>\n",
              "      <th>num_reemb_var17_ult1</th>\n",
              "      <th>TARGET</th>\n",
              "    </tr>\n",
              "  </thead>\n",
              "  <tbody>\n",
              "    <tr>\n",
              "      <th>0</th>\n",
              "      <td>23</td>\n",
              "      <td>0.0</td>\n",
              "      <td>0.0</td>\n",
              "      <td>0.0</td>\n",
              "      <td>0.0</td>\n",
              "      <td>0.0</td>\n",
              "      <td>0.0</td>\n",
              "      <td>0.0</td>\n",
              "      <td>0.0</td>\n",
              "      <td>0.0</td>\n",
              "      <td>...</td>\n",
              "      <td>0</td>\n",
              "      <td>0</td>\n",
              "      <td>0</td>\n",
              "      <td>0</td>\n",
              "      <td>0</td>\n",
              "      <td>0</td>\n",
              "      <td>0</td>\n",
              "      <td>0</td>\n",
              "      <td>0</td>\n",
              "      <td>0</td>\n",
              "    </tr>\n",
              "    <tr>\n",
              "      <th>1</th>\n",
              "      <td>34</td>\n",
              "      <td>0.0</td>\n",
              "      <td>0.0</td>\n",
              "      <td>0.0</td>\n",
              "      <td>0.0</td>\n",
              "      <td>0.0</td>\n",
              "      <td>0.0</td>\n",
              "      <td>0.0</td>\n",
              "      <td>0.0</td>\n",
              "      <td>0.0</td>\n",
              "      <td>...</td>\n",
              "      <td>0</td>\n",
              "      <td>0</td>\n",
              "      <td>0</td>\n",
              "      <td>0</td>\n",
              "      <td>0</td>\n",
              "      <td>0</td>\n",
              "      <td>0</td>\n",
              "      <td>0</td>\n",
              "      <td>0</td>\n",
              "      <td>0</td>\n",
              "    </tr>\n",
              "    <tr>\n",
              "      <th>2</th>\n",
              "      <td>23</td>\n",
              "      <td>0.0</td>\n",
              "      <td>0.0</td>\n",
              "      <td>0.0</td>\n",
              "      <td>0.0</td>\n",
              "      <td>0.0</td>\n",
              "      <td>0.0</td>\n",
              "      <td>0.0</td>\n",
              "      <td>0.0</td>\n",
              "      <td>0.0</td>\n",
              "      <td>...</td>\n",
              "      <td>0</td>\n",
              "      <td>0</td>\n",
              "      <td>0</td>\n",
              "      <td>0</td>\n",
              "      <td>0</td>\n",
              "      <td>0</td>\n",
              "      <td>0</td>\n",
              "      <td>0</td>\n",
              "      <td>0</td>\n",
              "      <td>0</td>\n",
              "    </tr>\n",
              "    <tr>\n",
              "      <th>3</th>\n",
              "      <td>37</td>\n",
              "      <td>195.0</td>\n",
              "      <td>0.0</td>\n",
              "      <td>0.0</td>\n",
              "      <td>195.0</td>\n",
              "      <td>0.0</td>\n",
              "      <td>0.0</td>\n",
              "      <td>195.0</td>\n",
              "      <td>0.0</td>\n",
              "      <td>0.0</td>\n",
              "      <td>...</td>\n",
              "      <td>0</td>\n",
              "      <td>0</td>\n",
              "      <td>0</td>\n",
              "      <td>0</td>\n",
              "      <td>0</td>\n",
              "      <td>0</td>\n",
              "      <td>0</td>\n",
              "      <td>0</td>\n",
              "      <td>0</td>\n",
              "      <td>0</td>\n",
              "    </tr>\n",
              "    <tr>\n",
              "      <th>4</th>\n",
              "      <td>39</td>\n",
              "      <td>0.0</td>\n",
              "      <td>0.0</td>\n",
              "      <td>0.0</td>\n",
              "      <td>0.0</td>\n",
              "      <td>0.0</td>\n",
              "      <td>0.0</td>\n",
              "      <td>0.0</td>\n",
              "      <td>0.0</td>\n",
              "      <td>0.0</td>\n",
              "      <td>...</td>\n",
              "      <td>3</td>\n",
              "      <td>0</td>\n",
              "      <td>0</td>\n",
              "      <td>0</td>\n",
              "      <td>0</td>\n",
              "      <td>0</td>\n",
              "      <td>0</td>\n",
              "      <td>0</td>\n",
              "      <td>0</td>\n",
              "      <td>0</td>\n",
              "    </tr>\n",
              "    <tr>\n",
              "      <th>...</th>\n",
              "      <td>...</td>\n",
              "      <td>...</td>\n",
              "      <td>...</td>\n",
              "      <td>...</td>\n",
              "      <td>...</td>\n",
              "      <td>...</td>\n",
              "      <td>...</td>\n",
              "      <td>...</td>\n",
              "      <td>...</td>\n",
              "      <td>...</td>\n",
              "      <td>...</td>\n",
              "      <td>...</td>\n",
              "      <td>...</td>\n",
              "      <td>...</td>\n",
              "      <td>...</td>\n",
              "      <td>...</td>\n",
              "      <td>...</td>\n",
              "      <td>...</td>\n",
              "      <td>...</td>\n",
              "      <td>...</td>\n",
              "      <td>...</td>\n",
              "    </tr>\n",
              "    <tr>\n",
              "      <th>76015</th>\n",
              "      <td>48</td>\n",
              "      <td>0.0</td>\n",
              "      <td>0.0</td>\n",
              "      <td>0.0</td>\n",
              "      <td>0.0</td>\n",
              "      <td>0.0</td>\n",
              "      <td>0.0</td>\n",
              "      <td>0.0</td>\n",
              "      <td>0.0</td>\n",
              "      <td>0.0</td>\n",
              "      <td>...</td>\n",
              "      <td>0</td>\n",
              "      <td>0</td>\n",
              "      <td>0</td>\n",
              "      <td>0</td>\n",
              "      <td>0</td>\n",
              "      <td>0</td>\n",
              "      <td>0</td>\n",
              "      <td>0</td>\n",
              "      <td>0</td>\n",
              "      <td>0</td>\n",
              "    </tr>\n",
              "    <tr>\n",
              "      <th>76016</th>\n",
              "      <td>39</td>\n",
              "      <td>0.0</td>\n",
              "      <td>0.0</td>\n",
              "      <td>0.0</td>\n",
              "      <td>0.0</td>\n",
              "      <td>0.0</td>\n",
              "      <td>0.0</td>\n",
              "      <td>0.0</td>\n",
              "      <td>0.0</td>\n",
              "      <td>0.0</td>\n",
              "      <td>...</td>\n",
              "      <td>6</td>\n",
              "      <td>0</td>\n",
              "      <td>0</td>\n",
              "      <td>0</td>\n",
              "      <td>0</td>\n",
              "      <td>0</td>\n",
              "      <td>0</td>\n",
              "      <td>0</td>\n",
              "      <td>0</td>\n",
              "      <td>0</td>\n",
              "    </tr>\n",
              "    <tr>\n",
              "      <th>76017</th>\n",
              "      <td>23</td>\n",
              "      <td>0.0</td>\n",
              "      <td>0.0</td>\n",
              "      <td>0.0</td>\n",
              "      <td>0.0</td>\n",
              "      <td>0.0</td>\n",
              "      <td>0.0</td>\n",
              "      <td>0.0</td>\n",
              "      <td>0.0</td>\n",
              "      <td>0.0</td>\n",
              "      <td>...</td>\n",
              "      <td>0</td>\n",
              "      <td>0</td>\n",
              "      <td>0</td>\n",
              "      <td>0</td>\n",
              "      <td>0</td>\n",
              "      <td>0</td>\n",
              "      <td>0</td>\n",
              "      <td>0</td>\n",
              "      <td>0</td>\n",
              "      <td>0</td>\n",
              "    </tr>\n",
              "    <tr>\n",
              "      <th>76018</th>\n",
              "      <td>25</td>\n",
              "      <td>0.0</td>\n",
              "      <td>0.0</td>\n",
              "      <td>0.0</td>\n",
              "      <td>0.0</td>\n",
              "      <td>0.0</td>\n",
              "      <td>0.0</td>\n",
              "      <td>0.0</td>\n",
              "      <td>0.0</td>\n",
              "      <td>0.0</td>\n",
              "      <td>...</td>\n",
              "      <td>0</td>\n",
              "      <td>0</td>\n",
              "      <td>0</td>\n",
              "      <td>0</td>\n",
              "      <td>0</td>\n",
              "      <td>0</td>\n",
              "      <td>0</td>\n",
              "      <td>0</td>\n",
              "      <td>0</td>\n",
              "      <td>0</td>\n",
              "    </tr>\n",
              "    <tr>\n",
              "      <th>76019</th>\n",
              "      <td>46</td>\n",
              "      <td>0.0</td>\n",
              "      <td>0.0</td>\n",
              "      <td>0.0</td>\n",
              "      <td>0.0</td>\n",
              "      <td>0.0</td>\n",
              "      <td>0.0</td>\n",
              "      <td>0.0</td>\n",
              "      <td>0.0</td>\n",
              "      <td>0.0</td>\n",
              "      <td>...</td>\n",
              "      <td>0</td>\n",
              "      <td>0</td>\n",
              "      <td>0</td>\n",
              "      <td>0</td>\n",
              "      <td>0</td>\n",
              "      <td>0</td>\n",
              "      <td>0</td>\n",
              "      <td>0</td>\n",
              "      <td>0</td>\n",
              "      <td>0</td>\n",
              "    </tr>\n",
              "  </tbody>\n",
              "</table>\n",
              "<p>76020 rows × 44 columns</p>\n",
              "</div>\n",
              "      <button class=\"colab-df-convert\" onclick=\"convertToInteractive('df-26e82d45-62a7-442f-ac70-edcd0e825f58')\"\n",
              "              title=\"Convert this dataframe to an interactive table.\"\n",
              "              style=\"display:none;\">\n",
              "        \n",
              "  <svg xmlns=\"http://www.w3.org/2000/svg\" height=\"24px\"viewBox=\"0 0 24 24\"\n",
              "       width=\"24px\">\n",
              "    <path d=\"M0 0h24v24H0V0z\" fill=\"none\"/>\n",
              "    <path d=\"M18.56 5.44l.94 2.06.94-2.06 2.06-.94-2.06-.94-.94-2.06-.94 2.06-2.06.94zm-11 1L8.5 8.5l.94-2.06 2.06-.94-2.06-.94L8.5 2.5l-.94 2.06-2.06.94zm10 10l.94 2.06.94-2.06 2.06-.94-2.06-.94-.94-2.06-.94 2.06-2.06.94z\"/><path d=\"M17.41 7.96l-1.37-1.37c-.4-.4-.92-.59-1.43-.59-.52 0-1.04.2-1.43.59L10.3 9.45l-7.72 7.72c-.78.78-.78 2.05 0 2.83L4 21.41c.39.39.9.59 1.41.59.51 0 1.02-.2 1.41-.59l7.78-7.78 2.81-2.81c.8-.78.8-2.07 0-2.86zM5.41 20L4 18.59l7.72-7.72 1.47 1.35L5.41 20z\"/>\n",
              "  </svg>\n",
              "      </button>\n",
              "      \n",
              "  <style>\n",
              "    .colab-df-container {\n",
              "      display:flex;\n",
              "      flex-wrap:wrap;\n",
              "      gap: 12px;\n",
              "    }\n",
              "\n",
              "    .colab-df-convert {\n",
              "      background-color: #E8F0FE;\n",
              "      border: none;\n",
              "      border-radius: 50%;\n",
              "      cursor: pointer;\n",
              "      display: none;\n",
              "      fill: #1967D2;\n",
              "      height: 32px;\n",
              "      padding: 0 0 0 0;\n",
              "      width: 32px;\n",
              "    }\n",
              "\n",
              "    .colab-df-convert:hover {\n",
              "      background-color: #E2EBFA;\n",
              "      box-shadow: 0px 1px 2px rgba(60, 64, 67, 0.3), 0px 1px 3px 1px rgba(60, 64, 67, 0.15);\n",
              "      fill: #174EA6;\n",
              "    }\n",
              "\n",
              "    [theme=dark] .colab-df-convert {\n",
              "      background-color: #3B4455;\n",
              "      fill: #D2E3FC;\n",
              "    }\n",
              "\n",
              "    [theme=dark] .colab-df-convert:hover {\n",
              "      background-color: #434B5C;\n",
              "      box-shadow: 0px 1px 3px 1px rgba(0, 0, 0, 0.15);\n",
              "      filter: drop-shadow(0px 1px 2px rgba(0, 0, 0, 0.3));\n",
              "      fill: #FFFFFF;\n",
              "    }\n",
              "  </style>\n",
              "\n",
              "      <script>\n",
              "        const buttonEl =\n",
              "          document.querySelector('#df-26e82d45-62a7-442f-ac70-edcd0e825f58 button.colab-df-convert');\n",
              "        buttonEl.style.display =\n",
              "          google.colab.kernel.accessAllowed ? 'block' : 'none';\n",
              "\n",
              "        async function convertToInteractive(key) {\n",
              "          const element = document.querySelector('#df-26e82d45-62a7-442f-ac70-edcd0e825f58');\n",
              "          const dataTable =\n",
              "            await google.colab.kernel.invokeFunction('convertToInteractive',\n",
              "                                                     [key], {});\n",
              "          if (!dataTable) return;\n",
              "\n",
              "          const docLinkHtml = 'Like what you see? Visit the ' +\n",
              "            '<a target=\"_blank\" href=https://colab.research.google.com/notebooks/data_table.ipynb>data table notebook</a>'\n",
              "            + ' to learn more about interactive tables.';\n",
              "          element.innerHTML = '';\n",
              "          dataTable['output_type'] = 'display_data';\n",
              "          await google.colab.output.renderOutput(dataTable, element);\n",
              "          const docLink = document.createElement('div');\n",
              "          docLink.innerHTML = docLinkHtml;\n",
              "          element.appendChild(docLink);\n",
              "        }\n",
              "      </script>\n",
              "    </div>\n",
              "  </div>\n",
              "  "
            ]
          },
          "metadata": {},
          "execution_count": 14
        }
      ]
    },
    {
      "cell_type": "markdown",
      "source": [
        "Test dataset:"
      ],
      "metadata": {
        "id": "4w-n2JjJco-0"
      }
    },
    {
      "cell_type": "code",
      "source": [
        "t_idx = idx.drop(['TARGET'])\n"
      ],
      "metadata": {
        "id": "Os1ixeOJbaf0"
      },
      "execution_count": 147,
      "outputs": []
    },
    {
      "cell_type": "code",
      "source": [
        "customer_data_test[t_idx]"
      ],
      "metadata": {
        "colab": {
          "base_uri": "https://localhost:8080/",
          "height": 488
        },
        "id": "UAJ95yAQcnkb",
        "outputId": "597c38fb-e8f5-412c-8eae-691bb583703a"
      },
      "execution_count": 148,
      "outputs": [
        {
          "output_type": "execute_result",
          "data": {
            "text/plain": [
              "       var15  imp_op_var39_comer_ult1  imp_op_var40_efect_ult1  \\\n",
              "0         32                      0.0                      0.0   \n",
              "1         35                      0.0                      0.0   \n",
              "2         23                      0.0                      0.0   \n",
              "3         24                      0.0                      0.0   \n",
              "4         23                      0.0                      0.0   \n",
              "...      ...                      ...                      ...   \n",
              "75813     23                      0.0                      0.0   \n",
              "75814     26                      0.0                      0.0   \n",
              "75815     24                      0.0                      0.0   \n",
              "75816     40                      0.0                      0.0   \n",
              "75817     23                      0.0                      0.0   \n",
              "\n",
              "       imp_op_var40_efect_ult3  imp_op_var41_comer_ult1  \\\n",
              "0                          0.0                      0.0   \n",
              "1                          0.0                      0.0   \n",
              "2                          0.0                      0.0   \n",
              "3                          0.0                      0.0   \n",
              "4                          0.0                      0.0   \n",
              "...                        ...                      ...   \n",
              "75813                      0.0                      0.0   \n",
              "75814                      0.0                      0.0   \n",
              "75815                      0.0                      0.0   \n",
              "75816                      0.0                      0.0   \n",
              "75817                      0.0                      0.0   \n",
              "\n",
              "       imp_op_var41_efect_ult1  imp_op_var41_efect_ult3  imp_op_var41_ult1  \\\n",
              "0                          0.0                      0.0                0.0   \n",
              "1                          0.0                      0.0                0.0   \n",
              "2                         60.0                     60.0               60.0   \n",
              "3                          0.0                      0.0                0.0   \n",
              "4                          0.0                      0.0                0.0   \n",
              "...                        ...                      ...                ...   \n",
              "75813                      0.0                      0.0                0.0   \n",
              "75814                      0.0                      0.0                0.0   \n",
              "75815                      0.0                      0.0                0.0   \n",
              "75816                      0.0                      0.0                0.0   \n",
              "75817                      0.0                      0.0                0.0   \n",
              "\n",
              "       imp_op_var39_efect_ult1  imp_op_var39_efect_ult3  ...  num_var22_ult3  \\\n",
              "0                          0.0                      0.0  ...               3   \n",
              "1                          0.0                      0.0  ...               3   \n",
              "2                         60.0                     60.0  ...               0   \n",
              "3                          0.0                      0.0  ...               0   \n",
              "4                          0.0                      0.0  ...               0   \n",
              "...                        ...                      ...  ...             ...   \n",
              "75813                      0.0                      0.0  ...               0   \n",
              "75814                      0.0                      0.0  ...               0   \n",
              "75815                      0.0                      0.0  ...               0   \n",
              "75816                      0.0                      0.0  ...               0   \n",
              "75817                      0.0                      0.0  ...               0   \n",
              "\n",
              "       num_med_var22_ult3  num_meses_var8_ult3  num_op_var40_efect_ult1  \\\n",
              "0                       0                    0                        0   \n",
              "1                       0                    0                        0   \n",
              "2                       0                    0                        0   \n",
              "3                       0                    0                        0   \n",
              "4                       0                    0                        0   \n",
              "...                   ...                  ...                      ...   \n",
              "75813                   0                    0                        0   \n",
              "75814                   0                    0                        0   \n",
              "75815                   0                    0                        0   \n",
              "75816                   0                    0                        0   \n",
              "75817                   0                    0                        0   \n",
              "\n",
              "       num_op_var40_efect_ult3  num_op_var41_efect_ult1  \\\n",
              "0                            0                        0   \n",
              "1                            0                        0   \n",
              "2                            0                        3   \n",
              "3                            0                        0   \n",
              "4                            0                        0   \n",
              "...                        ...                      ...   \n",
              "75813                        0                        0   \n",
              "75814                        0                        0   \n",
              "75815                        0                        0   \n",
              "75816                        0                        0   \n",
              "75817                        0                        0   \n",
              "\n",
              "       num_op_var41_efect_ult3  num_op_var39_efect_ult1  \\\n",
              "0                            0                        0   \n",
              "1                            0                        0   \n",
              "2                            3                        3   \n",
              "3                            0                        0   \n",
              "4                            0                        0   \n",
              "...                        ...                      ...   \n",
              "75813                        0                        0   \n",
              "75814                        0                        0   \n",
              "75815                        0                        0   \n",
              "75816                        0                        0   \n",
              "75817                        0                        0   \n",
              "\n",
              "       num_op_var39_efect_ult3  num_reemb_var17_ult1  \n",
              "0                            0                     0  \n",
              "1                            0                     0  \n",
              "2                            3                     0  \n",
              "3                            0                     0  \n",
              "4                            0                     0  \n",
              "...                        ...                   ...  \n",
              "75813                        0                     0  \n",
              "75814                        0                     0  \n",
              "75815                        0                     0  \n",
              "75816                        0                     0  \n",
              "75817                        0                     0  \n",
              "\n",
              "[75818 rows x 43 columns]"
            ],
            "text/html": [
              "\n",
              "  <div id=\"df-1f7438d2-4d40-484d-9897-be92cc22877e\">\n",
              "    <div class=\"colab-df-container\">\n",
              "      <div>\n",
              "<style scoped>\n",
              "    .dataframe tbody tr th:only-of-type {\n",
              "        vertical-align: middle;\n",
              "    }\n",
              "\n",
              "    .dataframe tbody tr th {\n",
              "        vertical-align: top;\n",
              "    }\n",
              "\n",
              "    .dataframe thead th {\n",
              "        text-align: right;\n",
              "    }\n",
              "</style>\n",
              "<table border=\"1\" class=\"dataframe\">\n",
              "  <thead>\n",
              "    <tr style=\"text-align: right;\">\n",
              "      <th></th>\n",
              "      <th>var15</th>\n",
              "      <th>imp_op_var39_comer_ult1</th>\n",
              "      <th>imp_op_var40_efect_ult1</th>\n",
              "      <th>imp_op_var40_efect_ult3</th>\n",
              "      <th>imp_op_var41_comer_ult1</th>\n",
              "      <th>imp_op_var41_efect_ult1</th>\n",
              "      <th>imp_op_var41_efect_ult3</th>\n",
              "      <th>imp_op_var41_ult1</th>\n",
              "      <th>imp_op_var39_efect_ult1</th>\n",
              "      <th>imp_op_var39_efect_ult3</th>\n",
              "      <th>...</th>\n",
              "      <th>num_var22_ult3</th>\n",
              "      <th>num_med_var22_ult3</th>\n",
              "      <th>num_meses_var8_ult3</th>\n",
              "      <th>num_op_var40_efect_ult1</th>\n",
              "      <th>num_op_var40_efect_ult3</th>\n",
              "      <th>num_op_var41_efect_ult1</th>\n",
              "      <th>num_op_var41_efect_ult3</th>\n",
              "      <th>num_op_var39_efect_ult1</th>\n",
              "      <th>num_op_var39_efect_ult3</th>\n",
              "      <th>num_reemb_var17_ult1</th>\n",
              "    </tr>\n",
              "  </thead>\n",
              "  <tbody>\n",
              "    <tr>\n",
              "      <th>0</th>\n",
              "      <td>32</td>\n",
              "      <td>0.0</td>\n",
              "      <td>0.0</td>\n",
              "      <td>0.0</td>\n",
              "      <td>0.0</td>\n",
              "      <td>0.0</td>\n",
              "      <td>0.0</td>\n",
              "      <td>0.0</td>\n",
              "      <td>0.0</td>\n",
              "      <td>0.0</td>\n",
              "      <td>...</td>\n",
              "      <td>3</td>\n",
              "      <td>0</td>\n",
              "      <td>0</td>\n",
              "      <td>0</td>\n",
              "      <td>0</td>\n",
              "      <td>0</td>\n",
              "      <td>0</td>\n",
              "      <td>0</td>\n",
              "      <td>0</td>\n",
              "      <td>0</td>\n",
              "    </tr>\n",
              "    <tr>\n",
              "      <th>1</th>\n",
              "      <td>35</td>\n",
              "      <td>0.0</td>\n",
              "      <td>0.0</td>\n",
              "      <td>0.0</td>\n",
              "      <td>0.0</td>\n",
              "      <td>0.0</td>\n",
              "      <td>0.0</td>\n",
              "      <td>0.0</td>\n",
              "      <td>0.0</td>\n",
              "      <td>0.0</td>\n",
              "      <td>...</td>\n",
              "      <td>3</td>\n",
              "      <td>0</td>\n",
              "      <td>0</td>\n",
              "      <td>0</td>\n",
              "      <td>0</td>\n",
              "      <td>0</td>\n",
              "      <td>0</td>\n",
              "      <td>0</td>\n",
              "      <td>0</td>\n",
              "      <td>0</td>\n",
              "    </tr>\n",
              "    <tr>\n",
              "      <th>2</th>\n",
              "      <td>23</td>\n",
              "      <td>0.0</td>\n",
              "      <td>0.0</td>\n",
              "      <td>0.0</td>\n",
              "      <td>0.0</td>\n",
              "      <td>60.0</td>\n",
              "      <td>60.0</td>\n",
              "      <td>60.0</td>\n",
              "      <td>60.0</td>\n",
              "      <td>60.0</td>\n",
              "      <td>...</td>\n",
              "      <td>0</td>\n",
              "      <td>0</td>\n",
              "      <td>0</td>\n",
              "      <td>0</td>\n",
              "      <td>0</td>\n",
              "      <td>3</td>\n",
              "      <td>3</td>\n",
              "      <td>3</td>\n",
              "      <td>3</td>\n",
              "      <td>0</td>\n",
              "    </tr>\n",
              "    <tr>\n",
              "      <th>3</th>\n",
              "      <td>24</td>\n",
              "      <td>0.0</td>\n",
              "      <td>0.0</td>\n",
              "      <td>0.0</td>\n",
              "      <td>0.0</td>\n",
              "      <td>0.0</td>\n",
              "      <td>0.0</td>\n",
              "      <td>0.0</td>\n",
              "      <td>0.0</td>\n",
              "      <td>0.0</td>\n",
              "      <td>...</td>\n",
              "      <td>0</td>\n",
              "      <td>0</td>\n",
              "      <td>0</td>\n",
              "      <td>0</td>\n",
              "      <td>0</td>\n",
              "      <td>0</td>\n",
              "      <td>0</td>\n",
              "      <td>0</td>\n",
              "      <td>0</td>\n",
              "      <td>0</td>\n",
              "    </tr>\n",
              "    <tr>\n",
              "      <th>4</th>\n",
              "      <td>23</td>\n",
              "      <td>0.0</td>\n",
              "      <td>0.0</td>\n",
              "      <td>0.0</td>\n",
              "      <td>0.0</td>\n",
              "      <td>0.0</td>\n",
              "      <td>0.0</td>\n",
              "      <td>0.0</td>\n",
              "      <td>0.0</td>\n",
              "      <td>0.0</td>\n",
              "      <td>...</td>\n",
              "      <td>0</td>\n",
              "      <td>0</td>\n",
              "      <td>0</td>\n",
              "      <td>0</td>\n",
              "      <td>0</td>\n",
              "      <td>0</td>\n",
              "      <td>0</td>\n",
              "      <td>0</td>\n",
              "      <td>0</td>\n",
              "      <td>0</td>\n",
              "    </tr>\n",
              "    <tr>\n",
              "      <th>...</th>\n",
              "      <td>...</td>\n",
              "      <td>...</td>\n",
              "      <td>...</td>\n",
              "      <td>...</td>\n",
              "      <td>...</td>\n",
              "      <td>...</td>\n",
              "      <td>...</td>\n",
              "      <td>...</td>\n",
              "      <td>...</td>\n",
              "      <td>...</td>\n",
              "      <td>...</td>\n",
              "      <td>...</td>\n",
              "      <td>...</td>\n",
              "      <td>...</td>\n",
              "      <td>...</td>\n",
              "      <td>...</td>\n",
              "      <td>...</td>\n",
              "      <td>...</td>\n",
              "      <td>...</td>\n",
              "      <td>...</td>\n",
              "      <td>...</td>\n",
              "    </tr>\n",
              "    <tr>\n",
              "      <th>75813</th>\n",
              "      <td>23</td>\n",
              "      <td>0.0</td>\n",
              "      <td>0.0</td>\n",
              "      <td>0.0</td>\n",
              "      <td>0.0</td>\n",
              "      <td>0.0</td>\n",
              "      <td>0.0</td>\n",
              "      <td>0.0</td>\n",
              "      <td>0.0</td>\n",
              "      <td>0.0</td>\n",
              "      <td>...</td>\n",
              "      <td>0</td>\n",
              "      <td>0</td>\n",
              "      <td>0</td>\n",
              "      <td>0</td>\n",
              "      <td>0</td>\n",
              "      <td>0</td>\n",
              "      <td>0</td>\n",
              "      <td>0</td>\n",
              "      <td>0</td>\n",
              "      <td>0</td>\n",
              "    </tr>\n",
              "    <tr>\n",
              "      <th>75814</th>\n",
              "      <td>26</td>\n",
              "      <td>0.0</td>\n",
              "      <td>0.0</td>\n",
              "      <td>0.0</td>\n",
              "      <td>0.0</td>\n",
              "      <td>0.0</td>\n",
              "      <td>0.0</td>\n",
              "      <td>0.0</td>\n",
              "      <td>0.0</td>\n",
              "      <td>0.0</td>\n",
              "      <td>...</td>\n",
              "      <td>0</td>\n",
              "      <td>0</td>\n",
              "      <td>0</td>\n",
              "      <td>0</td>\n",
              "      <td>0</td>\n",
              "      <td>0</td>\n",
              "      <td>0</td>\n",
              "      <td>0</td>\n",
              "      <td>0</td>\n",
              "      <td>0</td>\n",
              "    </tr>\n",
              "    <tr>\n",
              "      <th>75815</th>\n",
              "      <td>24</td>\n",
              "      <td>0.0</td>\n",
              "      <td>0.0</td>\n",
              "      <td>0.0</td>\n",
              "      <td>0.0</td>\n",
              "      <td>0.0</td>\n",
              "      <td>0.0</td>\n",
              "      <td>0.0</td>\n",
              "      <td>0.0</td>\n",
              "      <td>0.0</td>\n",
              "      <td>...</td>\n",
              "      <td>0</td>\n",
              "      <td>0</td>\n",
              "      <td>0</td>\n",
              "      <td>0</td>\n",
              "      <td>0</td>\n",
              "      <td>0</td>\n",
              "      <td>0</td>\n",
              "      <td>0</td>\n",
              "      <td>0</td>\n",
              "      <td>0</td>\n",
              "    </tr>\n",
              "    <tr>\n",
              "      <th>75816</th>\n",
              "      <td>40</td>\n",
              "      <td>0.0</td>\n",
              "      <td>0.0</td>\n",
              "      <td>0.0</td>\n",
              "      <td>0.0</td>\n",
              "      <td>0.0</td>\n",
              "      <td>0.0</td>\n",
              "      <td>0.0</td>\n",
              "      <td>0.0</td>\n",
              "      <td>0.0</td>\n",
              "      <td>...</td>\n",
              "      <td>0</td>\n",
              "      <td>0</td>\n",
              "      <td>0</td>\n",
              "      <td>0</td>\n",
              "      <td>0</td>\n",
              "      <td>0</td>\n",
              "      <td>0</td>\n",
              "      <td>0</td>\n",
              "      <td>0</td>\n",
              "      <td>0</td>\n",
              "    </tr>\n",
              "    <tr>\n",
              "      <th>75817</th>\n",
              "      <td>23</td>\n",
              "      <td>0.0</td>\n",
              "      <td>0.0</td>\n",
              "      <td>0.0</td>\n",
              "      <td>0.0</td>\n",
              "      <td>0.0</td>\n",
              "      <td>0.0</td>\n",
              "      <td>0.0</td>\n",
              "      <td>0.0</td>\n",
              "      <td>0.0</td>\n",
              "      <td>...</td>\n",
              "      <td>0</td>\n",
              "      <td>0</td>\n",
              "      <td>0</td>\n",
              "      <td>0</td>\n",
              "      <td>0</td>\n",
              "      <td>0</td>\n",
              "      <td>0</td>\n",
              "      <td>0</td>\n",
              "      <td>0</td>\n",
              "      <td>0</td>\n",
              "    </tr>\n",
              "  </tbody>\n",
              "</table>\n",
              "<p>75818 rows × 43 columns</p>\n",
              "</div>\n",
              "      <button class=\"colab-df-convert\" onclick=\"convertToInteractive('df-1f7438d2-4d40-484d-9897-be92cc22877e')\"\n",
              "              title=\"Convert this dataframe to an interactive table.\"\n",
              "              style=\"display:none;\">\n",
              "        \n",
              "  <svg xmlns=\"http://www.w3.org/2000/svg\" height=\"24px\"viewBox=\"0 0 24 24\"\n",
              "       width=\"24px\">\n",
              "    <path d=\"M0 0h24v24H0V0z\" fill=\"none\"/>\n",
              "    <path d=\"M18.56 5.44l.94 2.06.94-2.06 2.06-.94-2.06-.94-.94-2.06-.94 2.06-2.06.94zm-11 1L8.5 8.5l.94-2.06 2.06-.94-2.06-.94L8.5 2.5l-.94 2.06-2.06.94zm10 10l.94 2.06.94-2.06 2.06-.94-2.06-.94-.94-2.06-.94 2.06-2.06.94z\"/><path d=\"M17.41 7.96l-1.37-1.37c-.4-.4-.92-.59-1.43-.59-.52 0-1.04.2-1.43.59L10.3 9.45l-7.72 7.72c-.78.78-.78 2.05 0 2.83L4 21.41c.39.39.9.59 1.41.59.51 0 1.02-.2 1.41-.59l7.78-7.78 2.81-2.81c.8-.78.8-2.07 0-2.86zM5.41 20L4 18.59l7.72-7.72 1.47 1.35L5.41 20z\"/>\n",
              "  </svg>\n",
              "      </button>\n",
              "      \n",
              "  <style>\n",
              "    .colab-df-container {\n",
              "      display:flex;\n",
              "      flex-wrap:wrap;\n",
              "      gap: 12px;\n",
              "    }\n",
              "\n",
              "    .colab-df-convert {\n",
              "      background-color: #E8F0FE;\n",
              "      border: none;\n",
              "      border-radius: 50%;\n",
              "      cursor: pointer;\n",
              "      display: none;\n",
              "      fill: #1967D2;\n",
              "      height: 32px;\n",
              "      padding: 0 0 0 0;\n",
              "      width: 32px;\n",
              "    }\n",
              "\n",
              "    .colab-df-convert:hover {\n",
              "      background-color: #E2EBFA;\n",
              "      box-shadow: 0px 1px 2px rgba(60, 64, 67, 0.3), 0px 1px 3px 1px rgba(60, 64, 67, 0.15);\n",
              "      fill: #174EA6;\n",
              "    }\n",
              "\n",
              "    [theme=dark] .colab-df-convert {\n",
              "      background-color: #3B4455;\n",
              "      fill: #D2E3FC;\n",
              "    }\n",
              "\n",
              "    [theme=dark] .colab-df-convert:hover {\n",
              "      background-color: #434B5C;\n",
              "      box-shadow: 0px 1px 3px 1px rgba(0, 0, 0, 0.15);\n",
              "      filter: drop-shadow(0px 1px 2px rgba(0, 0, 0, 0.3));\n",
              "      fill: #FFFFFF;\n",
              "    }\n",
              "  </style>\n",
              "\n",
              "      <script>\n",
              "        const buttonEl =\n",
              "          document.querySelector('#df-1f7438d2-4d40-484d-9897-be92cc22877e button.colab-df-convert');\n",
              "        buttonEl.style.display =\n",
              "          google.colab.kernel.accessAllowed ? 'block' : 'none';\n",
              "\n",
              "        async function convertToInteractive(key) {\n",
              "          const element = document.querySelector('#df-1f7438d2-4d40-484d-9897-be92cc22877e');\n",
              "          const dataTable =\n",
              "            await google.colab.kernel.invokeFunction('convertToInteractive',\n",
              "                                                     [key], {});\n",
              "          if (!dataTable) return;\n",
              "\n",
              "          const docLinkHtml = 'Like what you see? Visit the ' +\n",
              "            '<a target=\"_blank\" href=https://colab.research.google.com/notebooks/data_table.ipynb>data table notebook</a>'\n",
              "            + ' to learn more about interactive tables.';\n",
              "          element.innerHTML = '';\n",
              "          dataTable['output_type'] = 'display_data';\n",
              "          await google.colab.output.renderOutput(dataTable, element);\n",
              "          const docLink = document.createElement('div');\n",
              "          docLink.innerHTML = docLinkHtml;\n",
              "          element.appendChild(docLink);\n",
              "        }\n",
              "      </script>\n",
              "    </div>\n",
              "  </div>\n",
              "  "
            ]
          },
          "metadata": {},
          "execution_count": 148
        }
      ]
    },
    {
      "cell_type": "code",
      "source": [
        "X_dtest = customer_data_test[t_idx].values[:,0:42]"
      ],
      "metadata": {
        "id": "Izl9P8NSfoHr"
      },
      "execution_count": 44,
      "outputs": []
    },
    {
      "cell_type": "code",
      "source": [
        "tid = customer_data_test['ID'].to_numpy() \n"
      ],
      "metadata": {
        "id": "XtwzjsEh-urm"
      },
      "execution_count": 186,
      "outputs": []
    },
    {
      "cell_type": "markdown",
      "source": [
        "Function to save the results:"
      ],
      "metadata": {
        "id": "Hp5PrkG11UB0"
      }
    },
    {
      "cell_type": "code",
      "source": [
        "import csv\n",
        "\n",
        "def create_otp(result, name='result.csv'):\n",
        "  header = ['ID', 'TARGET']\n",
        "\n",
        "  rm = result[:, 0]\n",
        "\n",
        "  with open(name, 'w') as file:\n",
        "    writer = csv.writer(file)    \n",
        "    writer.writerow(header)\n",
        "\n",
        "    for i in range(rm.shape[0]):      \n",
        "      l = str(tid[i]) + '-' + str(rm[i])\n",
        "      entries = l.split('-')         \n",
        "      writer.writerow(entries)\n"
      ],
      "metadata": {
        "id": "CQC9gsEyskk2"
      },
      "execution_count": 188,
      "outputs": []
    },
    {
      "cell_type": "markdown",
      "source": [
        "Definition of the split function:"
      ],
      "metadata": {
        "id": "0hZr8JpvuKcJ"
      }
    },
    {
      "cell_type": "code",
      "source": [
        "import numpy as np\n",
        "\n",
        "def split_train_test(data, test_ratio):\n",
        "    shuffled_indices = np.random.permutation(len(data))\n",
        "    test_set_size = int(len(data) * test_ratio)\n",
        "    test_indices = shuffled_indices[:test_set_size]\n",
        "    train_indices = shuffled_indices[test_set_size:]\n",
        "    return data.iloc[train_indices], data.iloc[test_indices]\n",
        "np.random.seed(42)"
      ],
      "metadata": {
        "id": "0BfUy_T976y5"
      },
      "execution_count": 189,
      "outputs": []
    },
    {
      "cell_type": "code",
      "source": [
        "train_set, test_set = split_train_test(customer_data[idx], 0.2)"
      ],
      "metadata": {
        "id": "oYVxZMe98k4L"
      },
      "execution_count": 190,
      "outputs": []
    },
    {
      "cell_type": "code",
      "source": [
        "X_train = train_set.values[:,0:42]\n",
        "X_validation  = test_set.values[:,0:42]"
      ],
      "metadata": {
        "id": "xxkxTL6E8nDQ"
      },
      "execution_count": 191,
      "outputs": []
    },
    {
      "cell_type": "code",
      "source": [
        "y_train = train_set.values[:,43]\n",
        "y_validation  = test_set.values[:,43]"
      ],
      "metadata": {
        "id": "ZsLpyJBP8to1"
      },
      "execution_count": 192,
      "outputs": []
    },
    {
      "cell_type": "code",
      "source": [
        "from collections import Counter\n",
        "print(f\"Training target statistics: {Counter(y_train)}\")\n",
        "print(f\"Testing target statistics: {Counter(y_validation)}\")"
      ],
      "metadata": {
        "colab": {
          "base_uri": "https://localhost:8080/"
        },
        "id": "F0CrwtLivW1R",
        "outputId": "0d3fa503-6e32-4554-960a-d1342c5db532"
      },
      "execution_count": 193,
      "outputs": [
        {
          "output_type": "stream",
          "name": "stdout",
          "text": [
            "Training target statistics: Counter({0.0: 58415, 1.0: 2401})\n",
            "Testing target statistics: Counter({0.0: 14597, 1.0: 607})\n"
          ]
        }
      ]
    },
    {
      "cell_type": "markdown",
      "source": [
        "#3. ANN Model"
      ],
      "metadata": {
        "id": "gZVfKHK041f8"
      }
    },
    {
      "cell_type": "code",
      "source": [
        "import tensorflow as tf\n",
        "from tensorflow import keras"
      ],
      "metadata": {
        "id": "yAEKD2GJ811Q"
      },
      "execution_count": 194,
      "outputs": []
    },
    {
      "cell_type": "markdown",
      "source": [
        "Definiton of the model:"
      ],
      "metadata": {
        "id": "KHxkXxgOuDz7"
      }
    },
    {
      "cell_type": "code",
      "source": [
        "model = keras.models.Sequential()\n",
        "model.add(keras.layers.Flatten(input_shape=[42]))\n",
        "\n",
        "#1st fully connected Neural Network hidden-layer\n",
        "model.add(keras.layers.Dense(160))\n",
        "model.add(keras.layers.Dropout(0.1))\n",
        "model.add(keras.layers.Activation('sigmoid'))\n",
        "\n",
        "#2nd fully connected Neural Network hidden-layer\n",
        "model.add(keras.layers.Dense(40))\n",
        "model.add(keras.layers.Dropout(0.1))\n",
        "model.add(keras.layers.Activation('relu'))\n",
        "\n",
        "#Output layer\n",
        "model.add(keras.layers.Dense(1, activation=\"sigmoid\"))\n",
        "model.summary()"
      ],
      "metadata": {
        "colab": {
          "base_uri": "https://localhost:8080/"
        },
        "id": "4qJVWd3a85P6",
        "outputId": "71a6597c-2dcf-45c8-99a4-c2969ac6ac9a"
      },
      "execution_count": 156,
      "outputs": [
        {
          "output_type": "stream",
          "name": "stdout",
          "text": [
            "Model: \"sequential_2\"\n",
            "_________________________________________________________________\n",
            " Layer (type)                Output Shape              Param #   \n",
            "=================================================================\n",
            " flatten_2 (Flatten)         (None, 42)                0         \n",
            "                                                                 \n",
            " dense_6 (Dense)             (None, 160)               6880      \n",
            "                                                                 \n",
            " dropout_4 (Dropout)         (None, 160)               0         \n",
            "                                                                 \n",
            " activation_4 (Activation)   (None, 160)               0         \n",
            "                                                                 \n",
            " dense_7 (Dense)             (None, 40)                6440      \n",
            "                                                                 \n",
            " dropout_5 (Dropout)         (None, 40)                0         \n",
            "                                                                 \n",
            " activation_5 (Activation)   (None, 40)                0         \n",
            "                                                                 \n",
            " dense_8 (Dense)             (None, 1)                 41        \n",
            "                                                                 \n",
            "=================================================================\n",
            "Total params: 13,361\n",
            "Trainable params: 13,361\n",
            "Non-trainable params: 0\n",
            "_________________________________________________________________\n"
          ]
        }
      ]
    },
    {
      "cell_type": "markdown",
      "source": [
        "Optimizer:"
      ],
      "metadata": {
        "id": "xFsybd4DuU5z"
      }
    },
    {
      "cell_type": "code",
      "source": [
        "sgd = keras.optimizers.SGD(learning_rate=0.05, decay=1e-6, momentum=0.9, nesterov=\"True\") "
      ],
      "metadata": {
        "id": "F_MxiOY69OOw"
      },
      "execution_count": 157,
      "outputs": []
    },
    {
      "cell_type": "markdown",
      "source": [
        "Compilation of the model:"
      ],
      "metadata": {
        "id": "ieGK2Ktlub6a"
      }
    },
    {
      "cell_type": "code",
      "source": [
        "model.compile(loss=\"binary_crossentropy\", optimizer=\"sgd\", metrics=[\"accuracy\"])\n",
        "epch = 20"
      ],
      "metadata": {
        "id": "AmdgBUKD9YjA"
      },
      "execution_count": 158,
      "outputs": []
    },
    {
      "cell_type": "markdown",
      "source": [
        "#4. Unbalanced test"
      ],
      "metadata": {
        "id": "l8jc8iA-47HQ"
      }
    },
    {
      "cell_type": "markdown",
      "source": [
        "Training of the model with unbalanced dataset:"
      ],
      "metadata": {
        "id": "COJAc2f5uwRx"
      }
    },
    {
      "cell_type": "code",
      "source": [
        "history = model.fit(X_train, y_train, epochs=epch, validation_data=(X_validation, y_validation))"
      ],
      "metadata": {
        "colab": {
          "base_uri": "https://localhost:8080/"
        },
        "id": "iX3rftCV9hWO",
        "outputId": "a9236260-8722-4a63-8a46-c8cb49bf8f5d"
      },
      "execution_count": 195,
      "outputs": [
        {
          "output_type": "stream",
          "name": "stdout",
          "text": [
            "Epoch 1/20\n",
            "1901/1901 [==============================] - 5s 2ms/step - loss: 0.1549 - accuracy: 0.9591 - val_loss: 0.1525 - val_accuracy: 0.9601\n",
            "Epoch 2/20\n",
            "1901/1901 [==============================] - 4s 2ms/step - loss: 0.1485 - accuracy: 0.9605 - val_loss: 0.1518 - val_accuracy: 0.9601\n",
            "Epoch 3/20\n",
            "1901/1901 [==============================] - 4s 2ms/step - loss: 0.1488 - accuracy: 0.9605 - val_loss: 0.1504 - val_accuracy: 0.9601\n",
            "Epoch 4/20\n",
            "1901/1901 [==============================] - 4s 2ms/step - loss: 0.1482 - accuracy: 0.9605 - val_loss: 0.1503 - val_accuracy: 0.9601\n",
            "Epoch 5/20\n",
            "1901/1901 [==============================] - 4s 2ms/step - loss: 0.1485 - accuracy: 0.9605 - val_loss: 0.1497 - val_accuracy: 0.9601\n",
            "Epoch 6/20\n",
            "1901/1901 [==============================] - 4s 2ms/step - loss: 0.1477 - accuracy: 0.9605 - val_loss: 0.1521 - val_accuracy: 0.9601\n",
            "Epoch 7/20\n",
            "1901/1901 [==============================] - 4s 2ms/step - loss: 0.1472 - accuracy: 0.9605 - val_loss: 0.1494 - val_accuracy: 0.9601\n",
            "Epoch 8/20\n",
            "1901/1901 [==============================] - 5s 3ms/step - loss: 0.1476 - accuracy: 0.9605 - val_loss: 0.1496 - val_accuracy: 0.9601\n",
            "Epoch 9/20\n",
            "1901/1901 [==============================] - 5s 3ms/step - loss: 0.1477 - accuracy: 0.9605 - val_loss: 0.1498 - val_accuracy: 0.9601\n",
            "Epoch 10/20\n",
            "1901/1901 [==============================] - 4s 2ms/step - loss: 0.1473 - accuracy: 0.9605 - val_loss: 0.1495 - val_accuracy: 0.9601\n",
            "Epoch 11/20\n",
            "1901/1901 [==============================] - 5s 2ms/step - loss: 0.1477 - accuracy: 0.9605 - val_loss: 0.1506 - val_accuracy: 0.9601\n",
            "Epoch 12/20\n",
            "1901/1901 [==============================] - 4s 2ms/step - loss: 0.1472 - accuracy: 0.9605 - val_loss: 0.1510 - val_accuracy: 0.9601\n",
            "Epoch 13/20\n",
            "1901/1901 [==============================] - 6s 3ms/step - loss: 0.1471 - accuracy: 0.9605 - val_loss: 0.1497 - val_accuracy: 0.9601\n",
            "Epoch 14/20\n",
            "1901/1901 [==============================] - 5s 2ms/step - loss: 0.1470 - accuracy: 0.9605 - val_loss: 0.1490 - val_accuracy: 0.9601\n",
            "Epoch 15/20\n",
            "1901/1901 [==============================] - 5s 2ms/step - loss: 0.1472 - accuracy: 0.9605 - val_loss: 0.1497 - val_accuracy: 0.9601\n",
            "Epoch 16/20\n",
            "1901/1901 [==============================] - 5s 2ms/step - loss: 0.1468 - accuracy: 0.9605 - val_loss: 0.1502 - val_accuracy: 0.9601\n",
            "Epoch 17/20\n",
            "1901/1901 [==============================] - 4s 2ms/step - loss: 0.1474 - accuracy: 0.9605 - val_loss: 0.1501 - val_accuracy: 0.9601\n",
            "Epoch 18/20\n",
            "1901/1901 [==============================] - 4s 2ms/step - loss: 0.1468 - accuracy: 0.9605 - val_loss: 0.1502 - val_accuracy: 0.9601\n",
            "Epoch 19/20\n",
            "1901/1901 [==============================] - 4s 2ms/step - loss: 0.1469 - accuracy: 0.9605 - val_loss: 0.1497 - val_accuracy: 0.9601\n",
            "Epoch 20/20\n",
            "1901/1901 [==============================] - 4s 2ms/step - loss: 0.1472 - accuracy: 0.9605 - val_loss: 0.1497 - val_accuracy: 0.9601\n"
          ]
        }
      ]
    },
    {
      "cell_type": "code",
      "source": [
        "y_proba = model.predict(X_validation)"
      ],
      "metadata": {
        "id": "d9_scUbI-h3g"
      },
      "execution_count": 196,
      "outputs": []
    },
    {
      "cell_type": "code",
      "source": [
        "from sklearn.metrics import confusion_matrix\n",
        "from sklearn.metrics import roc_curve\n",
        "import seaborn as sns"
      ],
      "metadata": {
        "id": "8zsbes8L-qQq"
      },
      "execution_count": 197,
      "outputs": []
    },
    {
      "cell_type": "code",
      "source": [
        "fpr, tpr, thresholds = roc_curve(y_validation,y_proba)"
      ],
      "metadata": {
        "id": "4KfsNmik-_Xm"
      },
      "execution_count": 198,
      "outputs": []
    },
    {
      "cell_type": "code",
      "source": [
        "import matplotlib.pyplot as plt\n",
        "def plot_roc_curve(fpr, tpr, label=None):\n",
        "  plt.plot(fpr, tpr, linewidth=2, label=label)\n",
        "  plt.plot([0, 1], [0, 1], 'k--') # Dashed diagonal\n",
        "\n",
        "plot_roc_curve(fpr, tpr)\n",
        "plt.show()"
      ],
      "metadata": {
        "colab": {
          "base_uri": "https://localhost:8080/",
          "height": 265
        },
        "id": "VCvVabJX_Bha",
        "outputId": "c6e11552-6e94-4cf0-b742-d4ec68655c1f"
      },
      "execution_count": 199,
      "outputs": [
        {
          "output_type": "display_data",
          "data": {
            "text/plain": [
              "<Figure size 432x288 with 1 Axes>"
            ],
            "image/png": "[encoded data removed]"
          },
          "metadata": {
            "needs_background": "light"
          }
        }
      ]
    },
    {
      "cell_type": "code",
      "source": [
        "from sklearn.metrics import roc_auc_score\n",
        "roc_auc_score(y_validation, y_proba)"
      ],
      "metadata": {
        "colab": {
          "base_uri": "https://localhost:8080/"
        },
        "id": "P-GQ6PD9_NV4",
        "outputId": "ecbbe0d9-1104-4a16-830d-f4f6c45915b3"
      },
      "execution_count": 200,
      "outputs": [
        {
          "output_type": "execute_result",
          "data": {
            "text/plain": [
              "0.768081816816188"
            ]
          },
          "metadata": {},
          "execution_count": 200
        }
      ]
    },
    {
      "cell_type": "code",
      "source": [
        "cf = confusion_matrix(y_validation, np.round(y_proba))\n",
        "ax = plt.subplots()\n",
        "ax = sns.heatmap(cf/np.sum(cf), annot=True, fmt='.2%', cmap='Blues')\n",
        "ax.set_title('Confusion matrix\\n\\n');\n",
        "ax.xaxis.set_ticklabels(['True','False'])\n",
        "ax.yaxis.set_ticklabels(['True','False'])\n",
        "plt.show()"
      ],
      "metadata": {
        "colab": {
          "base_uri": "https://localhost:8080/",
          "height": 311
        },
        "id": "0JzbkJSIGJTR",
        "outputId": "a1ae74f9-1802-41e9-a510-a04d73a15a64"
      },
      "execution_count": 201,
      "outputs": [
        {
          "output_type": "display_data",
          "data": {
            "text/plain": [
              "<Figure size 432x288 with 2 Axes>"
            ],
            "image/png": "[encoded data removed]"
          },
          "metadata": {
            "needs_background": "light"
          }
        }
      ]
    },
    {
      "cell_type": "markdown",
      "source": [
        "Results of model with unbalanced dataset:"
      ],
      "metadata": {
        "id": "gpyRciaYhapH"
      }
    },
    {
      "cell_type": "code",
      "source": [
        "RM1 = model.predict(X_dtest)\n",
        "create_otp(RM1, name='Santander_Customer_Satisfaction_unbalanced.csv')"
      ],
      "metadata": {
        "id": "zxWPZjDEgSdq"
      },
      "execution_count": 202,
      "outputs": []
    },
    {
      "cell_type": "markdown",
      "source": [
        "#5. Oversampled Test"
      ],
      "metadata": {
        "id": "u4FBHdIA5P7T"
      }
    },
    {
      "cell_type": "markdown",
      "source": [
        "Training of the model with Oversampler:"
      ],
      "metadata": {
        "id": "42lLwm0vvb27"
      }
    },
    {
      "cell_type": "code",
      "source": [
        "from imblearn.over_sampling import RandomOverSampler\n",
        "over_sampler = RandomOverSampler(random_state=42)\n",
        "X_res, y_res = over_sampler.fit_resample(X_train, y_train)\n",
        "print(f\"Training target statistics: {Counter(y_res)}\")\n",
        "print(f\"Testing target statistics: {Counter(y_validation)}\")"
      ],
      "metadata": {
        "id": "NobxDJU2rZpp",
        "colab": {
          "base_uri": "https://localhost:8080/"
        },
        "outputId": "63bcf148-ca89-4b3d-9b51-c312752652f8"
      },
      "execution_count": 203,
      "outputs": [
        {
          "output_type": "stream",
          "name": "stdout",
          "text": [
            "Training target statistics: Counter({0.0: 58415, 1.0: 58415})\n",
            "Testing target statistics: Counter({0.0: 14597, 1.0: 607})\n"
          ]
        }
      ]
    },
    {
      "cell_type": "code",
      "source": [
        "history = model.fit(X_res, y_res, epochs=epch, validation_data=(X_validation, y_validation))"
      ],
      "metadata": {
        "id": "Tj-hPIaurdCg",
        "colab": {
          "base_uri": "https://localhost:8080/"
        },
        "outputId": "78c6585d-6e8d-4ac9-b026-f87e1a27a33e"
      },
      "execution_count": 204,
      "outputs": [
        {
          "output_type": "stream",
          "name": "stdout",
          "text": [
            "Epoch 1/20\n",
            "3651/3651 [==============================] - 8s 2ms/step - loss: 0.5732 - accuracy: 0.7074 - val_loss: 0.5934 - val_accuracy: 0.7435\n",
            "Epoch 2/20\n",
            "3651/3651 [==============================] - 8s 2ms/step - loss: 0.5650 - accuracy: 0.7154 - val_loss: 0.5395 - val_accuracy: 0.7597\n",
            "Epoch 3/20\n",
            "3651/3651 [==============================] - 8s 2ms/step - loss: 0.5637 - accuracy: 0.7167 - val_loss: 0.5283 - val_accuracy: 0.7723\n",
            "Epoch 4/20\n",
            "3651/3651 [==============================] - 9s 2ms/step - loss: 0.5638 - accuracy: 0.7166 - val_loss: 0.5639 - val_accuracy: 0.7478\n",
            "Epoch 5/20\n",
            "3651/3651 [==============================] - 8s 2ms/step - loss: 0.5641 - accuracy: 0.7157 - val_loss: 0.5579 - val_accuracy: 0.7657\n",
            "Epoch 6/20\n",
            "3651/3651 [==============================] - 8s 2ms/step - loss: 0.5630 - accuracy: 0.7178 - val_loss: 0.5565 - val_accuracy: 0.7537\n",
            "Epoch 7/20\n",
            "3651/3651 [==============================] - 8s 2ms/step - loss: 0.5638 - accuracy: 0.7166 - val_loss: 0.5422 - val_accuracy: 0.7607\n",
            "Epoch 8/20\n",
            "3651/3651 [==============================] - 8s 2ms/step - loss: 0.5629 - accuracy: 0.7170 - val_loss: 0.5488 - val_accuracy: 0.7539\n",
            "Epoch 9/20\n",
            "3651/3651 [==============================] - 8s 2ms/step - loss: 0.5629 - accuracy: 0.7178 - val_loss: 0.5939 - val_accuracy: 0.7290\n",
            "Epoch 10/20\n",
            "3651/3651 [==============================] - 8s 2ms/step - loss: 0.5621 - accuracy: 0.7171 - val_loss: 0.6382 - val_accuracy: 0.7091\n",
            "Epoch 11/20\n",
            "3651/3651 [==============================] - 8s 2ms/step - loss: 0.5616 - accuracy: 0.7179 - val_loss: 0.5856 - val_accuracy: 0.7411\n",
            "Epoch 12/20\n",
            "3651/3651 [==============================] - 8s 2ms/step - loss: 0.5616 - accuracy: 0.7176 - val_loss: 0.5531 - val_accuracy: 0.7514\n",
            "Epoch 13/20\n",
            "3651/3651 [==============================] - 8s 2ms/step - loss: 0.5619 - accuracy: 0.7178 - val_loss: 0.5430 - val_accuracy: 0.7566\n",
            "Epoch 14/20\n",
            "3651/3651 [==============================] - 8s 2ms/step - loss: 0.5618 - accuracy: 0.7180 - val_loss: 0.5715 - val_accuracy: 0.7418\n",
            "Epoch 15/20\n",
            "3651/3651 [==============================] - 8s 2ms/step - loss: 0.5617 - accuracy: 0.7181 - val_loss: 0.6169 - val_accuracy: 0.7056\n",
            "Epoch 16/20\n",
            "3651/3651 [==============================] - 8s 2ms/step - loss: 0.5616 - accuracy: 0.7172 - val_loss: 0.5452 - val_accuracy: 0.7559\n",
            "Epoch 17/20\n",
            "3651/3651 [==============================] - 8s 2ms/step - loss: 0.5622 - accuracy: 0.7172 - val_loss: 0.5837 - val_accuracy: 0.7586\n",
            "Epoch 18/20\n",
            "3651/3651 [==============================] - 8s 2ms/step - loss: 0.5613 - accuracy: 0.7167 - val_loss: 0.6076 - val_accuracy: 0.7287\n",
            "Epoch 19/20\n",
            "3651/3651 [==============================] - 8s 2ms/step - loss: 0.5612 - accuracy: 0.7188 - val_loss: 0.5790 - val_accuracy: 0.7462\n",
            "Epoch 20/20\n",
            "3651/3651 [==============================] - 8s 2ms/step - loss: 0.5600 - accuracy: 0.7189 - val_loss: 0.5536 - val_accuracy: 0.7497\n"
          ]
        }
      ]
    },
    {
      "cell_type": "code",
      "source": [
        "y_proba = model.predict(X_validation)\n",
        "fpr, tpr, thresholds = roc_curve(y_validation,y_proba)\n",
        "plot_roc_curve(fpr, tpr)\n",
        "plt.show()"
      ],
      "metadata": {
        "id": "N2C6a7wJri6n",
        "colab": {
          "base_uri": "https://localhost:8080/",
          "height": 265
        },
        "outputId": "e72a557b-c823-44dc-bbcb-7e0048623f70"
      },
      "execution_count": 205,
      "outputs": [
        {
          "output_type": "display_data",
          "data": {
            "text/plain": [
              "<Figure size 432x288 with 1 Axes>"
            ],
            "image/png": "[encoded data removed]"
          },
          "metadata": {
            "needs_background": "light"
          }
        }
      ]
    },
    {
      "cell_type": "code",
      "source": [
        "roc_auc_score(y_validation, y_proba)"
      ],
      "metadata": {
        "id": "aSveWZDarjlz",
        "colab": {
          "base_uri": "https://localhost:8080/"
        },
        "outputId": "d1f66d92-6679-48e1-8548-d8f460bcb6b6"
      },
      "execution_count": 206,
      "outputs": [
        {
          "output_type": "execute_result",
          "data": {
            "text/plain": [
              "0.7716925540092586"
            ]
          },
          "metadata": {},
          "execution_count": 206
        }
      ]
    },
    {
      "cell_type": "code",
      "source": [
        "cf = confusion_matrix(y_validation, np.round(y_proba))\n",
        "ax = plt.subplots()\n",
        "ax = sns.heatmap(cf/np.sum(cf), annot=True, fmt='.2%', cmap='Blues')\n",
        "ax.set_title('Confusion matrix\\n\\n');\n",
        "ax.xaxis.set_ticklabels(['True','False'])\n",
        "ax.yaxis.set_ticklabels(['True','False'])\n",
        "plt.show()"
      ],
      "metadata": {
        "id": "9MAqXcd0ru_w",
        "colab": {
          "base_uri": "https://localhost:8080/",
          "height": 311
        },
        "outputId": "5cd3c825-d711-4878-c819-df3bfc21f73c"
      },
      "execution_count": 207,
      "outputs": [
        {
          "output_type": "display_data",
          "data": {
            "text/plain": [
              "<Figure size 432x288 with 2 Axes>"
            ],
            "image/png": "[encoded data removed]"
          },
          "metadata": {
            "needs_background": "light"
          }
        }
      ]
    },
    {
      "cell_type": "code",
      "source": [
        "print(f\"Training target statistics: {Counter(y_res)}\")\n",
        "print(f\"Testing target statistics: {Counter(y_validation)}\")"
      ],
      "metadata": {
        "colab": {
          "base_uri": "https://localhost:8080/"
        },
        "id": "G7YayqurypvW",
        "outputId": "ced62b88-2f30-49aa-c8fd-3ebd4b477512"
      },
      "execution_count": 208,
      "outputs": [
        {
          "output_type": "stream",
          "name": "stdout",
          "text": [
            "Training target statistics: Counter({0.0: 58415, 1.0: 58415})\n",
            "Testing target statistics: Counter({0.0: 14597, 1.0: 607})\n"
          ]
        }
      ]
    },
    {
      "cell_type": "markdown",
      "source": [
        "Results of the model with Oversampler:"
      ],
      "metadata": {
        "id": "Fh73w7qDitfr"
      }
    },
    {
      "cell_type": "code",
      "source": [
        "RM2 = model.predict(X_dtest) \n",
        "create_otp(RM2, name='Santander_Customer_Satisfaction_oversampled.csv')"
      ],
      "metadata": {
        "id": "E-h8vzGpifXf"
      },
      "execution_count": 209,
      "outputs": []
    },
    {
      "cell_type": "markdown",
      "source": [
        "#6. Undersampled Test"
      ],
      "metadata": {
        "id": "-LgKVaHO5Us-"
      }
    },
    {
      "cell_type": "markdown",
      "source": [
        "Training of the model with Undersampler:"
      ],
      "metadata": {
        "id": "Pz_obCyQwEst"
      }
    },
    {
      "cell_type": "code",
      "source": [
        "from imblearn.under_sampling import RandomUnderSampler\n",
        "\n",
        "under_sampler = RandomUnderSampler(random_state=42)\n",
        "X_res, y_res = under_sampler.fit_resample(X_train, y_train)\n",
        "print(f\"Training target statistics: {Counter(y_res)}\")\n",
        "print(f\"Testing target statistics: {Counter(y_validation)}\")"
      ],
      "metadata": {
        "id": "IWmRjOM3r0QQ",
        "colab": {
          "base_uri": "https://localhost:8080/"
        },
        "outputId": "d4f0fc1d-edae-40d7-c592-e809242bf58d"
      },
      "execution_count": 210,
      "outputs": [
        {
          "output_type": "stream",
          "name": "stdout",
          "text": [
            "Training target statistics: Counter({0.0: 2401, 1.0: 2401})\n",
            "Testing target statistics: Counter({0.0: 14597, 1.0: 607})\n"
          ]
        }
      ]
    },
    {
      "cell_type": "code",
      "source": [
        "history = model.fit(X_res, y_res, epochs=epch, validation_data=(X_validation, y_validation))"
      ],
      "metadata": {
        "id": "sYtMEhEWr1Dp",
        "colab": {
          "base_uri": "https://localhost:8080/"
        },
        "outputId": "f6adbddd-5c18-41b7-eace-15944c2f5325"
      },
      "execution_count": 211,
      "outputs": [
        {
          "output_type": "stream",
          "name": "stdout",
          "text": [
            "Epoch 1/20\n",
            "151/151 [==============================] - 1s 6ms/step - loss: 0.5574 - accuracy: 0.7234 - val_loss: 0.5866 - val_accuracy: 0.7281\n",
            "Epoch 2/20\n",
            "151/151 [==============================] - 1s 6ms/step - loss: 0.5533 - accuracy: 0.7276 - val_loss: 0.5467 - val_accuracy: 0.7396\n",
            "Epoch 3/20\n",
            "151/151 [==============================] - 1s 6ms/step - loss: 0.5517 - accuracy: 0.7253 - val_loss: 0.5416 - val_accuracy: 0.7522\n",
            "Epoch 4/20\n",
            "151/151 [==============================] - 1s 6ms/step - loss: 0.5568 - accuracy: 0.7266 - val_loss: 0.5352 - val_accuracy: 0.7669\n",
            "Epoch 5/20\n",
            "151/151 [==============================] - 1s 6ms/step - loss: 0.5555 - accuracy: 0.7284 - val_loss: 0.6770 - val_accuracy: 0.6108\n",
            "Epoch 6/20\n",
            "151/151 [==============================] - 1s 6ms/step - loss: 0.5556 - accuracy: 0.7239 - val_loss: 0.7030 - val_accuracy: 0.7201\n",
            "Epoch 7/20\n",
            "151/151 [==============================] - 1s 6ms/step - loss: 0.5649 - accuracy: 0.7276 - val_loss: 0.7337 - val_accuracy: 0.5495\n",
            "Epoch 8/20\n",
            "151/151 [==============================] - 1s 6ms/step - loss: 0.5554 - accuracy: 0.7270 - val_loss: 0.5487 - val_accuracy: 0.7651\n",
            "Epoch 9/20\n",
            "151/151 [==============================] - 1s 6ms/step - loss: 0.5556 - accuracy: 0.7251 - val_loss: 0.5282 - val_accuracy: 0.7649\n",
            "Epoch 10/20\n",
            "151/151 [==============================] - 1s 6ms/step - loss: 0.5536 - accuracy: 0.7301 - val_loss: 0.6070 - val_accuracy: 0.7329\n",
            "Epoch 11/20\n",
            "151/151 [==============================] - 1s 6ms/step - loss: 0.5553 - accuracy: 0.7249 - val_loss: 0.5724 - val_accuracy: 0.7593\n",
            "Epoch 12/20\n",
            "151/151 [==============================] - 1s 6ms/step - loss: 0.5549 - accuracy: 0.7259 - val_loss: 0.5831 - val_accuracy: 0.7435\n",
            "Epoch 13/20\n",
            "151/151 [==============================] - 1s 6ms/step - loss: 0.5554 - accuracy: 0.7264 - val_loss: 0.5370 - val_accuracy: 0.7709\n",
            "Epoch 14/20\n",
            "151/151 [==============================] - 1s 6ms/step - loss: 0.5524 - accuracy: 0.7241 - val_loss: 0.5770 - val_accuracy: 0.7586\n",
            "Epoch 15/20\n",
            "151/151 [==============================] - 1s 6ms/step - loss: 0.5536 - accuracy: 0.7257 - val_loss: 0.4772 - val_accuracy: 0.8004\n",
            "Epoch 16/20\n",
            "151/151 [==============================] - 1s 6ms/step - loss: 0.5545 - accuracy: 0.7257 - val_loss: 0.5649 - val_accuracy: 0.7676\n",
            "Epoch 17/20\n",
            "151/151 [==============================] - 1s 6ms/step - loss: 0.5549 - accuracy: 0.7237 - val_loss: 0.5973 - val_accuracy: 0.7536\n",
            "Epoch 18/20\n",
            "151/151 [==============================] - 1s 6ms/step - loss: 0.5522 - accuracy: 0.7291 - val_loss: 0.5667 - val_accuracy: 0.7381\n",
            "Epoch 19/20\n",
            "151/151 [==============================] - 1s 6ms/step - loss: 0.5529 - accuracy: 0.7291 - val_loss: 0.5425 - val_accuracy: 0.7575\n",
            "Epoch 20/20\n",
            "151/151 [==============================] - 1s 6ms/step - loss: 0.5533 - accuracy: 0.7247 - val_loss: 0.5365 - val_accuracy: 0.7724\n"
          ]
        }
      ]
    },
    {
      "cell_type": "code",
      "source": [
        "y_proba = model.predict(X_validation)\n",
        "fpr, tpr, thresholds = roc_curve(y_validation,y_proba)\n",
        "plot_roc_curve(fpr, tpr)\n",
        "plt.show()"
      ],
      "metadata": {
        "id": "Ilv5flI8r4lU",
        "colab": {
          "base_uri": "https://localhost:8080/",
          "height": 265
        },
        "outputId": "7977c740-b0d0-4dca-fc22-28a455bc6bdd"
      },
      "execution_count": 212,
      "outputs": [
        {
          "output_type": "display_data",
          "data": {
            "text/plain": [
              "<Figure size 432x288 with 1 Axes>"
            ],
            "image/png": "[encoded data removed]"
          },
          "metadata": {
            "needs_background": "light"
          }
        }
      ]
    },
    {
      "cell_type": "code",
      "source": [
        "roc_auc_score(y_validation, y_proba)"
      ],
      "metadata": {
        "id": "uRutIDv2r7J_",
        "colab": {
          "base_uri": "https://localhost:8080/"
        },
        "outputId": "780873ea-c62e-4013-9c99-8f27a71eefff"
      },
      "execution_count": 213,
      "outputs": [
        {
          "output_type": "execute_result",
          "data": {
            "text/plain": [
              "0.7743330731112066"
            ]
          },
          "metadata": {},
          "execution_count": 213
        }
      ]
    },
    {
      "cell_type": "code",
      "source": [
        "cf = confusion_matrix(y_validation, np.round(y_proba))\n",
        "ax = plt.subplots()\n",
        "ax = sns.heatmap(cf/np.sum(cf), annot=True, fmt='.2%', cmap='Blues')\n",
        "ax.set_title('Confusion matrix\\n\\n');\n",
        "ax.xaxis.set_ticklabels(['True','False'])\n",
        "ax.yaxis.set_ticklabels(['True','False'])\n",
        "plt.show()"
      ],
      "metadata": {
        "id": "sdFAn3E3sCFV",
        "colab": {
          "base_uri": "https://localhost:8080/",
          "height": 311
        },
        "outputId": "50089090-37eb-4fcd-8df6-083215d325e9"
      },
      "execution_count": 214,
      "outputs": [
        {
          "output_type": "display_data",
          "data": {
            "text/plain": [
              "<Figure size 432x288 with 2 Axes>"
            ],
            "image/png": "[encoded data removed]"
          },
          "metadata": {
            "needs_background": "light"
          }
        }
      ]
    },
    {
      "cell_type": "code",
      "source": [
        "print(f\"Training target statistics: {Counter(y_res)}\")\n",
        "print(f\"Testing target statistics: {Counter(y_validation)}\")"
      ],
      "metadata": {
        "colab": {
          "base_uri": "https://localhost:8080/"
        },
        "id": "AObz4L39zAua",
        "outputId": "ba206af8-da1b-4dc2-cf57-3faec60f4892"
      },
      "execution_count": 215,
      "outputs": [
        {
          "output_type": "stream",
          "name": "stdout",
          "text": [
            "Training target statistics: Counter({0.0: 2401, 1.0: 2401})\n",
            "Testing target statistics: Counter({0.0: 14597, 1.0: 607})\n"
          ]
        }
      ]
    },
    {
      "cell_type": "markdown",
      "source": [
        "Results of the model with Undersampler:"
      ],
      "metadata": {
        "id": "bKSREclZjfqK"
      }
    },
    {
      "cell_type": "code",
      "source": [
        "RM3 = model.predict(X_dtest) \n",
        "create_otp(RM3,name='Santander_Customer_Satisfaction_undersampled.csv')"
      ],
      "metadata": {
        "id": "aXiA5otnjh4Q"
      },
      "execution_count": 216,
      "outputs": []
    }
  ]
}