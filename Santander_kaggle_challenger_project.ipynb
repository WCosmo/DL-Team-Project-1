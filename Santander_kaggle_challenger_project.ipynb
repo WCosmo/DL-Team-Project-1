{
  "nbformat": 4,
  "nbformat_minor": 0,
  "metadata": {
    "colab": {
      "provenance": [],
      "collapsed_sections": [],
      "include_colab_link": true
    },
    "kernelspec": {
      "name": "python3",
      "display_name": "Python 3"
    },
    "language_info": {
      "name": "python"
    }
  },
  "cells": [
    {
      "cell_type": "markdown",
      "metadata": {
        "id": "view-in-github",
        "colab_type": "text"
      },
      "source": [
        "<a href=\"https://colab.research.google.com/github/WCosmo/DL-Team-Project-1/blob/main/Santander_kaggle_challenger_project.ipynb\" target=\"_parent\"><img src=\"https://colab.research.google.com/assets/colab-badge.svg\" alt=\"Open In Colab\"/></a>"
      ]
    },
    {
      "cell_type": "markdown",
      "source": [
        "#1. Load the dataset"
      ],
      "metadata": {
        "id": "_ZojXkUo36sK"
      }
    },
    {
      "cell_type": "markdown",
      "source": [
        "Upload the API token:"
      ],
      "metadata": {
        "id": "yPWbzBWYsHEE"
      }
    },
    {
      "cell_type": "code",
      "execution_count": 1,
      "metadata": {
        "id": "zlTQ3gb80ftC"
      },
      "outputs": [],
      "source": [
        "from google.colab import files\n"
      ]
    },
    {
      "cell_type": "code",
      "source": [
        "files.upload() #upload kaggle.json"
      ],
      "metadata": {
        "id": "rKyOPCTastiE"
      },
      "execution_count": null,
      "outputs": []
    },
    {
      "cell_type": "markdown",
      "source": [
        "Download the Dataset:"
      ],
      "metadata": {
        "id": "FpxYDzlptV0X"
      }
    },
    {
      "cell_type": "code",
      "source": [
        "!mkdir -p ~/.kaggle\n",
        "!cp kaggle.json ~/.kaggle/\n",
        "!chmod 600 /root/.kaggle/kaggle.json\n",
        "import kaggle"
      ],
      "metadata": {
        "id": "oYpqWkXK049f"
      },
      "execution_count": 6,
      "outputs": []
    },
    {
      "cell_type": "code",
      "source": [
        "!kaggle competitions download -c santander-customer-satisfaction"
      ],
      "metadata": {
        "colab": {
          "base_uri": "https://localhost:8080/"
        },
        "id": "u-DT9SD13q_R",
        "outputId": "d03d0e6c-b03a-475c-cba9-df5acf2ce502"
      },
      "execution_count": 7,
      "outputs": [
        {
          "output_type": "stream",
          "name": "stdout",
          "text": [
            "Downloading santander-customer-satisfaction.zip to /content\n",
            "\r  0% 0.00/8.25M [00:00<?, ?B/s]\r100% 8.25M/8.25M [00:00<00:00, 73.6MB/s]\n",
            "\r100% 8.25M/8.25M [00:00<00:00, 73.4MB/s]\n"
          ]
        }
      ]
    },
    {
      "cell_type": "markdown",
      "source": [
        "Install the Dataset:"
      ],
      "metadata": {
        "id": "3JAkq4u6tc9A"
      }
    },
    {
      "cell_type": "code",
      "source": [
        "!unzip -q santander-customer-satisfaction.zip \n"
      ],
      "metadata": {
        "id": "dCxybiA85GLt"
      },
      "execution_count": 8,
      "outputs": []
    },
    {
      "cell_type": "markdown",
      "source": [
        "Load the Dataset as Pandas:"
      ],
      "metadata": {
        "id": "zZPXEMjStj_o"
      }
    },
    {
      "cell_type": "code",
      "source": [
        "import pandas as pd\n",
        "customer_data = pd.read_csv(\"train.csv\")\n",
        "customer_data_test = pd.read_csv(\"test.csv\")"
      ],
      "metadata": {
        "id": "Y7R2E_RT5mTX"
      },
      "execution_count": 9,
      "outputs": []
    },
    {
      "cell_type": "code",
      "source": [
        "customer_data.describe()"
      ],
      "metadata": {
        "colab": {
          "base_uri": "https://localhost:8080/",
          "height": 394
        },
        "id": "_cak6nn55snt",
        "outputId": "6662aed4-4347-463b-8d2e-d2bf14c91617"
      },
      "execution_count": 10,
      "outputs": [
        {
          "output_type": "execute_result",
          "data": {
            "text/plain": [
              "                  ID           var3         var15  imp_ent_var16_ult1  \\\n",
              "count   76020.000000   76020.000000  76020.000000        76020.000000   \n",
              "mean    75964.050723   -1523.199277     33.212865           86.208265   \n",
              "std     43781.947379   39033.462364     12.956486         1614.757313   \n",
              "min         1.000000 -999999.000000      5.000000            0.000000   \n",
              "25%     38104.750000       2.000000     23.000000            0.000000   \n",
              "50%     76043.000000       2.000000     28.000000            0.000000   \n",
              "75%    113748.750000       2.000000     40.000000            0.000000   \n",
              "max    151838.000000     238.000000    105.000000       210000.000000   \n",
              "\n",
              "       imp_op_var39_comer_ult1  imp_op_var39_comer_ult3  \\\n",
              "count             76020.000000             76020.000000   \n",
              "mean                 72.363067               119.529632   \n",
              "std                 339.315831               546.266294   \n",
              "min                   0.000000                 0.000000   \n",
              "25%                   0.000000                 0.000000   \n",
              "50%                   0.000000                 0.000000   \n",
              "75%                   0.000000                 0.000000   \n",
              "max               12888.030000             21024.810000   \n",
              "\n",
              "       imp_op_var40_comer_ult1  imp_op_var40_comer_ult3  \\\n",
              "count             76020.000000             76020.000000   \n",
              "mean                  3.559130                 6.472698   \n",
              "std                  93.155749               153.737066   \n",
              "min                   0.000000                 0.000000   \n",
              "25%                   0.000000                 0.000000   \n",
              "50%                   0.000000                 0.000000   \n",
              "75%                   0.000000                 0.000000   \n",
              "max                8237.820000             11073.570000   \n",
              "\n",
              "       imp_op_var40_efect_ult1  imp_op_var40_efect_ult3  ...  \\\n",
              "count             76020.000000             76020.000000  ...   \n",
              "mean                  0.412946                 0.567352  ...   \n",
              "std                  30.604864                36.513513  ...   \n",
              "min                   0.000000                 0.000000  ...   \n",
              "25%                   0.000000                 0.000000  ...   \n",
              "50%                   0.000000                 0.000000  ...   \n",
              "75%                   0.000000                 0.000000  ...   \n",
              "max                6600.000000              6600.000000  ...   \n",
              "\n",
              "       saldo_medio_var33_hace2  saldo_medio_var33_hace3  \\\n",
              "count             76020.000000             76020.000000   \n",
              "mean                  7.935824                 1.365146   \n",
              "std                 455.887218               113.959637   \n",
              "min                   0.000000                 0.000000   \n",
              "25%                   0.000000                 0.000000   \n",
              "50%                   0.000000                 0.000000   \n",
              "75%                   0.000000                 0.000000   \n",
              "max               50003.880000             20385.720000   \n",
              "\n",
              "       saldo_medio_var33_ult1  saldo_medio_var33_ult3  \\\n",
              "count            76020.000000            76020.000000   \n",
              "mean                12.215580                8.784074   \n",
              "std                783.207399              538.439211   \n",
              "min                  0.000000                0.000000   \n",
              "25%                  0.000000                0.000000   \n",
              "50%                  0.000000                0.000000   \n",
              "75%                  0.000000                0.000000   \n",
              "max             138831.630000            91778.730000   \n",
              "\n",
              "       saldo_medio_var44_hace2  saldo_medio_var44_hace3  \\\n",
              "count             76020.000000             76020.000000   \n",
              "mean                 31.505324                 1.858575   \n",
              "std                2013.125393               147.786584   \n",
              "min                   0.000000                 0.000000   \n",
              "25%                   0.000000                 0.000000   \n",
              "50%                   0.000000                 0.000000   \n",
              "75%                   0.000000                 0.000000   \n",
              "max              438329.220000             24650.010000   \n",
              "\n",
              "       saldo_medio_var44_ult1  saldo_medio_var44_ult3         var38  \\\n",
              "count            76020.000000            76020.000000  7.602000e+04   \n",
              "mean                76.026165               56.614351  1.172358e+05   \n",
              "std               4040.337842             2852.579397  1.826646e+05   \n",
              "min                  0.000000                0.000000  5.163750e+03   \n",
              "25%                  0.000000                0.000000  6.787061e+04   \n",
              "50%                  0.000000                0.000000  1.064092e+05   \n",
              "75%                  0.000000                0.000000  1.187563e+05   \n",
              "max             681462.900000           397884.300000  2.203474e+07   \n",
              "\n",
              "             TARGET  \n",
              "count  76020.000000  \n",
              "mean       0.039569  \n",
              "std        0.194945  \n",
              "min        0.000000  \n",
              "25%        0.000000  \n",
              "50%        0.000000  \n",
              "75%        0.000000  \n",
              "max        1.000000  \n",
              "\n",
              "[8 rows x 371 columns]"
            ],
            "text/html": [
              "\n",
              "  <div id=\"df-ab0ab1db-86ec-4e1c-b934-939e84b90a19\">\n",
              "    <div class=\"colab-df-container\">\n",
              "      <div>\n",
              "<style scoped>\n",
              "    .dataframe tbody tr th:only-of-type {\n",
              "        vertical-align: middle;\n",
              "    }\n",
              "\n",
              "    .dataframe tbody tr th {\n",
              "        vertical-align: top;\n",
              "    }\n",
              "\n",
              "    .dataframe thead th {\n",
              "        text-align: right;\n",
              "    }\n",
              "</style>\n",
              "<table border=\"1\" class=\"dataframe\">\n",
              "  <thead>\n",
              "    <tr style=\"text-align: right;\">\n",
              "      <th></th>\n",
              "      <th>ID</th>\n",
              "      <th>var3</th>\n",
              "      <th>var15</th>\n",
              "      <th>imp_ent_var16_ult1</th>\n",
              "      <th>imp_op_var39_comer_ult1</th>\n",
              "      <th>imp_op_var39_comer_ult3</th>\n",
              "      <th>imp_op_var40_comer_ult1</th>\n",
              "      <th>imp_op_var40_comer_ult3</th>\n",
              "      <th>imp_op_var40_efect_ult1</th>\n",
              "      <th>imp_op_var40_efect_ult3</th>\n",
              "      <th>...</th>\n",
              "      <th>saldo_medio_var33_hace2</th>\n",
              "      <th>saldo_medio_var33_hace3</th>\n",
              "      <th>saldo_medio_var33_ult1</th>\n",
              "      <th>saldo_medio_var33_ult3</th>\n",
              "      <th>saldo_medio_var44_hace2</th>\n",
              "      <th>saldo_medio_var44_hace3</th>\n",
              "      <th>saldo_medio_var44_ult1</th>\n",
              "      <th>saldo_medio_var44_ult3</th>\n",
              "      <th>var38</th>\n",
              "      <th>TARGET</th>\n",
              "    </tr>\n",
              "  </thead>\n",
              "  <tbody>\n",
              "    <tr>\n",
              "      <th>count</th>\n",
              "      <td>76020.000000</td>\n",
              "      <td>76020.000000</td>\n",
              "      <td>76020.000000</td>\n",
              "      <td>76020.000000</td>\n",
              "      <td>76020.000000</td>\n",
              "      <td>76020.000000</td>\n",
              "      <td>76020.000000</td>\n",
              "      <td>76020.000000</td>\n",
              "      <td>76020.000000</td>\n",
              "      <td>76020.000000</td>\n",
              "      <td>...</td>\n",
              "      <td>76020.000000</td>\n",
              "      <td>76020.000000</td>\n",
              "      <td>76020.000000</td>\n",
              "      <td>76020.000000</td>\n",
              "      <td>76020.000000</td>\n",
              "      <td>76020.000000</td>\n",
              "      <td>76020.000000</td>\n",
              "      <td>76020.000000</td>\n",
              "      <td>7.602000e+04</td>\n",
              "      <td>76020.000000</td>\n",
              "    </tr>\n",
              "    <tr>\n",
              "      <th>mean</th>\n",
              "      <td>75964.050723</td>\n",
              "      <td>-1523.199277</td>\n",
              "      <td>33.212865</td>\n",
              "      <td>86.208265</td>\n",
              "      <td>72.363067</td>\n",
              "      <td>119.529632</td>\n",
              "      <td>3.559130</td>\n",
              "      <td>6.472698</td>\n",
              "      <td>0.412946</td>\n",
              "      <td>0.567352</td>\n",
              "      <td>...</td>\n",
              "      <td>7.935824</td>\n",
              "      <td>1.365146</td>\n",
              "      <td>12.215580</td>\n",
              "      <td>8.784074</td>\n",
              "      <td>31.505324</td>\n",
              "      <td>1.858575</td>\n",
              "      <td>76.026165</td>\n",
              "      <td>56.614351</td>\n",
              "      <td>1.172358e+05</td>\n",
              "      <td>0.039569</td>\n",
              "    </tr>\n",
              "    <tr>\n",
              "      <th>std</th>\n",
              "      <td>43781.947379</td>\n",
              "      <td>39033.462364</td>\n",
              "      <td>12.956486</td>\n",
              "      <td>1614.757313</td>\n",
              "      <td>339.315831</td>\n",
              "      <td>546.266294</td>\n",
              "      <td>93.155749</td>\n",
              "      <td>153.737066</td>\n",
              "      <td>30.604864</td>\n",
              "      <td>36.513513</td>\n",
              "      <td>...</td>\n",
              "      <td>455.887218</td>\n",
              "      <td>113.959637</td>\n",
              "      <td>783.207399</td>\n",
              "      <td>538.439211</td>\n",
              "      <td>2013.125393</td>\n",
              "      <td>147.786584</td>\n",
              "      <td>4040.337842</td>\n",
              "      <td>2852.579397</td>\n",
              "      <td>1.826646e+05</td>\n",
              "      <td>0.194945</td>\n",
              "    </tr>\n",
              "    <tr>\n",
              "      <th>min</th>\n",
              "      <td>1.000000</td>\n",
              "      <td>-999999.000000</td>\n",
              "      <td>5.000000</td>\n",
              "      <td>0.000000</td>\n",
              "      <td>0.000000</td>\n",
              "      <td>0.000000</td>\n",
              "      <td>0.000000</td>\n",
              "      <td>0.000000</td>\n",
              "      <td>0.000000</td>\n",
              "      <td>0.000000</td>\n",
              "      <td>...</td>\n",
              "      <td>0.000000</td>\n",
              "      <td>0.000000</td>\n",
              "      <td>0.000000</td>\n",
              "      <td>0.000000</td>\n",
              "      <td>0.000000</td>\n",
              "      <td>0.000000</td>\n",
              "      <td>0.000000</td>\n",
              "      <td>0.000000</td>\n",
              "      <td>5.163750e+03</td>\n",
              "      <td>0.000000</td>\n",
              "    </tr>\n",
              "    <tr>\n",
              "      <th>25%</th>\n",
              "      <td>38104.750000</td>\n",
              "      <td>2.000000</td>\n",
              "      <td>23.000000</td>\n",
              "      <td>0.000000</td>\n",
              "      <td>0.000000</td>\n",
              "      <td>0.000000</td>\n",
              "      <td>0.000000</td>\n",
              "      <td>0.000000</td>\n",
              "      <td>0.000000</td>\n",
              "      <td>0.000000</td>\n",
              "      <td>...</td>\n",
              "      <td>0.000000</td>\n",
              "      <td>0.000000</td>\n",
              "      <td>0.000000</td>\n",
              "      <td>0.000000</td>\n",
              "      <td>0.000000</td>\n",
              "      <td>0.000000</td>\n",
              "      <td>0.000000</td>\n",
              "      <td>0.000000</td>\n",
              "      <td>6.787061e+04</td>\n",
              "      <td>0.000000</td>\n",
              "    </tr>\n",
              "    <tr>\n",
              "      <th>50%</th>\n",
              "      <td>76043.000000</td>\n",
              "      <td>2.000000</td>\n",
              "      <td>28.000000</td>\n",
              "      <td>0.000000</td>\n",
              "      <td>0.000000</td>\n",
              "      <td>0.000000</td>\n",
              "      <td>0.000000</td>\n",
              "      <td>0.000000</td>\n",
              "      <td>0.000000</td>\n",
              "      <td>0.000000</td>\n",
              "      <td>...</td>\n",
              "      <td>0.000000</td>\n",
              "      <td>0.000000</td>\n",
              "      <td>0.000000</td>\n",
              "      <td>0.000000</td>\n",
              "      <td>0.000000</td>\n",
              "      <td>0.000000</td>\n",
              "      <td>0.000000</td>\n",
              "      <td>0.000000</td>\n",
              "      <td>1.064092e+05</td>\n",
              "      <td>0.000000</td>\n",
              "    </tr>\n",
              "    <tr>\n",
              "      <th>75%</th>\n",
              "      <td>113748.750000</td>\n",
              "      <td>2.000000</td>\n",
              "      <td>40.000000</td>\n",
              "      <td>0.000000</td>\n",
              "      <td>0.000000</td>\n",
              "      <td>0.000000</td>\n",
              "      <td>0.000000</td>\n",
              "      <td>0.000000</td>\n",
              "      <td>0.000000</td>\n",
              "      <td>0.000000</td>\n",
              "      <td>...</td>\n",
              "      <td>0.000000</td>\n",
              "      <td>0.000000</td>\n",
              "      <td>0.000000</td>\n",
              "      <td>0.000000</td>\n",
              "      <td>0.000000</td>\n",
              "      <td>0.000000</td>\n",
              "      <td>0.000000</td>\n",
              "      <td>0.000000</td>\n",
              "      <td>1.187563e+05</td>\n",
              "      <td>0.000000</td>\n",
              "    </tr>\n",
              "    <tr>\n",
              "      <th>max</th>\n",
              "      <td>151838.000000</td>\n",
              "      <td>238.000000</td>\n",
              "      <td>105.000000</td>\n",
              "      <td>210000.000000</td>\n",
              "      <td>12888.030000</td>\n",
              "      <td>21024.810000</td>\n",
              "      <td>8237.820000</td>\n",
              "      <td>11073.570000</td>\n",
              "      <td>6600.000000</td>\n",
              "      <td>6600.000000</td>\n",
              "      <td>...</td>\n",
              "      <td>50003.880000</td>\n",
              "      <td>20385.720000</td>\n",
              "      <td>138831.630000</td>\n",
              "      <td>91778.730000</td>\n",
              "      <td>438329.220000</td>\n",
              "      <td>24650.010000</td>\n",
              "      <td>681462.900000</td>\n",
              "      <td>397884.300000</td>\n",
              "      <td>2.203474e+07</td>\n",
              "      <td>1.000000</td>\n",
              "    </tr>\n",
              "  </tbody>\n",
              "</table>\n",
              "<p>8 rows × 371 columns</p>\n",
              "</div>\n",
              "      <button class=\"colab-df-convert\" onclick=\"convertToInteractive('df-ab0ab1db-86ec-4e1c-b934-939e84b90a19')\"\n",
              "              title=\"Convert this dataframe to an interactive table.\"\n",
              "              style=\"display:none;\">\n",
              "        \n",
              "  <svg xmlns=\"http://www.w3.org/2000/svg\" height=\"24px\"viewBox=\"0 0 24 24\"\n",
              "       width=\"24px\">\n",
              "    <path d=\"M0 0h24v24H0V0z\" fill=\"none\"/>\n",
              "    <path d=\"M18.56 5.44l.94 2.06.94-2.06 2.06-.94-2.06-.94-.94-2.06-.94 2.06-2.06.94zm-11 1L8.5 8.5l.94-2.06 2.06-.94-2.06-.94L8.5 2.5l-.94 2.06-2.06.94zm10 10l.94 2.06.94-2.06 2.06-.94-2.06-.94-.94-2.06-.94 2.06-2.06.94z\"/><path d=\"M17.41 7.96l-1.37-1.37c-.4-.4-.92-.59-1.43-.59-.52 0-1.04.2-1.43.59L10.3 9.45l-7.72 7.72c-.78.78-.78 2.05 0 2.83L4 21.41c.39.39.9.59 1.41.59.51 0 1.02-.2 1.41-.59l7.78-7.78 2.81-2.81c.8-.78.8-2.07 0-2.86zM5.41 20L4 18.59l7.72-7.72 1.47 1.35L5.41 20z\"/>\n",
              "  </svg>\n",
              "      </button>\n",
              "      \n",
              "  <style>\n",
              "    .colab-df-container {\n",
              "      display:flex;\n",
              "      flex-wrap:wrap;\n",
              "      gap: 12px;\n",
              "    }\n",
              "\n",
              "    .colab-df-convert {\n",
              "      background-color: #E8F0FE;\n",
              "      border: none;\n",
              "      border-radius: 50%;\n",
              "      cursor: pointer;\n",
              "      display: none;\n",
              "      fill: #1967D2;\n",
              "      height: 32px;\n",
              "      padding: 0 0 0 0;\n",
              "      width: 32px;\n",
              "    }\n",
              "\n",
              "    .colab-df-convert:hover {\n",
              "      background-color: #E2EBFA;\n",
              "      box-shadow: 0px 1px 2px rgba(60, 64, 67, 0.3), 0px 1px 3px 1px rgba(60, 64, 67, 0.15);\n",
              "      fill: #174EA6;\n",
              "    }\n",
              "\n",
              "    [theme=dark] .colab-df-convert {\n",
              "      background-color: #3B4455;\n",
              "      fill: #D2E3FC;\n",
              "    }\n",
              "\n",
              "    [theme=dark] .colab-df-convert:hover {\n",
              "      background-color: #434B5C;\n",
              "      box-shadow: 0px 1px 3px 1px rgba(0, 0, 0, 0.15);\n",
              "      filter: drop-shadow(0px 1px 2px rgba(0, 0, 0, 0.3));\n",
              "      fill: #FFFFFF;\n",
              "    }\n",
              "  </style>\n",
              "\n",
              "      <script>\n",
              "        const buttonEl =\n",
              "          document.querySelector('#df-ab0ab1db-86ec-4e1c-b934-939e84b90a19 button.colab-df-convert');\n",
              "        buttonEl.style.display =\n",
              "          google.colab.kernel.accessAllowed ? 'block' : 'none';\n",
              "\n",
              "        async function convertToInteractive(key) {\n",
              "          const element = document.querySelector('#df-ab0ab1db-86ec-4e1c-b934-939e84b90a19');\n",
              "          const dataTable =\n",
              "            await google.colab.kernel.invokeFunction('convertToInteractive',\n",
              "                                                     [key], {});\n",
              "          if (!dataTable) return;\n",
              "\n",
              "          const docLinkHtml = 'Like what you see? Visit the ' +\n",
              "            '<a target=\"_blank\" href=https://colab.research.google.com/notebooks/data_table.ipynb>data table notebook</a>'\n",
              "            + ' to learn more about interactive tables.';\n",
              "          element.innerHTML = '';\n",
              "          dataTable['output_type'] = 'display_data';\n",
              "          await google.colab.output.renderOutput(dataTable, element);\n",
              "          const docLink = document.createElement('div');\n",
              "          docLink.innerHTML = docLinkHtml;\n",
              "          element.appendChild(docLink);\n",
              "        }\n",
              "      </script>\n",
              "    </div>\n",
              "  </div>\n",
              "  "
            ]
          },
          "metadata": {},
          "execution_count": 10
        }
      ]
    },
    {
      "cell_type": "code",
      "source": [
        "customer_data.info()"
      ],
      "metadata": {
        "colab": {
          "base_uri": "https://localhost:8080/"
        },
        "id": "iarbfg0V59xS",
        "outputId": "c44c56e1-009b-41e7-f543-aae41972559c"
      },
      "execution_count": 149,
      "outputs": [
        {
          "output_type": "stream",
          "name": "stdout",
          "text": [
            "<class 'pandas.core.frame.DataFrame'>\n",
            "RangeIndex: 76020 entries, 0 to 76019\n",
            "Columns: 371 entries, ID to TARGET\n",
            "dtypes: float64(111), int64(260)\n",
            "memory usage: 215.2 MB\n"
          ]
        }
      ]
    },
    {
      "cell_type": "markdown",
      "source": [
        "#2. Data preprocessing"
      ],
      "metadata": {
        "id": "JTu81SC44a3B"
      }
    },
    {
      "cell_type": "markdown",
      "source": [
        "Correlation matrix calculation:"
      ],
      "metadata": {
        "id": "8BTSZd9F4reN"
      }
    },
    {
      "cell_type": "code",
      "source": [
        "customer_data_corr = customer_data.corr()"
      ],
      "metadata": {
        "id": "zxndNAOm7DZg"
      },
      "execution_count": 12,
      "outputs": []
    },
    {
      "cell_type": "code",
      "source": [
        "idx = customer_data_corr.index[customer_data_corr['TARGET']>=0.01]"
      ],
      "metadata": {
        "id": "0zlnEhHr7MWK"
      },
      "execution_count": 13,
      "outputs": []
    },
    {
      "cell_type": "code",
      "source": [
        "customer_data[idx]"
      ],
      "metadata": {
        "colab": {
          "base_uri": "https://localhost:8080/",
          "height": 488
        },
        "id": "xMEJUVa07RMQ",
        "outputId": "9f495377-55e7-4a8d-f9c4-8fcf76e1e98b"
      },
      "execution_count": 14,
      "outputs": [
        {
          "output_type": "execute_result",
          "data": {
            "text/plain": [
              "       var15  imp_op_var39_comer_ult1  imp_op_var40_efect_ult1  \\\n",
              "0         23                      0.0                      0.0   \n",
              "1         34                      0.0                      0.0   \n",
              "2         23                      0.0                      0.0   \n",
              "3         37                    195.0                      0.0   \n",
              "4         39                      0.0                      0.0   \n",
              "...      ...                      ...                      ...   \n",
              "76015     48                      0.0                      0.0   \n",
              "76016     39                      0.0                      0.0   \n",
              "76017     23                      0.0                      0.0   \n",
              "76018     25                      0.0                      0.0   \n",
              "76019     46                      0.0                      0.0   \n",
              "\n",
              "       imp_op_var40_efect_ult3  imp_op_var41_comer_ult1  \\\n",
              "0                          0.0                      0.0   \n",
              "1                          0.0                      0.0   \n",
              "2                          0.0                      0.0   \n",
              "3                          0.0                    195.0   \n",
              "4                          0.0                      0.0   \n",
              "...                        ...                      ...   \n",
              "76015                      0.0                      0.0   \n",
              "76016                      0.0                      0.0   \n",
              "76017                      0.0                      0.0   \n",
              "76018                      0.0                      0.0   \n",
              "76019                      0.0                      0.0   \n",
              "\n",
              "       imp_op_var41_efect_ult1  imp_op_var41_efect_ult3  imp_op_var41_ult1  \\\n",
              "0                          0.0                      0.0                0.0   \n",
              "1                          0.0                      0.0                0.0   \n",
              "2                          0.0                      0.0                0.0   \n",
              "3                          0.0                      0.0              195.0   \n",
              "4                          0.0                      0.0                0.0   \n",
              "...                        ...                      ...                ...   \n",
              "76015                      0.0                      0.0                0.0   \n",
              "76016                      0.0                      0.0                0.0   \n",
              "76017                      0.0                      0.0                0.0   \n",
              "76018                      0.0                      0.0                0.0   \n",
              "76019                      0.0                      0.0                0.0   \n",
              "\n",
              "       imp_op_var39_efect_ult1  imp_op_var39_efect_ult3  ...  \\\n",
              "0                          0.0                      0.0  ...   \n",
              "1                          0.0                      0.0  ...   \n",
              "2                          0.0                      0.0  ...   \n",
              "3                          0.0                      0.0  ...   \n",
              "4                          0.0                      0.0  ...   \n",
              "...                        ...                      ...  ...   \n",
              "76015                      0.0                      0.0  ...   \n",
              "76016                      0.0                      0.0  ...   \n",
              "76017                      0.0                      0.0  ...   \n",
              "76018                      0.0                      0.0  ...   \n",
              "76019                      0.0                      0.0  ...   \n",
              "\n",
              "       num_med_var22_ult3  num_meses_var8_ult3  num_op_var40_efect_ult1  \\\n",
              "0                       0                    0                        0   \n",
              "1                       0                    0                        0   \n",
              "2                       0                    0                        0   \n",
              "3                       0                    0                        0   \n",
              "4                       3                    0                        0   \n",
              "...                   ...                  ...                      ...   \n",
              "76015                   0                    0                        0   \n",
              "76016                   6                    0                        0   \n",
              "76017                   0                    0                        0   \n",
              "76018                   0                    0                        0   \n",
              "76019                   0                    0                        0   \n",
              "\n",
              "       num_op_var40_efect_ult3  num_op_var41_efect_ult1  \\\n",
              "0                            0                        0   \n",
              "1                            0                        0   \n",
              "2                            0                        0   \n",
              "3                            0                        0   \n",
              "4                            0                        0   \n",
              "...                        ...                      ...   \n",
              "76015                        0                        0   \n",
              "76016                        0                        0   \n",
              "76017                        0                        0   \n",
              "76018                        0                        0   \n",
              "76019                        0                        0   \n",
              "\n",
              "       num_op_var41_efect_ult3  num_op_var39_efect_ult1  \\\n",
              "0                            0                        0   \n",
              "1                            0                        0   \n",
              "2                            0                        0   \n",
              "3                            0                        0   \n",
              "4                            0                        0   \n",
              "...                        ...                      ...   \n",
              "76015                        0                        0   \n",
              "76016                        0                        0   \n",
              "76017                        0                        0   \n",
              "76018                        0                        0   \n",
              "76019                        0                        0   \n",
              "\n",
              "       num_op_var39_efect_ult3  num_reemb_var17_ult1  TARGET  \n",
              "0                            0                     0       0  \n",
              "1                            0                     0       0  \n",
              "2                            0                     0       0  \n",
              "3                            0                     0       0  \n",
              "4                            0                     0       0  \n",
              "...                        ...                   ...     ...  \n",
              "76015                        0                     0       0  \n",
              "76016                        0                     0       0  \n",
              "76017                        0                     0       0  \n",
              "76018                        0                     0       0  \n",
              "76019                        0                     0       0  \n",
              "\n",
              "[76020 rows x 44 columns]"
            ],
            "text/html": [
              "\n",
              "  <div id=\"df-26e82d45-62a7-442f-ac70-edcd0e825f58\">\n",
              "    <div class=\"colab-df-container\">\n",
              "      <div>\n",
              "<style scoped>\n",
              "    .dataframe tbody tr th:only-of-type {\n",
              "        vertical-align: middle;\n",
              "    }\n",
              "\n",
              "    .dataframe tbody tr th {\n",
              "        vertical-align: top;\n",
              "    }\n",
              "\n",
              "    .dataframe thead th {\n",
              "        text-align: right;\n",
              "    }\n",
              "</style>\n",
              "<table border=\"1\" class=\"dataframe\">\n",
              "  <thead>\n",
              "    <tr style=\"text-align: right;\">\n",
              "      <th></th>\n",
              "      <th>var15</th>\n",
              "      <th>imp_op_var39_comer_ult1</th>\n",
              "      <th>imp_op_var40_efect_ult1</th>\n",
              "      <th>imp_op_var40_efect_ult3</th>\n",
              "      <th>imp_op_var41_comer_ult1</th>\n",
              "      <th>imp_op_var41_efect_ult1</th>\n",
              "      <th>imp_op_var41_efect_ult3</th>\n",
              "      <th>imp_op_var41_ult1</th>\n",
              "      <th>imp_op_var39_efect_ult1</th>\n",
              "      <th>imp_op_var39_efect_ult3</th>\n",
              "      <th>...</th>\n",
              "      <th>num_med_var22_ult3</th>\n",
              "      <th>num_meses_var8_ult3</th>\n",
              "      <th>num_op_var40_efect_ult1</th>\n",
              "      <th>num_op_var40_efect_ult3</th>\n",
              "      <th>num_op_var41_efect_ult1</th>\n",
              "      <th>num_op_var41_efect_ult3</th>\n",
              "      <th>num_op_var39_efect_ult1</th>\n",
              "      <th>num_op_var39_efect_ult3</th>\n",
              "      <th>num_reemb_var17_ult1</th>\n",
              "      <th>TARGET</th>\n",
              "    </tr>\n",
              "  </thead>\n",
              "  <tbody>\n",
              "    <tr>\n",
              "      <th>0</th>\n",
              "      <td>23</td>\n",
              "      <td>0.0</td>\n",
              "      <td>0.0</td>\n",
              "      <td>0.0</td>\n",
              "      <td>0.0</td>\n",
              "      <td>0.0</td>\n",
              "      <td>0.0</td>\n",
              "      <td>0.0</td>\n",
              "      <td>0.0</td>\n",
              "      <td>0.0</td>\n",
              "      <td>...</td>\n",
              "      <td>0</td>\n",
              "      <td>0</td>\n",
              "      <td>0</td>\n",
              "      <td>0</td>\n",
              "      <td>0</td>\n",
              "      <td>0</td>\n",
              "      <td>0</td>\n",
              "      <td>0</td>\n",
              "      <td>0</td>\n",
              "      <td>0</td>\n",
              "    </tr>\n",
              "    <tr>\n",
              "      <th>1</th>\n",
              "      <td>34</td>\n",
              "      <td>0.0</td>\n",
              "      <td>0.0</td>\n",
              "      <td>0.0</td>\n",
              "      <td>0.0</td>\n",
              "      <td>0.0</td>\n",
              "      <td>0.0</td>\n",
              "      <td>0.0</td>\n",
              "      <td>0.0</td>\n",
              "      <td>0.0</td>\n",
              "      <td>...</td>\n",
              "      <td>0</td>\n",
              "      <td>0</td>\n",
              "      <td>0</td>\n",
              "      <td>0</td>\n",
              "      <td>0</td>\n",
              "      <td>0</td>\n",
              "      <td>0</td>\n",
              "      <td>0</td>\n",
              "      <td>0</td>\n",
              "      <td>0</td>\n",
              "    </tr>\n",
              "    <tr>\n",
              "      <th>2</th>\n",
              "      <td>23</td>\n",
              "      <td>0.0</td>\n",
              "      <td>0.0</td>\n",
              "      <td>0.0</td>\n",
              "      <td>0.0</td>\n",
              "      <td>0.0</td>\n",
              "      <td>0.0</td>\n",
              "      <td>0.0</td>\n",
              "      <td>0.0</td>\n",
              "      <td>0.0</td>\n",
              "      <td>...</td>\n",
              "      <td>0</td>\n",
              "      <td>0</td>\n",
              "      <td>0</td>\n",
              "      <td>0</td>\n",
              "      <td>0</td>\n",
              "      <td>0</td>\n",
              "      <td>0</td>\n",
              "      <td>0</td>\n",
              "      <td>0</td>\n",
              "      <td>0</td>\n",
              "    </tr>\n",
              "    <tr>\n",
              "      <th>3</th>\n",
              "      <td>37</td>\n",
              "      <td>195.0</td>\n",
              "      <td>0.0</td>\n",
              "      <td>0.0</td>\n",
              "      <td>195.0</td>\n",
              "      <td>0.0</td>\n",
              "      <td>0.0</td>\n",
              "      <td>195.0</td>\n",
              "      <td>0.0</td>\n",
              "      <td>0.0</td>\n",
              "      <td>...</td>\n",
              "      <td>0</td>\n",
              "      <td>0</td>\n",
              "      <td>0</td>\n",
              "      <td>0</td>\n",
              "      <td>0</td>\n",
              "      <td>0</td>\n",
              "      <td>0</td>\n",
              "      <td>0</td>\n",
              "      <td>0</td>\n",
              "      <td>0</td>\n",
              "    </tr>\n",
              "    <tr>\n",
              "      <th>4</th>\n",
              "      <td>39</td>\n",
              "      <td>0.0</td>\n",
              "      <td>0.0</td>\n",
              "      <td>0.0</td>\n",
              "      <td>0.0</td>\n",
              "      <td>0.0</td>\n",
              "      <td>0.0</td>\n",
              "      <td>0.0</td>\n",
              "      <td>0.0</td>\n",
              "      <td>0.0</td>\n",
              "      <td>...</td>\n",
              "      <td>3</td>\n",
              "      <td>0</td>\n",
              "      <td>0</td>\n",
              "      <td>0</td>\n",
              "      <td>0</td>\n",
              "      <td>0</td>\n",
              "      <td>0</td>\n",
              "      <td>0</td>\n",
              "      <td>0</td>\n",
              "      <td>0</td>\n",
              "    </tr>\n",
              "    <tr>\n",
              "      <th>...</th>\n",
              "      <td>...</td>\n",
              "      <td>...</td>\n",
              "      <td>...</td>\n",
              "      <td>...</td>\n",
              "      <td>...</td>\n",
              "      <td>...</td>\n",
              "      <td>...</td>\n",
              "      <td>...</td>\n",
              "      <td>...</td>\n",
              "      <td>...</td>\n",
              "      <td>...</td>\n",
              "      <td>...</td>\n",
              "      <td>...</td>\n",
              "      <td>...</td>\n",
              "      <td>...</td>\n",
              "      <td>...</td>\n",
              "      <td>...</td>\n",
              "      <td>...</td>\n",
              "      <td>...</td>\n",
              "      <td>...</td>\n",
              "      <td>...</td>\n",
              "    </tr>\n",
              "    <tr>\n",
              "      <th>76015</th>\n",
              "      <td>48</td>\n",
              "      <td>0.0</td>\n",
              "      <td>0.0</td>\n",
              "      <td>0.0</td>\n",
              "      <td>0.0</td>\n",
              "      <td>0.0</td>\n",
              "      <td>0.0</td>\n",
              "      <td>0.0</td>\n",
              "      <td>0.0</td>\n",
              "      <td>0.0</td>\n",
              "      <td>...</td>\n",
              "      <td>0</td>\n",
              "      <td>0</td>\n",
              "      <td>0</td>\n",
              "      <td>0</td>\n",
              "      <td>0</td>\n",
              "      <td>0</td>\n",
              "      <td>0</td>\n",
              "      <td>0</td>\n",
              "      <td>0</td>\n",
              "      <td>0</td>\n",
              "    </tr>\n",
              "    <tr>\n",
              "      <th>76016</th>\n",
              "      <td>39</td>\n",
              "      <td>0.0</td>\n",
              "      <td>0.0</td>\n",
              "      <td>0.0</td>\n",
              "      <td>0.0</td>\n",
              "      <td>0.0</td>\n",
              "      <td>0.0</td>\n",
              "      <td>0.0</td>\n",
              "      <td>0.0</td>\n",
              "      <td>0.0</td>\n",
              "      <td>...</td>\n",
              "      <td>6</td>\n",
              "      <td>0</td>\n",
              "      <td>0</td>\n",
              "      <td>0</td>\n",
              "      <td>0</td>\n",
              "      <td>0</td>\n",
              "      <td>0</td>\n",
              "      <td>0</td>\n",
              "      <td>0</td>\n",
              "      <td>0</td>\n",
              "    </tr>\n",
              "    <tr>\n",
              "      <th>76017</th>\n",
              "      <td>23</td>\n",
              "      <td>0.0</td>\n",
              "      <td>0.0</td>\n",
              "      <td>0.0</td>\n",
              "      <td>0.0</td>\n",
              "      <td>0.0</td>\n",
              "      <td>0.0</td>\n",
              "      <td>0.0</td>\n",
              "      <td>0.0</td>\n",
              "      <td>0.0</td>\n",
              "      <td>...</td>\n",
              "      <td>0</td>\n",
              "      <td>0</td>\n",
              "      <td>0</td>\n",
              "      <td>0</td>\n",
              "      <td>0</td>\n",
              "      <td>0</td>\n",
              "      <td>0</td>\n",
              "      <td>0</td>\n",
              "      <td>0</td>\n",
              "      <td>0</td>\n",
              "    </tr>\n",
              "    <tr>\n",
              "      <th>76018</th>\n",
              "      <td>25</td>\n",
              "      <td>0.0</td>\n",
              "      <td>0.0</td>\n",
              "      <td>0.0</td>\n",
              "      <td>0.0</td>\n",
              "      <td>0.0</td>\n",
              "      <td>0.0</td>\n",
              "      <td>0.0</td>\n",
              "      <td>0.0</td>\n",
              "      <td>0.0</td>\n",
              "      <td>...</td>\n",
              "      <td>0</td>\n",
              "      <td>0</td>\n",
              "      <td>0</td>\n",
              "      <td>0</td>\n",
              "      <td>0</td>\n",
              "      <td>0</td>\n",
              "      <td>0</td>\n",
              "      <td>0</td>\n",
              "      <td>0</td>\n",
              "      <td>0</td>\n",
              "    </tr>\n",
              "    <tr>\n",
              "      <th>76019</th>\n",
              "      <td>46</td>\n",
              "      <td>0.0</td>\n",
              "      <td>0.0</td>\n",
              "      <td>0.0</td>\n",
              "      <td>0.0</td>\n",
              "      <td>0.0</td>\n",
              "      <td>0.0</td>\n",
              "      <td>0.0</td>\n",
              "      <td>0.0</td>\n",
              "      <td>0.0</td>\n",
              "      <td>...</td>\n",
              "      <td>0</td>\n",
              "      <td>0</td>\n",
              "      <td>0</td>\n",
              "      <td>0</td>\n",
              "      <td>0</td>\n",
              "      <td>0</td>\n",
              "      <td>0</td>\n",
              "      <td>0</td>\n",
              "      <td>0</td>\n",
              "      <td>0</td>\n",
              "    </tr>\n",
              "  </tbody>\n",
              "</table>\n",
              "<p>76020 rows × 44 columns</p>\n",
              "</div>\n",
              "      <button class=\"colab-df-convert\" onclick=\"convertToInteractive('df-26e82d45-62a7-442f-ac70-edcd0e825f58')\"\n",
              "              title=\"Convert this dataframe to an interactive table.\"\n",
              "              style=\"display:none;\">\n",
              "        \n",
              "  <svg xmlns=\"http://www.w3.org/2000/svg\" height=\"24px\"viewBox=\"0 0 24 24\"\n",
              "       width=\"24px\">\n",
              "    <path d=\"M0 0h24v24H0V0z\" fill=\"none\"/>\n",
              "    <path d=\"M18.56 5.44l.94 2.06.94-2.06 2.06-.94-2.06-.94-.94-2.06-.94 2.06-2.06.94zm-11 1L8.5 8.5l.94-2.06 2.06-.94-2.06-.94L8.5 2.5l-.94 2.06-2.06.94zm10 10l.94 2.06.94-2.06 2.06-.94-2.06-.94-.94-2.06-.94 2.06-2.06.94z\"/><path d=\"M17.41 7.96l-1.37-1.37c-.4-.4-.92-.59-1.43-.59-.52 0-1.04.2-1.43.59L10.3 9.45l-7.72 7.72c-.78.78-.78 2.05 0 2.83L4 21.41c.39.39.9.59 1.41.59.51 0 1.02-.2 1.41-.59l7.78-7.78 2.81-2.81c.8-.78.8-2.07 0-2.86zM5.41 20L4 18.59l7.72-7.72 1.47 1.35L5.41 20z\"/>\n",
              "  </svg>\n",
              "      </button>\n",
              "      \n",
              "  <style>\n",
              "    .colab-df-container {\n",
              "      display:flex;\n",
              "      flex-wrap:wrap;\n",
              "      gap: 12px;\n",
              "    }\n",
              "\n",
              "    .colab-df-convert {\n",
              "      background-color: #E8F0FE;\n",
              "      border: none;\n",
              "      border-radius: 50%;\n",
              "      cursor: pointer;\n",
              "      display: none;\n",
              "      fill: #1967D2;\n",
              "      height: 32px;\n",
              "      padding: 0 0 0 0;\n",
              "      width: 32px;\n",
              "    }\n",
              "\n",
              "    .colab-df-convert:hover {\n",
              "      background-color: #E2EBFA;\n",
              "      box-shadow: 0px 1px 2px rgba(60, 64, 67, 0.3), 0px 1px 3px 1px rgba(60, 64, 67, 0.15);\n",
              "      fill: #174EA6;\n",
              "    }\n",
              "\n",
              "    [theme=dark] .colab-df-convert {\n",
              "      background-color: #3B4455;\n",
              "      fill: #D2E3FC;\n",
              "    }\n",
              "\n",
              "    [theme=dark] .colab-df-convert:hover {\n",
              "      background-color: #434B5C;\n",
              "      box-shadow: 0px 1px 3px 1px rgba(0, 0, 0, 0.15);\n",
              "      filter: drop-shadow(0px 1px 2px rgba(0, 0, 0, 0.3));\n",
              "      fill: #FFFFFF;\n",
              "    }\n",
              "  </style>\n",
              "\n",
              "      <script>\n",
              "        const buttonEl =\n",
              "          document.querySelector('#df-26e82d45-62a7-442f-ac70-edcd0e825f58 button.colab-df-convert');\n",
              "        buttonEl.style.display =\n",
              "          google.colab.kernel.accessAllowed ? 'block' : 'none';\n",
              "\n",
              "        async function convertToInteractive(key) {\n",
              "          const element = document.querySelector('#df-26e82d45-62a7-442f-ac70-edcd0e825f58');\n",
              "          const dataTable =\n",
              "            await google.colab.kernel.invokeFunction('convertToInteractive',\n",
              "                                                     [key], {});\n",
              "          if (!dataTable) return;\n",
              "\n",
              "          const docLinkHtml = 'Like what you see? Visit the ' +\n",
              "            '<a target=\"_blank\" href=https://colab.research.google.com/notebooks/data_table.ipynb>data table notebook</a>'\n",
              "            + ' to learn more about interactive tables.';\n",
              "          element.innerHTML = '';\n",
              "          dataTable['output_type'] = 'display_data';\n",
              "          await google.colab.output.renderOutput(dataTable, element);\n",
              "          const docLink = document.createElement('div');\n",
              "          docLink.innerHTML = docLinkHtml;\n",
              "          element.appendChild(docLink);\n",
              "        }\n",
              "      </script>\n",
              "    </div>\n",
              "  </div>\n",
              "  "
            ]
          },
          "metadata": {},
          "execution_count": 14
        }
      ]
    },
    {
      "cell_type": "markdown",
      "source": [
        "Test dataset:"
      ],
      "metadata": {
        "id": "4w-n2JjJco-0"
      }
    },
    {
      "cell_type": "code",
      "source": [
        "t_idx = idx.drop(['TARGET'])\n"
      ],
      "metadata": {
        "id": "Os1ixeOJbaf0"
      },
      "execution_count": 147,
      "outputs": []
    },
    {
      "cell_type": "code",
      "source": [
        "customer_data_test[t_idx]"
      ],
      "metadata": {
        "colab": {
          "base_uri": "https://localhost:8080/",
          "height": 488
        },
        "id": "UAJ95yAQcnkb",
        "outputId": "597c38fb-e8f5-412c-8eae-691bb583703a"
      },
      "execution_count": 148,
      "outputs": [
        {
          "output_type": "execute_result",
          "data": {
            "text/plain": [
              "       var15  imp_op_var39_comer_ult1  imp_op_var40_efect_ult1  \\\n",
              "0         32                      0.0                      0.0   \n",
              "1         35                      0.0                      0.0   \n",
              "2         23                      0.0                      0.0   \n",
              "3         24                      0.0                      0.0   \n",
              "4         23                      0.0                      0.0   \n",
              "...      ...                      ...                      ...   \n",
              "75813     23                      0.0                      0.0   \n",
              "75814     26                      0.0                      0.0   \n",
              "75815     24                      0.0                      0.0   \n",
              "75816     40                      0.0                      0.0   \n",
              "75817     23                      0.0                      0.0   \n",
              "\n",
              "       imp_op_var40_efect_ult3  imp_op_var41_comer_ult1  \\\n",
              "0                          0.0                      0.0   \n",
              "1                          0.0                      0.0   \n",
              "2                          0.0                      0.0   \n",
              "3                          0.0                      0.0   \n",
              "4                          0.0                      0.0   \n",
              "...                        ...                      ...   \n",
              "75813                      0.0                      0.0   \n",
              "75814                      0.0                      0.0   \n",
              "75815                      0.0                      0.0   \n",
              "75816                      0.0                      0.0   \n",
              "75817                      0.0                      0.0   \n",
              "\n",
              "       imp_op_var41_efect_ult1  imp_op_var41_efect_ult3  imp_op_var41_ult1  \\\n",
              "0                          0.0                      0.0                0.0   \n",
              "1                          0.0                      0.0                0.0   \n",
              "2                         60.0                     60.0               60.0   \n",
              "3                          0.0                      0.0                0.0   \n",
              "4                          0.0                      0.0                0.0   \n",
              "...                        ...                      ...                ...   \n",
              "75813                      0.0                      0.0                0.0   \n",
              "75814                      0.0                      0.0                0.0   \n",
              "75815                      0.0                      0.0                0.0   \n",
              "75816                      0.0                      0.0                0.0   \n",
              "75817                      0.0                      0.0                0.0   \n",
              "\n",
              "       imp_op_var39_efect_ult1  imp_op_var39_efect_ult3  ...  num_var22_ult3  \\\n",
              "0                          0.0                      0.0  ...               3   \n",
              "1                          0.0                      0.0  ...               3   \n",
              "2                         60.0                     60.0  ...               0   \n",
              "3                          0.0                      0.0  ...               0   \n",
              "4                          0.0                      0.0  ...               0   \n",
              "...                        ...                      ...  ...             ...   \n",
              "75813                      0.0                      0.0  ...               0   \n",
              "75814                      0.0                      0.0  ...               0   \n",
              "75815                      0.0                      0.0  ...               0   \n",
              "75816                      0.0                      0.0  ...               0   \n",
              "75817                      0.0                      0.0  ...               0   \n",
              "\n",
              "       num_med_var22_ult3  num_meses_var8_ult3  num_op_var40_efect_ult1  \\\n",
              "0                       0                    0                        0   \n",
              "1                       0                    0                        0   \n",
              "2                       0                    0                        0   \n",
              "3                       0                    0                        0   \n",
              "4                       0                    0                        0   \n",
              "...                   ...                  ...                      ...   \n",
              "75813                   0                    0                        0   \n",
              "75814                   0                    0                        0   \n",
              "75815                   0                    0                        0   \n",
              "75816                   0                    0                        0   \n",
              "75817                   0                    0                        0   \n",
              "\n",
              "       num_op_var40_efect_ult3  num_op_var41_efect_ult1  \\\n",
              "0                            0                        0   \n",
              "1                            0                        0   \n",
              "2                            0                        3   \n",
              "3                            0                        0   \n",
              "4                            0                        0   \n",
              "...                        ...                      ...   \n",
              "75813                        0                        0   \n",
              "75814                        0                        0   \n",
              "75815                        0                        0   \n",
              "75816                        0                        0   \n",
              "75817                        0                        0   \n",
              "\n",
              "       num_op_var41_efect_ult3  num_op_var39_efect_ult1  \\\n",
              "0                            0                        0   \n",
              "1                            0                        0   \n",
              "2                            3                        3   \n",
              "3                            0                        0   \n",
              "4                            0                        0   \n",
              "...                        ...                      ...   \n",
              "75813                        0                        0   \n",
              "75814                        0                        0   \n",
              "75815                        0                        0   \n",
              "75816                        0                        0   \n",
              "75817                        0                        0   \n",
              "\n",
              "       num_op_var39_efect_ult3  num_reemb_var17_ult1  \n",
              "0                            0                     0  \n",
              "1                            0                     0  \n",
              "2                            3                     0  \n",
              "3                            0                     0  \n",
              "4                            0                     0  \n",
              "...                        ...                   ...  \n",
              "75813                        0                     0  \n",
              "75814                        0                     0  \n",
              "75815                        0                     0  \n",
              "75816                        0                     0  \n",
              "75817                        0                     0  \n",
              "\n",
              "[75818 rows x 43 columns]"
            ],
            "text/html": [
              "\n",
              "  <div id=\"df-1f7438d2-4d40-484d-9897-be92cc22877e\">\n",
              "    <div class=\"colab-df-container\">\n",
              "      <div>\n",
              "<style scoped>\n",
              "    .dataframe tbody tr th:only-of-type {\n",
              "        vertical-align: middle;\n",
              "    }\n",
              "\n",
              "    .dataframe tbody tr th {\n",
              "        vertical-align: top;\n",
              "    }\n",
              "\n",
              "    .dataframe thead th {\n",
              "        text-align: right;\n",
              "    }\n",
              "</style>\n",
              "<table border=\"1\" class=\"dataframe\">\n",
              "  <thead>\n",
              "    <tr style=\"text-align: right;\">\n",
              "      <th></th>\n",
              "      <th>var15</th>\n",
              "      <th>imp_op_var39_comer_ult1</th>\n",
              "      <th>imp_op_var40_efect_ult1</th>\n",
              "      <th>imp_op_var40_efect_ult3</th>\n",
              "      <th>imp_op_var41_comer_ult1</th>\n",
              "      <th>imp_op_var41_efect_ult1</th>\n",
              "      <th>imp_op_var41_efect_ult3</th>\n",
              "      <th>imp_op_var41_ult1</th>\n",
              "      <th>imp_op_var39_efect_ult1</th>\n",
              "      <th>imp_op_var39_efect_ult3</th>\n",
              "      <th>...</th>\n",
              "      <th>num_var22_ult3</th>\n",
              "      <th>num_med_var22_ult3</th>\n",
              "      <th>num_meses_var8_ult3</th>\n",
              "      <th>num_op_var40_efect_ult1</th>\n",
              "      <th>num_op_var40_efect_ult3</th>\n",
              "      <th>num_op_var41_efect_ult1</th>\n",
              "      <th>num_op_var41_efect_ult3</th>\n",
              "      <th>num_op_var39_efect_ult1</th>\n",
              "      <th>num_op_var39_efect_ult3</th>\n",
              "      <th>num_reemb_var17_ult1</th>\n",
              "    </tr>\n",
              "  </thead>\n",
              "  <tbody>\n",
              "    <tr>\n",
              "      <th>0</th>\n",
              "      <td>32</td>\n",
              "      <td>0.0</td>\n",
              "      <td>0.0</td>\n",
              "      <td>0.0</td>\n",
              "      <td>0.0</td>\n",
              "      <td>0.0</td>\n",
              "      <td>0.0</td>\n",
              "      <td>0.0</td>\n",
              "      <td>0.0</td>\n",
              "      <td>0.0</td>\n",
              "      <td>...</td>\n",
              "      <td>3</td>\n",
              "      <td>0</td>\n",
              "      <td>0</td>\n",
              "      <td>0</td>\n",
              "      <td>0</td>\n",
              "      <td>0</td>\n",
              "      <td>0</td>\n",
              "      <td>0</td>\n",
              "      <td>0</td>\n",
              "      <td>0</td>\n",
              "    </tr>\n",
              "    <tr>\n",
              "      <th>1</th>\n",
              "      <td>35</td>\n",
              "      <td>0.0</td>\n",
              "      <td>0.0</td>\n",
              "      <td>0.0</td>\n",
              "      <td>0.0</td>\n",
              "      <td>0.0</td>\n",
              "      <td>0.0</td>\n",
              "      <td>0.0</td>\n",
              "      <td>0.0</td>\n",
              "      <td>0.0</td>\n",
              "      <td>...</td>\n",
              "      <td>3</td>\n",
              "      <td>0</td>\n",
              "      <td>0</td>\n",
              "      <td>0</td>\n",
              "      <td>0</td>\n",
              "      <td>0</td>\n",
              "      <td>0</td>\n",
              "      <td>0</td>\n",
              "      <td>0</td>\n",
              "      <td>0</td>\n",
              "    </tr>\n",
              "    <tr>\n",
              "      <th>2</th>\n",
              "      <td>23</td>\n",
              "      <td>0.0</td>\n",
              "      <td>0.0</td>\n",
              "      <td>0.0</td>\n",
              "      <td>0.0</td>\n",
              "      <td>60.0</td>\n",
              "      <td>60.0</td>\n",
              "      <td>60.0</td>\n",
              "      <td>60.0</td>\n",
              "      <td>60.0</td>\n",
              "      <td>...</td>\n",
              "      <td>0</td>\n",
              "      <td>0</td>\n",
              "      <td>0</td>\n",
              "      <td>0</td>\n",
              "      <td>0</td>\n",
              "      <td>3</td>\n",
              "      <td>3</td>\n",
              "      <td>3</td>\n",
              "      <td>3</td>\n",
              "      <td>0</td>\n",
              "    </tr>\n",
              "    <tr>\n",
              "      <th>3</th>\n",
              "      <td>24</td>\n",
              "      <td>0.0</td>\n",
              "      <td>0.0</td>\n",
              "      <td>0.0</td>\n",
              "      <td>0.0</td>\n",
              "      <td>0.0</td>\n",
              "      <td>0.0</td>\n",
              "      <td>0.0</td>\n",
              "      <td>0.0</td>\n",
              "      <td>0.0</td>\n",
              "      <td>...</td>\n",
              "      <td>0</td>\n",
              "      <td>0</td>\n",
              "      <td>0</td>\n",
              "      <td>0</td>\n",
              "      <td>0</td>\n",
              "      <td>0</td>\n",
              "      <td>0</td>\n",
              "      <td>0</td>\n",
              "      <td>0</td>\n",
              "      <td>0</td>\n",
              "    </tr>\n",
              "    <tr>\n",
              "      <th>4</th>\n",
              "      <td>23</td>\n",
              "      <td>0.0</td>\n",
              "      <td>0.0</td>\n",
              "      <td>0.0</td>\n",
              "      <td>0.0</td>\n",
              "      <td>0.0</td>\n",
              "      <td>0.0</td>\n",
              "      <td>0.0</td>\n",
              "      <td>0.0</td>\n",
              "      <td>0.0</td>\n",
              "      <td>...</td>\n",
              "      <td>0</td>\n",
              "      <td>0</td>\n",
              "      <td>0</td>\n",
              "      <td>0</td>\n",
              "      <td>0</td>\n",
              "      <td>0</td>\n",
              "      <td>0</td>\n",
              "      <td>0</td>\n",
              "      <td>0</td>\n",
              "      <td>0</td>\n",
              "    </tr>\n",
              "    <tr>\n",
              "      <th>...</th>\n",
              "      <td>...</td>\n",
              "      <td>...</td>\n",
              "      <td>...</td>\n",
              "      <td>...</td>\n",
              "      <td>...</td>\n",
              "      <td>...</td>\n",
              "      <td>...</td>\n",
              "      <td>...</td>\n",
              "      <td>...</td>\n",
              "      <td>...</td>\n",
              "      <td>...</td>\n",
              "      <td>...</td>\n",
              "      <td>...</td>\n",
              "      <td>...</td>\n",
              "      <td>...</td>\n",
              "      <td>...</td>\n",
              "      <td>...</td>\n",
              "      <td>...</td>\n",
              "      <td>...</td>\n",
              "      <td>...</td>\n",
              "      <td>...</td>\n",
              "    </tr>\n",
              "    <tr>\n",
              "      <th>75813</th>\n",
              "      <td>23</td>\n",
              "      <td>0.0</td>\n",
              "      <td>0.0</td>\n",
              "      <td>0.0</td>\n",
              "      <td>0.0</td>\n",
              "      <td>0.0</td>\n",
              "      <td>0.0</td>\n",
              "      <td>0.0</td>\n",
              "      <td>0.0</td>\n",
              "      <td>0.0</td>\n",
              "      <td>...</td>\n",
              "      <td>0</td>\n",
              "      <td>0</td>\n",
              "      <td>0</td>\n",
              "      <td>0</td>\n",
              "      <td>0</td>\n",
              "      <td>0</td>\n",
              "      <td>0</td>\n",
              "      <td>0</td>\n",
              "      <td>0</td>\n",
              "      <td>0</td>\n",
              "    </tr>\n",
              "    <tr>\n",
              "      <th>75814</th>\n",
              "      <td>26</td>\n",
              "      <td>0.0</td>\n",
              "      <td>0.0</td>\n",
              "      <td>0.0</td>\n",
              "      <td>0.0</td>\n",
              "      <td>0.0</td>\n",
              "      <td>0.0</td>\n",
              "      <td>0.0</td>\n",
              "      <td>0.0</td>\n",
              "      <td>0.0</td>\n",
              "      <td>...</td>\n",
              "      <td>0</td>\n",
              "      <td>0</td>\n",
              "      <td>0</td>\n",
              "      <td>0</td>\n",
              "      <td>0</td>\n",
              "      <td>0</td>\n",
              "      <td>0</td>\n",
              "      <td>0</td>\n",
              "      <td>0</td>\n",
              "      <td>0</td>\n",
              "    </tr>\n",
              "    <tr>\n",
              "      <th>75815</th>\n",
              "      <td>24</td>\n",
              "      <td>0.0</td>\n",
              "      <td>0.0</td>\n",
              "      <td>0.0</td>\n",
              "      <td>0.0</td>\n",
              "      <td>0.0</td>\n",
              "      <td>0.0</td>\n",
              "      <td>0.0</td>\n",
              "      <td>0.0</td>\n",
              "      <td>0.0</td>\n",
              "      <td>...</td>\n",
              "      <td>0</td>\n",
              "      <td>0</td>\n",
              "      <td>0</td>\n",
              "      <td>0</td>\n",
              "      <td>0</td>\n",
              "      <td>0</td>\n",
              "      <td>0</td>\n",
              "      <td>0</td>\n",
              "      <td>0</td>\n",
              "      <td>0</td>\n",
              "    </tr>\n",
              "    <tr>\n",
              "      <th>75816</th>\n",
              "      <td>40</td>\n",
              "      <td>0.0</td>\n",
              "      <td>0.0</td>\n",
              "      <td>0.0</td>\n",
              "      <td>0.0</td>\n",
              "      <td>0.0</td>\n",
              "      <td>0.0</td>\n",
              "      <td>0.0</td>\n",
              "      <td>0.0</td>\n",
              "      <td>0.0</td>\n",
              "      <td>...</td>\n",
              "      <td>0</td>\n",
              "      <td>0</td>\n",
              "      <td>0</td>\n",
              "      <td>0</td>\n",
              "      <td>0</td>\n",
              "      <td>0</td>\n",
              "      <td>0</td>\n",
              "      <td>0</td>\n",
              "      <td>0</td>\n",
              "      <td>0</td>\n",
              "    </tr>\n",
              "    <tr>\n",
              "      <th>75817</th>\n",
              "      <td>23</td>\n",
              "      <td>0.0</td>\n",
              "      <td>0.0</td>\n",
              "      <td>0.0</td>\n",
              "      <td>0.0</td>\n",
              "      <td>0.0</td>\n",
              "      <td>0.0</td>\n",
              "      <td>0.0</td>\n",
              "      <td>0.0</td>\n",
              "      <td>0.0</td>\n",
              "      <td>...</td>\n",
              "      <td>0</td>\n",
              "      <td>0</td>\n",
              "      <td>0</td>\n",
              "      <td>0</td>\n",
              "      <td>0</td>\n",
              "      <td>0</td>\n",
              "      <td>0</td>\n",
              "      <td>0</td>\n",
              "      <td>0</td>\n",
              "      <td>0</td>\n",
              "    </tr>\n",
              "  </tbody>\n",
              "</table>\n",
              "<p>75818 rows × 43 columns</p>\n",
              "</div>\n",
              "      <button class=\"colab-df-convert\" onclick=\"convertToInteractive('df-1f7438d2-4d40-484d-9897-be92cc22877e')\"\n",
              "              title=\"Convert this dataframe to an interactive table.\"\n",
              "              style=\"display:none;\">\n",
              "        \n",
              "  <svg xmlns=\"http://www.w3.org/2000/svg\" height=\"24px\"viewBox=\"0 0 24 24\"\n",
              "       width=\"24px\">\n",
              "    <path d=\"M0 0h24v24H0V0z\" fill=\"none\"/>\n",
              "    <path d=\"M18.56 5.44l.94 2.06.94-2.06 2.06-.94-2.06-.94-.94-2.06-.94 2.06-2.06.94zm-11 1L8.5 8.5l.94-2.06 2.06-.94-2.06-.94L8.5 2.5l-.94 2.06-2.06.94zm10 10l.94 2.06.94-2.06 2.06-.94-2.06-.94-.94-2.06-.94 2.06-2.06.94z\"/><path d=\"M17.41 7.96l-1.37-1.37c-.4-.4-.92-.59-1.43-.59-.52 0-1.04.2-1.43.59L10.3 9.45l-7.72 7.72c-.78.78-.78 2.05 0 2.83L4 21.41c.39.39.9.59 1.41.59.51 0 1.02-.2 1.41-.59l7.78-7.78 2.81-2.81c.8-.78.8-2.07 0-2.86zM5.41 20L4 18.59l7.72-7.72 1.47 1.35L5.41 20z\"/>\n",
              "  </svg>\n",
              "      </button>\n",
              "      \n",
              "  <style>\n",
              "    .colab-df-container {\n",
              "      display:flex;\n",
              "      flex-wrap:wrap;\n",
              "      gap: 12px;\n",
              "    }\n",
              "\n",
              "    .colab-df-convert {\n",
              "      background-color: #E8F0FE;\n",
              "      border: none;\n",
              "      border-radius: 50%;\n",
              "      cursor: pointer;\n",
              "      display: none;\n",
              "      fill: #1967D2;\n",
              "      height: 32px;\n",
              "      padding: 0 0 0 0;\n",
              "      width: 32px;\n",
              "    }\n",
              "\n",
              "    .colab-df-convert:hover {\n",
              "      background-color: #E2EBFA;\n",
              "      box-shadow: 0px 1px 2px rgba(60, 64, 67, 0.3), 0px 1px 3px 1px rgba(60, 64, 67, 0.15);\n",
              "      fill: #174EA6;\n",
              "    }\n",
              "\n",
              "    [theme=dark] .colab-df-convert {\n",
              "      background-color: #3B4455;\n",
              "      fill: #D2E3FC;\n",
              "    }\n",
              "\n",
              "    [theme=dark] .colab-df-convert:hover {\n",
              "      background-color: #434B5C;\n",
              "      box-shadow: 0px 1px 3px 1px rgba(0, 0, 0, 0.15);\n",
              "      filter: drop-shadow(0px 1px 2px rgba(0, 0, 0, 0.3));\n",
              "      fill: #FFFFFF;\n",
              "    }\n",
              "  </style>\n",
              "\n",
              "      <script>\n",
              "        const buttonEl =\n",
              "          document.querySelector('#df-1f7438d2-4d40-484d-9897-be92cc22877e button.colab-df-convert');\n",
              "        buttonEl.style.display =\n",
              "          google.colab.kernel.accessAllowed ? 'block' : 'none';\n",
              "\n",
              "        async function convertToInteractive(key) {\n",
              "          const element = document.querySelector('#df-1f7438d2-4d40-484d-9897-be92cc22877e');\n",
              "          const dataTable =\n",
              "            await google.colab.kernel.invokeFunction('convertToInteractive',\n",
              "                                                     [key], {});\n",
              "          if (!dataTable) return;\n",
              "\n",
              "          const docLinkHtml = 'Like what you see? Visit the ' +\n",
              "            '<a target=\"_blank\" href=https://colab.research.google.com/notebooks/data_table.ipynb>data table notebook</a>'\n",
              "            + ' to learn more about interactive tables.';\n",
              "          element.innerHTML = '';\n",
              "          dataTable['output_type'] = 'display_data';\n",
              "          await google.colab.output.renderOutput(dataTable, element);\n",
              "          const docLink = document.createElement('div');\n",
              "          docLink.innerHTML = docLinkHtml;\n",
              "          element.appendChild(docLink);\n",
              "        }\n",
              "      </script>\n",
              "    </div>\n",
              "  </div>\n",
              "  "
            ]
          },
          "metadata": {},
          "execution_count": 148
        }
      ]
    },
    {
      "cell_type": "code",
      "source": [
        "X_dtest = customer_data_test[t_idx].values[:,0:42]"
      ],
      "metadata": {
        "id": "Izl9P8NSfoHr"
      },
      "execution_count": 44,
      "outputs": []
    },
    {
      "cell_type": "markdown",
      "source": [
        "Function to save the results:"
      ],
      "metadata": {
        "id": "Hp5PrkG11UB0"
      }
    },
    {
      "cell_type": "code",
      "source": [
        "import csv\n",
        "\n",
        "def create_otp(result, name='result.csv'):\n",
        "  header = ['ID', 'TARGET']\n",
        "\n",
        "  rm = result[:, 0]\n",
        "\n",
        "  with open(name, 'w') as file:\n",
        "    writer = csv.writer(file)    \n",
        "    writer.writerow(header)\n",
        "\n",
        "    for iii in range(rm.shape[0]):\n",
        "      #l = '[\\'' + str(iii+1) + '\\']' + ',' + '[\\'' + str(rm[iii]) + '\\']' \n",
        "      l = str(iii+1) + '-' + str(rm[iii])\n",
        "      entries = l.split('-')         \n",
        "      writer.writerow(entries)\n"
      ],
      "metadata": {
        "id": "CQC9gsEyskk2"
      },
      "execution_count": 150,
      "outputs": []
    },
    {
      "cell_type": "markdown",
      "source": [
        "Definition of the split function:"
      ],
      "metadata": {
        "id": "0hZr8JpvuKcJ"
      }
    },
    {
      "cell_type": "code",
      "source": [
        "import numpy as np\n",
        "\n",
        "def split_train_test(data, test_ratio):\n",
        "    shuffled_indices = np.random.permutation(len(data))\n",
        "    test_set_size = int(len(data) * test_ratio)\n",
        "    test_indices = shuffled_indices[:test_set_size]\n",
        "    train_indices = shuffled_indices[test_set_size:]\n",
        "    return data.iloc[train_indices], data.iloc[test_indices]\n",
        "np.random.seed(42)"
      ],
      "metadata": {
        "id": "0BfUy_T976y5"
      },
      "execution_count": 151,
      "outputs": []
    },
    {
      "cell_type": "code",
      "source": [
        "train_set, test_set = split_train_test(customer_data[idx], 0.2)"
      ],
      "metadata": {
        "id": "oYVxZMe98k4L"
      },
      "execution_count": 152,
      "outputs": []
    },
    {
      "cell_type": "code",
      "source": [
        "X_train = train_set.values[:,0:42]\n",
        "X_validation  = test_set.values[:,0:42]"
      ],
      "metadata": {
        "id": "xxkxTL6E8nDQ"
      },
      "execution_count": 153,
      "outputs": []
    },
    {
      "cell_type": "code",
      "source": [
        "y_train = train_set.values[:,43]\n",
        "y_validation  = test_set.values[:,43]"
      ],
      "metadata": {
        "id": "ZsLpyJBP8to1"
      },
      "execution_count": 154,
      "outputs": []
    },
    {
      "cell_type": "code",
      "source": [
        "from collections import Counter\n",
        "print(f\"Training target statistics: {Counter(y_train)}\")\n",
        "print(f\"Testing target statistics: {Counter(y_validation)}\")"
      ],
      "metadata": {
        "colab": {
          "base_uri": "https://localhost:8080/"
        },
        "id": "F0CrwtLivW1R",
        "outputId": "caaeda0e-06ab-4f40-c36e-3c797a756483"
      },
      "execution_count": 155,
      "outputs": [
        {
          "output_type": "stream",
          "name": "stdout",
          "text": [
            "Training target statistics: Counter({0.0: 58415, 1.0: 2401})\n",
            "Testing target statistics: Counter({0.0: 14597, 1.0: 607})\n"
          ]
        }
      ]
    },
    {
      "cell_type": "markdown",
      "source": [
        "#3. ANN Model"
      ],
      "metadata": {
        "id": "gZVfKHK041f8"
      }
    },
    {
      "cell_type": "code",
      "source": [
        "import tensorflow as tf\n",
        "from tensorflow import keras"
      ],
      "metadata": {
        "id": "yAEKD2GJ811Q"
      },
      "execution_count": 63,
      "outputs": []
    },
    {
      "cell_type": "markdown",
      "source": [
        "Definiton of the model:"
      ],
      "metadata": {
        "id": "KHxkXxgOuDz7"
      }
    },
    {
      "cell_type": "code",
      "source": [
        "model = keras.models.Sequential()\n",
        "model.add(keras.layers.Flatten(input_shape=[42]))\n",
        "\n",
        "#1st fully connected Neural Network hidden-layer\n",
        "model.add(keras.layers.Dense(160))\n",
        "model.add(keras.layers.Dropout(0.1))\n",
        "model.add(keras.layers.Activation('sigmoid'))\n",
        "\n",
        "#2nd fully connected Neural Network hidden-layer\n",
        "model.add(keras.layers.Dense(40))\n",
        "model.add(keras.layers.Dropout(0.1))\n",
        "model.add(keras.layers.Activation('relu'))\n",
        "\n",
        "#Output layer\n",
        "model.add(keras.layers.Dense(1, activation=\"sigmoid\"))\n",
        "model.summary()"
      ],
      "metadata": {
        "colab": {
          "base_uri": "https://localhost:8080/"
        },
        "id": "4qJVWd3a85P6",
        "outputId": "71a6597c-2dcf-45c8-99a4-c2969ac6ac9a"
      },
      "execution_count": 156,
      "outputs": [
        {
          "output_type": "stream",
          "name": "stdout",
          "text": [
            "Model: \"sequential_2\"\n",
            "_________________________________________________________________\n",
            " Layer (type)                Output Shape              Param #   \n",
            "=================================================================\n",
            " flatten_2 (Flatten)         (None, 42)                0         \n",
            "                                                                 \n",
            " dense_6 (Dense)             (None, 160)               6880      \n",
            "                                                                 \n",
            " dropout_4 (Dropout)         (None, 160)               0         \n",
            "                                                                 \n",
            " activation_4 (Activation)   (None, 160)               0         \n",
            "                                                                 \n",
            " dense_7 (Dense)             (None, 40)                6440      \n",
            "                                                                 \n",
            " dropout_5 (Dropout)         (None, 40)                0         \n",
            "                                                                 \n",
            " activation_5 (Activation)   (None, 40)                0         \n",
            "                                                                 \n",
            " dense_8 (Dense)             (None, 1)                 41        \n",
            "                                                                 \n",
            "=================================================================\n",
            "Total params: 13,361\n",
            "Trainable params: 13,361\n",
            "Non-trainable params: 0\n",
            "_________________________________________________________________\n"
          ]
        }
      ]
    },
    {
      "cell_type": "markdown",
      "source": [
        "Optimizer:"
      ],
      "metadata": {
        "id": "xFsybd4DuU5z"
      }
    },
    {
      "cell_type": "code",
      "source": [
        "sgd = keras.optimizers.SGD(learning_rate=0.05, decay=1e-6, momentum=0.9, nesterov=\"True\") "
      ],
      "metadata": {
        "id": "F_MxiOY69OOw"
      },
      "execution_count": 157,
      "outputs": []
    },
    {
      "cell_type": "markdown",
      "source": [
        "Compilation of the model:"
      ],
      "metadata": {
        "id": "ieGK2Ktlub6a"
      }
    },
    {
      "cell_type": "code",
      "source": [
        "model.compile(loss=\"binary_crossentropy\", optimizer=\"sgd\", metrics=[\"accuracy\"])\n",
        "epch = 20"
      ],
      "metadata": {
        "id": "AmdgBUKD9YjA"
      },
      "execution_count": 158,
      "outputs": []
    },
    {
      "cell_type": "markdown",
      "source": [
        "#4. Unbalanced test"
      ],
      "metadata": {
        "id": "l8jc8iA-47HQ"
      }
    },
    {
      "cell_type": "markdown",
      "source": [
        "Training of the model with unbalanced dataset:"
      ],
      "metadata": {
        "id": "COJAc2f5uwRx"
      }
    },
    {
      "cell_type": "code",
      "source": [
        "history = model.fit(X_train, y_train, epochs=epch, validation_data=(X_validation, y_validation))"
      ],
      "metadata": {
        "colab": {
          "base_uri": "https://localhost:8080/"
        },
        "id": "iX3rftCV9hWO",
        "outputId": "9a9c734c-ef3f-462e-9e40-89c4b79f525c"
      },
      "execution_count": 159,
      "outputs": [
        {
          "output_type": "stream",
          "name": "stdout",
          "text": [
            "Epoch 1/20\n",
            "1901/1901 [==============================] - 5s 2ms/step - loss: 0.1592 - accuracy: 0.9605 - val_loss: 0.1569 - val_accuracy: 0.9601\n",
            "Epoch 2/20\n",
            "1901/1901 [==============================] - 4s 2ms/step - loss: 0.1536 - accuracy: 0.9605 - val_loss: 0.1547 - val_accuracy: 0.9601\n",
            "Epoch 3/20\n",
            "1901/1901 [==============================] - 5s 2ms/step - loss: 0.1522 - accuracy: 0.9605 - val_loss: 0.1539 - val_accuracy: 0.9601\n",
            "Epoch 4/20\n",
            "1901/1901 [==============================] - 4s 2ms/step - loss: 0.1517 - accuracy: 0.9605 - val_loss: 0.1549 - val_accuracy: 0.9601\n",
            "Epoch 5/20\n",
            "1901/1901 [==============================] - 4s 2ms/step - loss: 0.1507 - accuracy: 0.9605 - val_loss: 0.1538 - val_accuracy: 0.9601\n",
            "Epoch 6/20\n",
            "1901/1901 [==============================] - 4s 2ms/step - loss: 0.1507 - accuracy: 0.9605 - val_loss: 0.1551 - val_accuracy: 0.9601\n",
            "Epoch 7/20\n",
            "1901/1901 [==============================] - 4s 2ms/step - loss: 0.1504 - accuracy: 0.9605 - val_loss: 0.1535 - val_accuracy: 0.9601\n",
            "Epoch 8/20\n",
            "1901/1901 [==============================] - 4s 2ms/step - loss: 0.1496 - accuracy: 0.9605 - val_loss: 0.1521 - val_accuracy: 0.9601\n",
            "Epoch 9/20\n",
            "1901/1901 [==============================] - 4s 2ms/step - loss: 0.1498 - accuracy: 0.9605 - val_loss: 0.1521 - val_accuracy: 0.9601\n",
            "Epoch 10/20\n",
            "1901/1901 [==============================] - 4s 2ms/step - loss: 0.1497 - accuracy: 0.9605 - val_loss: 0.1535 - val_accuracy: 0.9601\n",
            "Epoch 11/20\n",
            "1901/1901 [==============================] - 4s 2ms/step - loss: 0.1492 - accuracy: 0.9605 - val_loss: 0.1537 - val_accuracy: 0.9601\n",
            "Epoch 12/20\n",
            "1901/1901 [==============================] - 4s 2ms/step - loss: 0.1492 - accuracy: 0.9605 - val_loss: 0.1519 - val_accuracy: 0.9601\n",
            "Epoch 13/20\n",
            "1901/1901 [==============================] - 4s 2ms/step - loss: 0.1495 - accuracy: 0.9605 - val_loss: 0.1517 - val_accuracy: 0.9601\n",
            "Epoch 14/20\n",
            "1901/1901 [==============================] - 4s 2ms/step - loss: 0.1491 - accuracy: 0.9605 - val_loss: 0.1515 - val_accuracy: 0.9601\n",
            "Epoch 15/20\n",
            "1901/1901 [==============================] - 4s 2ms/step - loss: 0.1485 - accuracy: 0.9605 - val_loss: 0.1528 - val_accuracy: 0.9601\n",
            "Epoch 16/20\n",
            "1901/1901 [==============================] - 5s 3ms/step - loss: 0.1485 - accuracy: 0.9605 - val_loss: 0.1526 - val_accuracy: 0.9601\n",
            "Epoch 17/20\n",
            "1901/1901 [==============================] - 5s 2ms/step - loss: 0.1490 - accuracy: 0.9605 - val_loss: 0.1518 - val_accuracy: 0.9601\n",
            "Epoch 18/20\n",
            "1901/1901 [==============================] - 4s 2ms/step - loss: 0.1486 - accuracy: 0.9605 - val_loss: 0.1523 - val_accuracy: 0.9601\n",
            "Epoch 19/20\n",
            "1901/1901 [==============================] - 4s 2ms/step - loss: 0.1487 - accuracy: 0.9605 - val_loss: 0.1513 - val_accuracy: 0.9601\n",
            "Epoch 20/20\n",
            "1901/1901 [==============================] - 4s 2ms/step - loss: 0.1491 - accuracy: 0.9605 - val_loss: 0.1532 - val_accuracy: 0.9601\n"
          ]
        }
      ]
    },
    {
      "cell_type": "code",
      "source": [
        "y_proba = model.predict(X_validation)"
      ],
      "metadata": {
        "id": "d9_scUbI-h3g"
      },
      "execution_count": 160,
      "outputs": []
    },
    {
      "cell_type": "code",
      "source": [
        "from sklearn.metrics import confusion_matrix\n",
        "from sklearn.metrics import roc_curve\n",
        "import seaborn as sns"
      ],
      "metadata": {
        "id": "8zsbes8L-qQq"
      },
      "execution_count": 161,
      "outputs": []
    },
    {
      "cell_type": "code",
      "source": [
        "fpr, tpr, thresholds = roc_curve(y_validation,y_proba)"
      ],
      "metadata": {
        "id": "4KfsNmik-_Xm"
      },
      "execution_count": 162,
      "outputs": []
    },
    {
      "cell_type": "code",
      "source": [
        "import matplotlib.pyplot as plt\n",
        "def plot_roc_curve(fpr, tpr, label=None):\n",
        "  plt.plot(fpr, tpr, linewidth=2, label=label)\n",
        "  plt.plot([0, 1], [0, 1], 'k--') # Dashed diagonal\n",
        "\n",
        "plot_roc_curve(fpr, tpr)\n",
        "plt.show()"
      ],
      "metadata": {
        "colab": {
          "base_uri": "https://localhost:8080/",
          "height": 265
        },
        "id": "VCvVabJX_Bha",
        "outputId": "70fde4c6-16b6-4e6a-b16f-c379ec99c647"
      },
      "execution_count": 163,
      "outputs": [
        {
          "output_type": "display_data",
          "data": {
            "text/plain": [
              "<Figure size 432x288 with 1 Axes>"
            ],
            "image/png": "[encoded data removed]"
          },
          "metadata": {
            "needs_background": "light"
          }
        }
      ]
    },
    {
      "cell_type": "code",
      "source": [
        "from sklearn.metrics import roc_auc_score\n",
        "roc_auc_score(y_validation, y_proba)"
      ],
      "metadata": {
        "colab": {
          "base_uri": "https://localhost:8080/"
        },
        "id": "P-GQ6PD9_NV4",
        "outputId": "f772ba27-6ae1-47ec-81ff-5241e02099f1"
      },
      "execution_count": 164,
      "outputs": [
        {
          "output_type": "execute_result",
          "data": {
            "text/plain": [
              "0.7546712730911398"
            ]
          },
          "metadata": {},
          "execution_count": 164
        }
      ]
    },
    {
      "cell_type": "code",
      "source": [
        "cf = confusion_matrix(y_validation, np.round(y_proba))\n",
        "ax = plt.subplots()\n",
        "ax = sns.heatmap(cf/np.sum(cf), annot=True, fmt='.2%', cmap='Blues')\n",
        "ax.set_title('Confusion matrix\\n\\n');\n",
        "ax.xaxis.set_ticklabels(['True','False'])\n",
        "ax.yaxis.set_ticklabels(['True','False'])\n",
        "plt.show()"
      ],
      "metadata": {
        "colab": {
          "base_uri": "https://localhost:8080/",
          "height": 311
        },
        "id": "0JzbkJSIGJTR",
        "outputId": "66db1263-0cd8-49c8-e10f-f31ae0d7fa83"
      },
      "execution_count": 165,
      "outputs": [
        {
          "output_type": "display_data",
          "data": {
            "text/plain": [
              "<Figure size 432x288 with 2 Axes>"
            ],
            "image/png": "[encoded data removed]"
          },
          "metadata": {
            "needs_background": "light"
          }
        }
      ]
    },
    {
      "cell_type": "markdown",
      "source": [
        "Results of model with unbalanced dataset:"
      ],
      "metadata": {
        "id": "gpyRciaYhapH"
      }
    },
    {
      "cell_type": "code",
      "source": [
        "RM1 = model.predict(X_dtest)\n",
        "create_otp(RM1, name='Santander_Customer_Satisfaction_unbalanced.csv')"
      ],
      "metadata": {
        "id": "zxWPZjDEgSdq"
      },
      "execution_count": 166,
      "outputs": []
    },
    {
      "cell_type": "markdown",
      "source": [
        "#5. Oversampled Test"
      ],
      "metadata": {
        "id": "u4FBHdIA5P7T"
      }
    },
    {
      "cell_type": "markdown",
      "source": [
        "Training of the model with Oversampler:"
      ],
      "metadata": {
        "id": "42lLwm0vvb27"
      }
    },
    {
      "cell_type": "code",
      "source": [
        "from imblearn.over_sampling import RandomOverSampler\n",
        "over_sampler = RandomOverSampler(random_state=42)\n",
        "X_res, y_res = over_sampler.fit_resample(X_train, y_train)\n",
        "print(f\"Training target statistics: {Counter(y_res)}\")\n",
        "print(f\"Testing target statistics: {Counter(y_validation)}\")"
      ],
      "metadata": {
        "id": "NobxDJU2rZpp",
        "colab": {
          "base_uri": "https://localhost:8080/"
        },
        "outputId": "d52e0303-7335-497c-acc7-e1679afb0b70"
      },
      "execution_count": 167,
      "outputs": [
        {
          "output_type": "stream",
          "name": "stdout",
          "text": [
            "Training target statistics: Counter({0.0: 58415, 1.0: 58415})\n",
            "Testing target statistics: Counter({0.0: 14597, 1.0: 607})\n"
          ]
        }
      ]
    },
    {
      "cell_type": "code",
      "source": [
        "history = model.fit(X_res, y_res, epochs=epch, validation_data=(X_validation, y_validation))"
      ],
      "metadata": {
        "id": "Tj-hPIaurdCg",
        "colab": {
          "base_uri": "https://localhost:8080/"
        },
        "outputId": "a8b4fad0-953b-48bf-8d2c-ff25e95c3e4c"
      },
      "execution_count": 168,
      "outputs": [
        {
          "output_type": "stream",
          "name": "stdout",
          "text": [
            "Epoch 1/20\n",
            "3651/3651 [==============================] - 8s 2ms/step - loss: 0.5894 - accuracy: 0.7025 - val_loss: 0.6506 - val_accuracy: 0.7139\n",
            "Epoch 2/20\n",
            "3651/3651 [==============================] - 8s 2ms/step - loss: 0.5793 - accuracy: 0.7092 - val_loss: 0.6518 - val_accuracy: 0.7155\n",
            "Epoch 3/20\n",
            "3651/3651 [==============================] - 8s 2ms/step - loss: 0.5765 - accuracy: 0.7097 - val_loss: 0.5441 - val_accuracy: 0.7639\n",
            "Epoch 4/20\n",
            "3651/3651 [==============================] - 8s 2ms/step - loss: 0.5760 - accuracy: 0.7101 - val_loss: 0.5784 - val_accuracy: 0.7600\n",
            "Epoch 5/20\n",
            "3651/3651 [==============================] - 8s 2ms/step - loss: 0.5737 - accuracy: 0.7125 - val_loss: 0.6538 - val_accuracy: 0.7063\n",
            "Epoch 6/20\n",
            "3651/3651 [==============================] - 9s 2ms/step - loss: 0.5722 - accuracy: 0.7116 - val_loss: 0.5825 - val_accuracy: 0.7595\n",
            "Epoch 7/20\n",
            "3651/3651 [==============================] - 8s 2ms/step - loss: 0.5707 - accuracy: 0.7128 - val_loss: 0.6182 - val_accuracy: 0.7373\n",
            "Epoch 8/20\n",
            "3651/3651 [==============================] - 8s 2ms/step - loss: 0.5698 - accuracy: 0.7133 - val_loss: 0.5638 - val_accuracy: 0.7628\n",
            "Epoch 9/20\n",
            "3651/3651 [==============================] - 8s 2ms/step - loss: 0.5696 - accuracy: 0.7140 - val_loss: 0.5287 - val_accuracy: 0.7828\n",
            "Epoch 10/20\n",
            "3651/3651 [==============================] - 8s 2ms/step - loss: 0.5690 - accuracy: 0.7139 - val_loss: 0.6219 - val_accuracy: 0.7303\n",
            "Epoch 11/20\n",
            "3651/3651 [==============================] - 8s 2ms/step - loss: 0.5684 - accuracy: 0.7135 - val_loss: 0.6150 - val_accuracy: 0.7341\n",
            "Epoch 12/20\n",
            "3651/3651 [==============================] - 8s 2ms/step - loss: 0.5680 - accuracy: 0.7133 - val_loss: 0.5400 - val_accuracy: 0.7643\n",
            "Epoch 13/20\n",
            "3651/3651 [==============================] - 8s 2ms/step - loss: 0.5677 - accuracy: 0.7130 - val_loss: 0.6019 - val_accuracy: 0.7260\n",
            "Epoch 14/20\n",
            "3651/3651 [==============================] - 8s 2ms/step - loss: 0.5670 - accuracy: 0.7144 - val_loss: 0.5846 - val_accuracy: 0.7553\n",
            "Epoch 15/20\n",
            "3651/3651 [==============================] - 8s 2ms/step - loss: 0.5665 - accuracy: 0.7147 - val_loss: 0.6239 - val_accuracy: 0.7334\n",
            "Epoch 16/20\n",
            "3651/3651 [==============================] - 8s 2ms/step - loss: 0.5666 - accuracy: 0.7140 - val_loss: 0.5862 - val_accuracy: 0.7620\n",
            "Epoch 17/20\n",
            "3651/3651 [==============================] - 8s 2ms/step - loss: 0.5654 - accuracy: 0.7147 - val_loss: 0.5661 - val_accuracy: 0.7516\n",
            "Epoch 18/20\n",
            "3651/3651 [==============================] - 8s 2ms/step - loss: 0.5649 - accuracy: 0.7153 - val_loss: 0.5451 - val_accuracy: 0.7739\n",
            "Epoch 19/20\n",
            "3651/3651 [==============================] - 8s 2ms/step - loss: 0.5639 - accuracy: 0.7162 - val_loss: 0.5402 - val_accuracy: 0.7805\n",
            "Epoch 20/20\n",
            "3651/3651 [==============================] - 8s 2ms/step - loss: 0.5649 - accuracy: 0.7141 - val_loss: 0.5842 - val_accuracy: 0.7586\n"
          ]
        }
      ]
    },
    {
      "cell_type": "code",
      "source": [
        "y_proba = model.predict(X_validation)\n",
        "fpr, tpr, thresholds = roc_curve(y_validation,y_proba)\n",
        "plot_roc_curve(fpr, tpr)\n",
        "plt.show()"
      ],
      "metadata": {
        "id": "N2C6a7wJri6n",
        "colab": {
          "base_uri": "https://localhost:8080/",
          "height": 265
        },
        "outputId": "d11fc8d8-fed8-4981-e07c-6376648cfdf8"
      },
      "execution_count": 169,
      "outputs": [
        {
          "output_type": "display_data",
          "data": {
            "text/plain": [
              "<Figure size 432x288 with 1 Axes>"
            ],
            "image/png": "[encoded data removed]"
          },
          "metadata": {
            "needs_background": "light"
          }
        }
      ]
    },
    {
      "cell_type": "code",
      "source": [
        "roc_auc_score(y_validation, y_proba)"
      ],
      "metadata": {
        "id": "aSveWZDarjlz",
        "colab": {
          "base_uri": "https://localhost:8080/"
        },
        "outputId": "5ef17d90-d5fe-4f5a-c11f-34700ea8a98d"
      },
      "execution_count": 170,
      "outputs": [
        {
          "output_type": "execute_result",
          "data": {
            "text/plain": [
              "0.7716413710971054"
            ]
          },
          "metadata": {},
          "execution_count": 170
        }
      ]
    },
    {
      "cell_type": "code",
      "source": [
        "cf = confusion_matrix(y_validation, np.round(y_proba))\n",
        "ax = plt.subplots()\n",
        "ax = sns.heatmap(cf/np.sum(cf), annot=True, fmt='.2%', cmap='Blues')\n",
        "ax.set_title('Confusion matrix\\n\\n');\n",
        "ax.xaxis.set_ticklabels(['True','False'])\n",
        "ax.yaxis.set_ticklabels(['True','False'])\n",
        "plt.show()"
      ],
      "metadata": {
        "id": "9MAqXcd0ru_w",
        "colab": {
          "base_uri": "https://localhost:8080/",
          "height": 311
        },
        "outputId": "4d62b5ce-14e7-4789-d761-1cb2866d64e7"
      },
      "execution_count": 171,
      "outputs": [
        {
          "output_type": "display_data",
          "data": {
            "text/plain": [
              "<Figure size 432x288 with 2 Axes>"
            ],
            "image/png": "[encoded data removed]"
          },
          "metadata": {
            "needs_background": "light"
          }
        }
      ]
    },
    {
      "cell_type": "code",
      "source": [
        "print(f\"Training target statistics: {Counter(y_res)}\")\n",
        "print(f\"Testing target statistics: {Counter(y_validation)}\")"
      ],
      "metadata": {
        "colab": {
          "base_uri": "https://localhost:8080/"
        },
        "id": "G7YayqurypvW",
        "outputId": "535e4c3e-97a3-413a-9db7-ad6095c372c5"
      },
      "execution_count": 172,
      "outputs": [
        {
          "output_type": "stream",
          "name": "stdout",
          "text": [
            "Training target statistics: Counter({0.0: 58415, 1.0: 58415})\n",
            "Testing target statistics: Counter({0.0: 14597, 1.0: 607})\n"
          ]
        }
      ]
    },
    {
      "cell_type": "markdown",
      "source": [
        "Results of the model with Oversampler:"
      ],
      "metadata": {
        "id": "Fh73w7qDitfr"
      }
    },
    {
      "cell_type": "code",
      "source": [
        "RM2 = model.predict(X_dtest) \n",
        "create_otp(RM2, name='Santander_Customer_Satisfaction_oversampled.csv')"
      ],
      "metadata": {
        "id": "E-h8vzGpifXf"
      },
      "execution_count": 173,
      "outputs": []
    },
    {
      "cell_type": "markdown",
      "source": [
        "#6. Undersampled Test"
      ],
      "metadata": {
        "id": "-LgKVaHO5Us-"
      }
    },
    {
      "cell_type": "markdown",
      "source": [
        "Training of the model with Undersampler:"
      ],
      "metadata": {
        "id": "Pz_obCyQwEst"
      }
    },
    {
      "cell_type": "code",
      "source": [
        "from imblearn.under_sampling import RandomUnderSampler\n",
        "\n",
        "under_sampler = RandomUnderSampler(random_state=42)\n",
        "X_res, y_res = under_sampler.fit_resample(X_train, y_train)\n",
        "print(f\"Training target statistics: {Counter(y_res)}\")\n",
        "print(f\"Testing target statistics: {Counter(y_validation)}\")"
      ],
      "metadata": {
        "id": "IWmRjOM3r0QQ",
        "colab": {
          "base_uri": "https://localhost:8080/"
        },
        "outputId": "de677eb7-cf47-4bef-da3f-8d8f0c827fac"
      },
      "execution_count": 174,
      "outputs": [
        {
          "output_type": "stream",
          "name": "stdout",
          "text": [
            "Training target statistics: Counter({0.0: 2401, 1.0: 2401})\n",
            "Testing target statistics: Counter({0.0: 14597, 1.0: 607})\n"
          ]
        }
      ]
    },
    {
      "cell_type": "code",
      "source": [
        "history = model.fit(X_res, y_res, epochs=epch, validation_data=(X_validation, y_validation))"
      ],
      "metadata": {
        "id": "sYtMEhEWr1Dp",
        "colab": {
          "base_uri": "https://localhost:8080/"
        },
        "outputId": "e656080c-ca82-47dc-9113-d34dbf6df998"
      },
      "execution_count": 175,
      "outputs": [
        {
          "output_type": "stream",
          "name": "stdout",
          "text": [
            "Epoch 1/20\n",
            "151/151 [==============================] - 1s 7ms/step - loss: 0.5617 - accuracy: 0.7209 - val_loss: 0.5506 - val_accuracy: 0.7622\n",
            "Epoch 2/20\n",
            "151/151 [==============================] - 2s 12ms/step - loss: 0.5572 - accuracy: 0.7234 - val_loss: 0.5838 - val_accuracy: 0.7560\n",
            "Epoch 3/20\n",
            "151/151 [==============================] - 1s 7ms/step - loss: 0.5613 - accuracy: 0.7241 - val_loss: 0.5737 - val_accuracy: 0.7646\n",
            "Epoch 4/20\n",
            "151/151 [==============================] - 1s 6ms/step - loss: 0.5602 - accuracy: 0.7249 - val_loss: 0.5339 - val_accuracy: 0.7694\n",
            "Epoch 5/20\n",
            "151/151 [==============================] - 1s 6ms/step - loss: 0.5581 - accuracy: 0.7234 - val_loss: 0.5590 - val_accuracy: 0.7664\n",
            "Epoch 6/20\n",
            "151/151 [==============================] - 1s 6ms/step - loss: 0.5601 - accuracy: 0.7234 - val_loss: 0.5810 - val_accuracy: 0.7516\n",
            "Epoch 7/20\n",
            "151/151 [==============================] - 1s 6ms/step - loss: 0.5595 - accuracy: 0.7257 - val_loss: 0.5994 - val_accuracy: 0.7471\n",
            "Epoch 8/20\n",
            "151/151 [==============================] - 1s 6ms/step - loss: 0.5569 - accuracy: 0.7268 - val_loss: 0.5623 - val_accuracy: 0.7579\n",
            "Epoch 9/20\n",
            "151/151 [==============================] - 1s 6ms/step - loss: 0.5590 - accuracy: 0.7257 - val_loss: 0.6229 - val_accuracy: 0.7170\n",
            "Epoch 10/20\n",
            "151/151 [==============================] - 1s 6ms/step - loss: 0.5580 - accuracy: 0.7247 - val_loss: 0.5846 - val_accuracy: 0.7535\n",
            "Epoch 11/20\n",
            "151/151 [==============================] - 1s 6ms/step - loss: 0.5568 - accuracy: 0.7264 - val_loss: 0.4954 - val_accuracy: 0.8033\n",
            "Epoch 12/20\n",
            "151/151 [==============================] - 1s 6ms/step - loss: 0.5609 - accuracy: 0.7207 - val_loss: 0.5639 - val_accuracy: 0.7722\n",
            "Epoch 13/20\n",
            "151/151 [==============================] - 1s 6ms/step - loss: 0.5557 - accuracy: 0.7239 - val_loss: 0.6794 - val_accuracy: 0.6862\n",
            "Epoch 14/20\n",
            "151/151 [==============================] - 1s 6ms/step - loss: 0.5583 - accuracy: 0.7212 - val_loss: 0.5381 - val_accuracy: 0.7800\n",
            "Epoch 15/20\n",
            "151/151 [==============================] - 1s 6ms/step - loss: 0.5559 - accuracy: 0.7205 - val_loss: 0.5326 - val_accuracy: 0.7690\n",
            "Epoch 16/20\n",
            "151/151 [==============================] - 1s 6ms/step - loss: 0.5574 - accuracy: 0.7239 - val_loss: 0.7009 - val_accuracy: 0.6652\n",
            "Epoch 17/20\n",
            "151/151 [==============================] - 1s 6ms/step - loss: 0.5602 - accuracy: 0.7234 - val_loss: 0.5699 - val_accuracy: 0.7552\n",
            "Epoch 18/20\n",
            "151/151 [==============================] - 1s 6ms/step - loss: 0.5571 - accuracy: 0.7251 - val_loss: 0.6181 - val_accuracy: 0.7292\n",
            "Epoch 19/20\n",
            "151/151 [==============================] - 1s 6ms/step - loss: 0.5573 - accuracy: 0.7224 - val_loss: 0.5984 - val_accuracy: 0.7452\n",
            "Epoch 20/20\n",
            "151/151 [==============================] - 1s 6ms/step - loss: 0.5598 - accuracy: 0.7234 - val_loss: 0.5786 - val_accuracy: 0.7363\n"
          ]
        }
      ]
    },
    {
      "cell_type": "code",
      "source": [
        "y_proba = model.predict(X_validation)\n",
        "fpr, tpr, thresholds = roc_curve(y_validation,y_proba)\n",
        "plot_roc_curve(fpr, tpr)\n",
        "plt.show()"
      ],
      "metadata": {
        "id": "Ilv5flI8r4lU",
        "colab": {
          "base_uri": "https://localhost:8080/",
          "height": 265
        },
        "outputId": "ddb4c27b-73fa-419c-ef37-d2f650782a48"
      },
      "execution_count": 176,
      "outputs": [
        {
          "output_type": "display_data",
          "data": {
            "text/plain": [
              "<Figure size 432x288 with 1 Axes>"
            ],
            "image/png": "[encoded data removed]"
          },
          "metadata": {
            "needs_background": "light"
          }
        }
      ]
    },
    {
      "cell_type": "code",
      "source": [
        "roc_auc_score(y_validation, y_proba)"
      ],
      "metadata": {
        "id": "uRutIDv2r7J_",
        "colab": {
          "base_uri": "https://localhost:8080/"
        },
        "outputId": "6e2d3e15-0880-42e9-b62f-af952f318995"
      },
      "execution_count": 177,
      "outputs": [
        {
          "output_type": "execute_result",
          "data": {
            "text/plain": [
              "0.7663561569996047"
            ]
          },
          "metadata": {},
          "execution_count": 177
        }
      ]
    },
    {
      "cell_type": "code",
      "source": [
        "cf = confusion_matrix(y_validation, np.round(y_proba))\n",
        "ax = plt.subplots()\n",
        "ax = sns.heatmap(cf/np.sum(cf), annot=True, fmt='.2%', cmap='Blues')\n",
        "ax.set_title('Confusion matrix\\n\\n');\n",
        "ax.xaxis.set_ticklabels(['True','False'])\n",
        "ax.yaxis.set_ticklabels(['True','False'])\n",
        "plt.show()"
      ],
      "metadata": {
        "id": "sdFAn3E3sCFV",
        "colab": {
          "base_uri": "https://localhost:8080/",
          "height": 311
        },
        "outputId": "555243b4-4216-40b8-a496-83408d281b2b"
      },
      "execution_count": 178,
      "outputs": [
        {
          "output_type": "display_data",
          "data": {
            "text/plain": [
              "<Figure size 432x288 with 2 Axes>"
            ],
            "image/png": "[encoded data removed]"
          },
          "metadata": {
            "needs_background": "light"
          }
        }
      ]
    },
    {
      "cell_type": "code",
      "source": [
        "print(f\"Training target statistics: {Counter(y_res)}\")\n",
        "print(f\"Testing target statistics: {Counter(y_validation)}\")"
      ],
      "metadata": {
        "colab": {
          "base_uri": "https://localhost:8080/"
        },
        "id": "AObz4L39zAua",
        "outputId": "dae850c1-aef1-4372-ceea-e173e00e34bf"
      },
      "execution_count": 179,
      "outputs": [
        {
          "output_type": "stream",
          "name": "stdout",
          "text": [
            "Training target statistics: Counter({0.0: 2401, 1.0: 2401})\n",
            "Testing target statistics: Counter({0.0: 14597, 1.0: 607})\n"
          ]
        }
      ]
    },
    {
      "cell_type": "markdown",
      "source": [
        "Results of the model with Undersampler:"
      ],
      "metadata": {
        "id": "bKSREclZjfqK"
      }
    },
    {
      "cell_type": "code",
      "source": [
        "RM3 = model.predict(X_dtest) \n",
        "create_otp(RM3,name='Santander_Customer_Satisfaction_undersampled.csv')"
      ],
      "metadata": {
        "id": "aXiA5otnjh4Q"
      },
      "execution_count": 180,
      "outputs": []
    }
  ]
}