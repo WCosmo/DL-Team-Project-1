{
  "nbformat": 4,
  "nbformat_minor": 0,
  "metadata": {
    "colab": {
      "provenance": [],
      "collapsed_sections": [],
      "include_colab_link": true
    },
    "kernelspec": {
      "name": "python3",
      "display_name": "Python 3"
    },
    "language_info": {
      "name": "python"
    }
  },
  "cells": [
    {
      "cell_type": "markdown",
      "metadata": {
        "id": "view-in-github",
        "colab_type": "text"
      },
      "source": [
        "<a href=\"https://colab.research.google.com/github/WCosmo/DL-Team-Project-1/blob/main/santander_kaggle_challenger_final.ipynb\" target=\"_parent\"><img src=\"https://colab.research.google.com/assets/colab-badge.svg\" alt=\"Open In Colab\"/></a>"
      ]
    },
    {
      "cell_type": "markdown",
      "source": [
        "Upload the API token:"
      ],
      "metadata": {
        "id": "yPWbzBWYsHEE"
      }
    },
    {
      "cell_type": "code",
      "execution_count": 8,
      "metadata": {
        "id": "zlTQ3gb80ftC"
      },
      "outputs": [],
      "source": [
        "from google.colab import files\n"
      ]
    },
    {
      "cell_type": "code",
      "source": [
        "files.upload() #upload kaggle.json"
      ],
      "metadata": {
        "id": "rKyOPCTastiE"
      },
      "execution_count": null,
      "outputs": []
    },
    {
      "cell_type": "markdown",
      "source": [
        "Download the Dataset:"
      ],
      "metadata": {
        "id": "FpxYDzlptV0X"
      }
    },
    {
      "cell_type": "code",
      "source": [
        "!mkdir -p ~/.kaggle\n",
        "!cp kaggle.json ~/.kaggle/\n",
        "!chmod 600 /root/.kaggle/kaggle.json\n",
        "import kaggle"
      ],
      "metadata": {
        "id": "oYpqWkXK049f"
      },
      "execution_count": 10,
      "outputs": []
    },
    {
      "cell_type": "code",
      "source": [
        "!kaggle competitions download -c santander-customer-satisfaction"
      ],
      "metadata": {
        "colab": {
          "base_uri": "https://localhost:8080/"
        },
        "id": "u-DT9SD13q_R",
        "outputId": "fe2d636a-58ab-488e-f166-86aaafb09ce9"
      },
      "execution_count": 11,
      "outputs": [
        {
          "output_type": "stream",
          "name": "stdout",
          "text": [
            "Downloading santander-customer-satisfaction.zip to /content\n",
            "\r  0% 0.00/8.25M [00:00<?, ?B/s]\r 61% 5.00M/8.25M [00:00<00:00, 31.9MB/s]\n",
            "\r100% 8.25M/8.25M [00:00<00:00, 49.3MB/s]\n"
          ]
        }
      ]
    },
    {
      "cell_type": "markdown",
      "source": [
        "Install the Dataset:"
      ],
      "metadata": {
        "id": "3JAkq4u6tc9A"
      }
    },
    {
      "cell_type": "code",
      "source": [
        "!unzip -q santander-customer-satisfaction.zip \n"
      ],
      "metadata": {
        "id": "dCxybiA85GLt"
      },
      "execution_count": 12,
      "outputs": []
    },
    {
      "cell_type": "markdown",
      "source": [
        "Load the Dataset as Pandas:"
      ],
      "metadata": {
        "id": "zZPXEMjStj_o"
      }
    },
    {
      "cell_type": "code",
      "source": [
        "import pandas as pd\n",
        "customer_data = pd.read_csv(\"train.csv\")\n",
        "customer_data_test = pd.read_csv(\"test.csv\")"
      ],
      "metadata": {
        "id": "Y7R2E_RT5mTX"
      },
      "execution_count": 13,
      "outputs": []
    },
    {
      "cell_type": "code",
      "source": [
        "customer_data.describe()"
      ],
      "metadata": {
        "colab": {
          "base_uri": "https://localhost:8080/",
          "height": 394
        },
        "id": "_cak6nn55snt",
        "outputId": "437d71e8-f550-47c3-c242-9910636bdbc4"
      },
      "execution_count": 14,
      "outputs": [
        {
          "output_type": "execute_result",
          "data": {
            "text/plain": [
              "                  ID           var3         var15  imp_ent_var16_ult1  \\\n",
              "count   76020.000000   76020.000000  76020.000000        76020.000000   \n",
              "mean    75964.050723   -1523.199277     33.212865           86.208265   \n",
              "std     43781.947379   39033.462364     12.956486         1614.757313   \n",
              "min         1.000000 -999999.000000      5.000000            0.000000   \n",
              "25%     38104.750000       2.000000     23.000000            0.000000   \n",
              "50%     76043.000000       2.000000     28.000000            0.000000   \n",
              "75%    113748.750000       2.000000     40.000000            0.000000   \n",
              "max    151838.000000     238.000000    105.000000       210000.000000   \n",
              "\n",
              "       imp_op_var39_comer_ult1  imp_op_var39_comer_ult3  \\\n",
              "count             76020.000000             76020.000000   \n",
              "mean                 72.363067               119.529632   \n",
              "std                 339.315831               546.266294   \n",
              "min                   0.000000                 0.000000   \n",
              "25%                   0.000000                 0.000000   \n",
              "50%                   0.000000                 0.000000   \n",
              "75%                   0.000000                 0.000000   \n",
              "max               12888.030000             21024.810000   \n",
              "\n",
              "       imp_op_var40_comer_ult1  imp_op_var40_comer_ult3  \\\n",
              "count             76020.000000             76020.000000   \n",
              "mean                  3.559130                 6.472698   \n",
              "std                  93.155749               153.737066   \n",
              "min                   0.000000                 0.000000   \n",
              "25%                   0.000000                 0.000000   \n",
              "50%                   0.000000                 0.000000   \n",
              "75%                   0.000000                 0.000000   \n",
              "max                8237.820000             11073.570000   \n",
              "\n",
              "       imp_op_var40_efect_ult1  imp_op_var40_efect_ult3  ...  \\\n",
              "count             76020.000000             76020.000000  ...   \n",
              "mean                  0.412946                 0.567352  ...   \n",
              "std                  30.604864                36.513513  ...   \n",
              "min                   0.000000                 0.000000  ...   \n",
              "25%                   0.000000                 0.000000  ...   \n",
              "50%                   0.000000                 0.000000  ...   \n",
              "75%                   0.000000                 0.000000  ...   \n",
              "max                6600.000000              6600.000000  ...   \n",
              "\n",
              "       saldo_medio_var33_hace2  saldo_medio_var33_hace3  \\\n",
              "count             76020.000000             76020.000000   \n",
              "mean                  7.935824                 1.365146   \n",
              "std                 455.887218               113.959637   \n",
              "min                   0.000000                 0.000000   \n",
              "25%                   0.000000                 0.000000   \n",
              "50%                   0.000000                 0.000000   \n",
              "75%                   0.000000                 0.000000   \n",
              "max               50003.880000             20385.720000   \n",
              "\n",
              "       saldo_medio_var33_ult1  saldo_medio_var33_ult3  \\\n",
              "count            76020.000000            76020.000000   \n",
              "mean                12.215580                8.784074   \n",
              "std                783.207399              538.439211   \n",
              "min                  0.000000                0.000000   \n",
              "25%                  0.000000                0.000000   \n",
              "50%                  0.000000                0.000000   \n",
              "75%                  0.000000                0.000000   \n",
              "max             138831.630000            91778.730000   \n",
              "\n",
              "       saldo_medio_var44_hace2  saldo_medio_var44_hace3  \\\n",
              "count             76020.000000             76020.000000   \n",
              "mean                 31.505324                 1.858575   \n",
              "std                2013.125393               147.786584   \n",
              "min                   0.000000                 0.000000   \n",
              "25%                   0.000000                 0.000000   \n",
              "50%                   0.000000                 0.000000   \n",
              "75%                   0.000000                 0.000000   \n",
              "max              438329.220000             24650.010000   \n",
              "\n",
              "       saldo_medio_var44_ult1  saldo_medio_var44_ult3         var38  \\\n",
              "count            76020.000000            76020.000000  7.602000e+04   \n",
              "mean                76.026165               56.614351  1.172358e+05   \n",
              "std               4040.337842             2852.579397  1.826646e+05   \n",
              "min                  0.000000                0.000000  5.163750e+03   \n",
              "25%                  0.000000                0.000000  6.787061e+04   \n",
              "50%                  0.000000                0.000000  1.064092e+05   \n",
              "75%                  0.000000                0.000000  1.187563e+05   \n",
              "max             681462.900000           397884.300000  2.203474e+07   \n",
              "\n",
              "             TARGET  \n",
              "count  76020.000000  \n",
              "mean       0.039569  \n",
              "std        0.194945  \n",
              "min        0.000000  \n",
              "25%        0.000000  \n",
              "50%        0.000000  \n",
              "75%        0.000000  \n",
              "max        1.000000  \n",
              "\n",
              "[8 rows x 371 columns]"
            ],
            "text/html": [
              "\n",
              "  <div id=\"df-01529954-9ad0-4562-a7b5-3360d838ea2d\">\n",
              "    <div class=\"colab-df-container\">\n",
              "      <div>\n",
              "<style scoped>\n",
              "    .dataframe tbody tr th:only-of-type {\n",
              "        vertical-align: middle;\n",
              "    }\n",
              "\n",
              "    .dataframe tbody tr th {\n",
              "        vertical-align: top;\n",
              "    }\n",
              "\n",
              "    .dataframe thead th {\n",
              "        text-align: right;\n",
              "    }\n",
              "</style>\n",
              "<table border=\"1\" class=\"dataframe\">\n",
              "  <thead>\n",
              "    <tr style=\"text-align: right;\">\n",
              "      <th></th>\n",
              "      <th>ID</th>\n",
              "      <th>var3</th>\n",
              "      <th>var15</th>\n",
              "      <th>imp_ent_var16_ult1</th>\n",
              "      <th>imp_op_var39_comer_ult1</th>\n",
              "      <th>imp_op_var39_comer_ult3</th>\n",
              "      <th>imp_op_var40_comer_ult1</th>\n",
              "      <th>imp_op_var40_comer_ult3</th>\n",
              "      <th>imp_op_var40_efect_ult1</th>\n",
              "      <th>imp_op_var40_efect_ult3</th>\n",
              "      <th>...</th>\n",
              "      <th>saldo_medio_var33_hace2</th>\n",
              "      <th>saldo_medio_var33_hace3</th>\n",
              "      <th>saldo_medio_var33_ult1</th>\n",
              "      <th>saldo_medio_var33_ult3</th>\n",
              "      <th>saldo_medio_var44_hace2</th>\n",
              "      <th>saldo_medio_var44_hace3</th>\n",
              "      <th>saldo_medio_var44_ult1</th>\n",
              "      <th>saldo_medio_var44_ult3</th>\n",
              "      <th>var38</th>\n",
              "      <th>TARGET</th>\n",
              "    </tr>\n",
              "  </thead>\n",
              "  <tbody>\n",
              "    <tr>\n",
              "      <th>count</th>\n",
              "      <td>76020.000000</td>\n",
              "      <td>76020.000000</td>\n",
              "      <td>76020.000000</td>\n",
              "      <td>76020.000000</td>\n",
              "      <td>76020.000000</td>\n",
              "      <td>76020.000000</td>\n",
              "      <td>76020.000000</td>\n",
              "      <td>76020.000000</td>\n",
              "      <td>76020.000000</td>\n",
              "      <td>76020.000000</td>\n",
              "      <td>...</td>\n",
              "      <td>76020.000000</td>\n",
              "      <td>76020.000000</td>\n",
              "      <td>76020.000000</td>\n",
              "      <td>76020.000000</td>\n",
              "      <td>76020.000000</td>\n",
              "      <td>76020.000000</td>\n",
              "      <td>76020.000000</td>\n",
              "      <td>76020.000000</td>\n",
              "      <td>7.602000e+04</td>\n",
              "      <td>76020.000000</td>\n",
              "    </tr>\n",
              "    <tr>\n",
              "      <th>mean</th>\n",
              "      <td>75964.050723</td>\n",
              "      <td>-1523.199277</td>\n",
              "      <td>33.212865</td>\n",
              "      <td>86.208265</td>\n",
              "      <td>72.363067</td>\n",
              "      <td>119.529632</td>\n",
              "      <td>3.559130</td>\n",
              "      <td>6.472698</td>\n",
              "      <td>0.412946</td>\n",
              "      <td>0.567352</td>\n",
              "      <td>...</td>\n",
              "      <td>7.935824</td>\n",
              "      <td>1.365146</td>\n",
              "      <td>12.215580</td>\n",
              "      <td>8.784074</td>\n",
              "      <td>31.505324</td>\n",
              "      <td>1.858575</td>\n",
              "      <td>76.026165</td>\n",
              "      <td>56.614351</td>\n",
              "      <td>1.172358e+05</td>\n",
              "      <td>0.039569</td>\n",
              "    </tr>\n",
              "    <tr>\n",
              "      <th>std</th>\n",
              "      <td>43781.947379</td>\n",
              "      <td>39033.462364</td>\n",
              "      <td>12.956486</td>\n",
              "      <td>1614.757313</td>\n",
              "      <td>339.315831</td>\n",
              "      <td>546.266294</td>\n",
              "      <td>93.155749</td>\n",
              "      <td>153.737066</td>\n",
              "      <td>30.604864</td>\n",
              "      <td>36.513513</td>\n",
              "      <td>...</td>\n",
              "      <td>455.887218</td>\n",
              "      <td>113.959637</td>\n",
              "      <td>783.207399</td>\n",
              "      <td>538.439211</td>\n",
              "      <td>2013.125393</td>\n",
              "      <td>147.786584</td>\n",
              "      <td>4040.337842</td>\n",
              "      <td>2852.579397</td>\n",
              "      <td>1.826646e+05</td>\n",
              "      <td>0.194945</td>\n",
              "    </tr>\n",
              "    <tr>\n",
              "      <th>min</th>\n",
              "      <td>1.000000</td>\n",
              "      <td>-999999.000000</td>\n",
              "      <td>5.000000</td>\n",
              "      <td>0.000000</td>\n",
              "      <td>0.000000</td>\n",
              "      <td>0.000000</td>\n",
              "      <td>0.000000</td>\n",
              "      <td>0.000000</td>\n",
              "      <td>0.000000</td>\n",
              "      <td>0.000000</td>\n",
              "      <td>...</td>\n",
              "      <td>0.000000</td>\n",
              "      <td>0.000000</td>\n",
              "      <td>0.000000</td>\n",
              "      <td>0.000000</td>\n",
              "      <td>0.000000</td>\n",
              "      <td>0.000000</td>\n",
              "      <td>0.000000</td>\n",
              "      <td>0.000000</td>\n",
              "      <td>5.163750e+03</td>\n",
              "      <td>0.000000</td>\n",
              "    </tr>\n",
              "    <tr>\n",
              "      <th>25%</th>\n",
              "      <td>38104.750000</td>\n",
              "      <td>2.000000</td>\n",
              "      <td>23.000000</td>\n",
              "      <td>0.000000</td>\n",
              "      <td>0.000000</td>\n",
              "      <td>0.000000</td>\n",
              "      <td>0.000000</td>\n",
              "      <td>0.000000</td>\n",
              "      <td>0.000000</td>\n",
              "      <td>0.000000</td>\n",
              "      <td>...</td>\n",
              "      <td>0.000000</td>\n",
              "      <td>0.000000</td>\n",
              "      <td>0.000000</td>\n",
              "      <td>0.000000</td>\n",
              "      <td>0.000000</td>\n",
              "      <td>0.000000</td>\n",
              "      <td>0.000000</td>\n",
              "      <td>0.000000</td>\n",
              "      <td>6.787061e+04</td>\n",
              "      <td>0.000000</td>\n",
              "    </tr>\n",
              "    <tr>\n",
              "      <th>50%</th>\n",
              "      <td>76043.000000</td>\n",
              "      <td>2.000000</td>\n",
              "      <td>28.000000</td>\n",
              "      <td>0.000000</td>\n",
              "      <td>0.000000</td>\n",
              "      <td>0.000000</td>\n",
              "      <td>0.000000</td>\n",
              "      <td>0.000000</td>\n",
              "      <td>0.000000</td>\n",
              "      <td>0.000000</td>\n",
              "      <td>...</td>\n",
              "      <td>0.000000</td>\n",
              "      <td>0.000000</td>\n",
              "      <td>0.000000</td>\n",
              "      <td>0.000000</td>\n",
              "      <td>0.000000</td>\n",
              "      <td>0.000000</td>\n",
              "      <td>0.000000</td>\n",
              "      <td>0.000000</td>\n",
              "      <td>1.064092e+05</td>\n",
              "      <td>0.000000</td>\n",
              "    </tr>\n",
              "    <tr>\n",
              "      <th>75%</th>\n",
              "      <td>113748.750000</td>\n",
              "      <td>2.000000</td>\n",
              "      <td>40.000000</td>\n",
              "      <td>0.000000</td>\n",
              "      <td>0.000000</td>\n",
              "      <td>0.000000</td>\n",
              "      <td>0.000000</td>\n",
              "      <td>0.000000</td>\n",
              "      <td>0.000000</td>\n",
              "      <td>0.000000</td>\n",
              "      <td>...</td>\n",
              "      <td>0.000000</td>\n",
              "      <td>0.000000</td>\n",
              "      <td>0.000000</td>\n",
              "      <td>0.000000</td>\n",
              "      <td>0.000000</td>\n",
              "      <td>0.000000</td>\n",
              "      <td>0.000000</td>\n",
              "      <td>0.000000</td>\n",
              "      <td>1.187563e+05</td>\n",
              "      <td>0.000000</td>\n",
              "    </tr>\n",
              "    <tr>\n",
              "      <th>max</th>\n",
              "      <td>151838.000000</td>\n",
              "      <td>238.000000</td>\n",
              "      <td>105.000000</td>\n",
              "      <td>210000.000000</td>\n",
              "      <td>12888.030000</td>\n",
              "      <td>21024.810000</td>\n",
              "      <td>8237.820000</td>\n",
              "      <td>11073.570000</td>\n",
              "      <td>6600.000000</td>\n",
              "      <td>6600.000000</td>\n",
              "      <td>...</td>\n",
              "      <td>50003.880000</td>\n",
              "      <td>20385.720000</td>\n",
              "      <td>138831.630000</td>\n",
              "      <td>91778.730000</td>\n",
              "      <td>438329.220000</td>\n",
              "      <td>24650.010000</td>\n",
              "      <td>681462.900000</td>\n",
              "      <td>397884.300000</td>\n",
              "      <td>2.203474e+07</td>\n",
              "      <td>1.000000</td>\n",
              "    </tr>\n",
              "  </tbody>\n",
              "</table>\n",
              "<p>8 rows × 371 columns</p>\n",
              "</div>\n",
              "      <button class=\"colab-df-convert\" onclick=\"convertToInteractive('df-01529954-9ad0-4562-a7b5-3360d838ea2d')\"\n",
              "              title=\"Convert this dataframe to an interactive table.\"\n",
              "              style=\"display:none;\">\n",
              "        \n",
              "  <svg xmlns=\"http://www.w3.org/2000/svg\" height=\"24px\"viewBox=\"0 0 24 24\"\n",
              "       width=\"24px\">\n",
              "    <path d=\"M0 0h24v24H0V0z\" fill=\"none\"/>\n",
              "    <path d=\"M18.56 5.44l.94 2.06.94-2.06 2.06-.94-2.06-.94-.94-2.06-.94 2.06-2.06.94zm-11 1L8.5 8.5l.94-2.06 2.06-.94-2.06-.94L8.5 2.5l-.94 2.06-2.06.94zm10 10l.94 2.06.94-2.06 2.06-.94-2.06-.94-.94-2.06-.94 2.06-2.06.94z\"/><path d=\"M17.41 7.96l-1.37-1.37c-.4-.4-.92-.59-1.43-.59-.52 0-1.04.2-1.43.59L10.3 9.45l-7.72 7.72c-.78.78-.78 2.05 0 2.83L4 21.41c.39.39.9.59 1.41.59.51 0 1.02-.2 1.41-.59l7.78-7.78 2.81-2.81c.8-.78.8-2.07 0-2.86zM5.41 20L4 18.59l7.72-7.72 1.47 1.35L5.41 20z\"/>\n",
              "  </svg>\n",
              "      </button>\n",
              "      \n",
              "  <style>\n",
              "    .colab-df-container {\n",
              "      display:flex;\n",
              "      flex-wrap:wrap;\n",
              "      gap: 12px;\n",
              "    }\n",
              "\n",
              "    .colab-df-convert {\n",
              "      background-color: #E8F0FE;\n",
              "      border: none;\n",
              "      border-radius: 50%;\n",
              "      cursor: pointer;\n",
              "      display: none;\n",
              "      fill: #1967D2;\n",
              "      height: 32px;\n",
              "      padding: 0 0 0 0;\n",
              "      width: 32px;\n",
              "    }\n",
              "\n",
              "    .colab-df-convert:hover {\n",
              "      background-color: #E2EBFA;\n",
              "      box-shadow: 0px 1px 2px rgba(60, 64, 67, 0.3), 0px 1px 3px 1px rgba(60, 64, 67, 0.15);\n",
              "      fill: #174EA6;\n",
              "    }\n",
              "\n",
              "    [theme=dark] .colab-df-convert {\n",
              "      background-color: #3B4455;\n",
              "      fill: #D2E3FC;\n",
              "    }\n",
              "\n",
              "    [theme=dark] .colab-df-convert:hover {\n",
              "      background-color: #434B5C;\n",
              "      box-shadow: 0px 1px 3px 1px rgba(0, 0, 0, 0.15);\n",
              "      filter: drop-shadow(0px 1px 2px rgba(0, 0, 0, 0.3));\n",
              "      fill: #FFFFFF;\n",
              "    }\n",
              "  </style>\n",
              "\n",
              "      <script>\n",
              "        const buttonEl =\n",
              "          document.querySelector('#df-01529954-9ad0-4562-a7b5-3360d838ea2d button.colab-df-convert');\n",
              "        buttonEl.style.display =\n",
              "          google.colab.kernel.accessAllowed ? 'block' : 'none';\n",
              "\n",
              "        async function convertToInteractive(key) {\n",
              "          const element = document.querySelector('#df-01529954-9ad0-4562-a7b5-3360d838ea2d');\n",
              "          const dataTable =\n",
              "            await google.colab.kernel.invokeFunction('convertToInteractive',\n",
              "                                                     [key], {});\n",
              "          if (!dataTable) return;\n",
              "\n",
              "          const docLinkHtml = 'Like what you see? Visit the ' +\n",
              "            '<a target=\"_blank\" href=https://colab.research.google.com/notebooks/data_table.ipynb>data table notebook</a>'\n",
              "            + ' to learn more about interactive tables.';\n",
              "          element.innerHTML = '';\n",
              "          dataTable['output_type'] = 'display_data';\n",
              "          await google.colab.output.renderOutput(dataTable, element);\n",
              "          const docLink = document.createElement('div');\n",
              "          docLink.innerHTML = docLinkHtml;\n",
              "          element.appendChild(docLink);\n",
              "        }\n",
              "      </script>\n",
              "    </div>\n",
              "  </div>\n",
              "  "
            ]
          },
          "metadata": {},
          "execution_count": 14
        }
      ]
    },
    {
      "cell_type": "code",
      "source": [
        "customer_data.info()"
      ],
      "metadata": {
        "colab": {
          "base_uri": "https://localhost:8080/"
        },
        "id": "iarbfg0V59xS",
        "outputId": "2093251e-9b44-4fe4-932b-b4b8ab96ed12"
      },
      "execution_count": 15,
      "outputs": [
        {
          "output_type": "stream",
          "name": "stdout",
          "text": [
            "<class 'pandas.core.frame.DataFrame'>\n",
            "RangeIndex: 76020 entries, 0 to 76019\n",
            "Columns: 371 entries, ID to TARGET\n",
            "dtypes: float64(111), int64(260)\n",
            "memory usage: 215.2 MB\n"
          ]
        }
      ]
    },
    {
      "cell_type": "code",
      "source": [
        "customer_data_corr = customer_data.corr()"
      ],
      "metadata": {
        "id": "zxndNAOm7DZg"
      },
      "execution_count": 16,
      "outputs": []
    },
    {
      "cell_type": "code",
      "source": [
        "idx = customer_data_corr.index[customer_data_corr['TARGET']>=0.01]"
      ],
      "metadata": {
        "id": "0zlnEhHr7MWK"
      },
      "execution_count": 17,
      "outputs": []
    },
    {
      "cell_type": "code",
      "source": [
        "customer_data[idx]"
      ],
      "metadata": {
        "colab": {
          "base_uri": "https://localhost:8080/",
          "height": 488
        },
        "id": "xMEJUVa07RMQ",
        "outputId": "d67fe067-5660-4d78-8c47-1526cdf132d9"
      },
      "execution_count": 18,
      "outputs": [
        {
          "output_type": "execute_result",
          "data": {
            "text/plain": [
              "       var15  imp_op_var39_comer_ult1  imp_op_var40_efect_ult1  \\\n",
              "0         23                      0.0                      0.0   \n",
              "1         34                      0.0                      0.0   \n",
              "2         23                      0.0                      0.0   \n",
              "3         37                    195.0                      0.0   \n",
              "4         39                      0.0                      0.0   \n",
              "...      ...                      ...                      ...   \n",
              "76015     48                      0.0                      0.0   \n",
              "76016     39                      0.0                      0.0   \n",
              "76017     23                      0.0                      0.0   \n",
              "76018     25                      0.0                      0.0   \n",
              "76019     46                      0.0                      0.0   \n",
              "\n",
              "       imp_op_var40_efect_ult3  imp_op_var41_comer_ult1  \\\n",
              "0                          0.0                      0.0   \n",
              "1                          0.0                      0.0   \n",
              "2                          0.0                      0.0   \n",
              "3                          0.0                    195.0   \n",
              "4                          0.0                      0.0   \n",
              "...                        ...                      ...   \n",
              "76015                      0.0                      0.0   \n",
              "76016                      0.0                      0.0   \n",
              "76017                      0.0                      0.0   \n",
              "76018                      0.0                      0.0   \n",
              "76019                      0.0                      0.0   \n",
              "\n",
              "       imp_op_var41_efect_ult1  imp_op_var41_efect_ult3  imp_op_var41_ult1  \\\n",
              "0                          0.0                      0.0                0.0   \n",
              "1                          0.0                      0.0                0.0   \n",
              "2                          0.0                      0.0                0.0   \n",
              "3                          0.0                      0.0              195.0   \n",
              "4                          0.0                      0.0                0.0   \n",
              "...                        ...                      ...                ...   \n",
              "76015                      0.0                      0.0                0.0   \n",
              "76016                      0.0                      0.0                0.0   \n",
              "76017                      0.0                      0.0                0.0   \n",
              "76018                      0.0                      0.0                0.0   \n",
              "76019                      0.0                      0.0                0.0   \n",
              "\n",
              "       imp_op_var39_efect_ult1  imp_op_var39_efect_ult3  ...  \\\n",
              "0                          0.0                      0.0  ...   \n",
              "1                          0.0                      0.0  ...   \n",
              "2                          0.0                      0.0  ...   \n",
              "3                          0.0                      0.0  ...   \n",
              "4                          0.0                      0.0  ...   \n",
              "...                        ...                      ...  ...   \n",
              "76015                      0.0                      0.0  ...   \n",
              "76016                      0.0                      0.0  ...   \n",
              "76017                      0.0                      0.0  ...   \n",
              "76018                      0.0                      0.0  ...   \n",
              "76019                      0.0                      0.0  ...   \n",
              "\n",
              "       num_med_var22_ult3  num_meses_var8_ult3  num_op_var40_efect_ult1  \\\n",
              "0                       0                    0                        0   \n",
              "1                       0                    0                        0   \n",
              "2                       0                    0                        0   \n",
              "3                       0                    0                        0   \n",
              "4                       3                    0                        0   \n",
              "...                   ...                  ...                      ...   \n",
              "76015                   0                    0                        0   \n",
              "76016                   6                    0                        0   \n",
              "76017                   0                    0                        0   \n",
              "76018                   0                    0                        0   \n",
              "76019                   0                    0                        0   \n",
              "\n",
              "       num_op_var40_efect_ult3  num_op_var41_efect_ult1  \\\n",
              "0                            0                        0   \n",
              "1                            0                        0   \n",
              "2                            0                        0   \n",
              "3                            0                        0   \n",
              "4                            0                        0   \n",
              "...                        ...                      ...   \n",
              "76015                        0                        0   \n",
              "76016                        0                        0   \n",
              "76017                        0                        0   \n",
              "76018                        0                        0   \n",
              "76019                        0                        0   \n",
              "\n",
              "       num_op_var41_efect_ult3  num_op_var39_efect_ult1  \\\n",
              "0                            0                        0   \n",
              "1                            0                        0   \n",
              "2                            0                        0   \n",
              "3                            0                        0   \n",
              "4                            0                        0   \n",
              "...                        ...                      ...   \n",
              "76015                        0                        0   \n",
              "76016                        0                        0   \n",
              "76017                        0                        0   \n",
              "76018                        0                        0   \n",
              "76019                        0                        0   \n",
              "\n",
              "       num_op_var39_efect_ult3  num_reemb_var17_ult1  TARGET  \n",
              "0                            0                     0       0  \n",
              "1                            0                     0       0  \n",
              "2                            0                     0       0  \n",
              "3                            0                     0       0  \n",
              "4                            0                     0       0  \n",
              "...                        ...                   ...     ...  \n",
              "76015                        0                     0       0  \n",
              "76016                        0                     0       0  \n",
              "76017                        0                     0       0  \n",
              "76018                        0                     0       0  \n",
              "76019                        0                     0       0  \n",
              "\n",
              "[76020 rows x 44 columns]"
            ],
            "text/html": [
              "\n",
              "  <div id=\"df-c68e5854-cea2-4aaf-8149-9b207a377f1c\">\n",
              "    <div class=\"colab-df-container\">\n",
              "      <div>\n",
              "<style scoped>\n",
              "    .dataframe tbody tr th:only-of-type {\n",
              "        vertical-align: middle;\n",
              "    }\n",
              "\n",
              "    .dataframe tbody tr th {\n",
              "        vertical-align: top;\n",
              "    }\n",
              "\n",
              "    .dataframe thead th {\n",
              "        text-align: right;\n",
              "    }\n",
              "</style>\n",
              "<table border=\"1\" class=\"dataframe\">\n",
              "  <thead>\n",
              "    <tr style=\"text-align: right;\">\n",
              "      <th></th>\n",
              "      <th>var15</th>\n",
              "      <th>imp_op_var39_comer_ult1</th>\n",
              "      <th>imp_op_var40_efect_ult1</th>\n",
              "      <th>imp_op_var40_efect_ult3</th>\n",
              "      <th>imp_op_var41_comer_ult1</th>\n",
              "      <th>imp_op_var41_efect_ult1</th>\n",
              "      <th>imp_op_var41_efect_ult3</th>\n",
              "      <th>imp_op_var41_ult1</th>\n",
              "      <th>imp_op_var39_efect_ult1</th>\n",
              "      <th>imp_op_var39_efect_ult3</th>\n",
              "      <th>...</th>\n",
              "      <th>num_med_var22_ult3</th>\n",
              "      <th>num_meses_var8_ult3</th>\n",
              "      <th>num_op_var40_efect_ult1</th>\n",
              "      <th>num_op_var40_efect_ult3</th>\n",
              "      <th>num_op_var41_efect_ult1</th>\n",
              "      <th>num_op_var41_efect_ult3</th>\n",
              "      <th>num_op_var39_efect_ult1</th>\n",
              "      <th>num_op_var39_efect_ult3</th>\n",
              "      <th>num_reemb_var17_ult1</th>\n",
              "      <th>TARGET</th>\n",
              "    </tr>\n",
              "  </thead>\n",
              "  <tbody>\n",
              "    <tr>\n",
              "      <th>0</th>\n",
              "      <td>23</td>\n",
              "      <td>0.0</td>\n",
              "      <td>0.0</td>\n",
              "      <td>0.0</td>\n",
              "      <td>0.0</td>\n",
              "      <td>0.0</td>\n",
              "      <td>0.0</td>\n",
              "      <td>0.0</td>\n",
              "      <td>0.0</td>\n",
              "      <td>0.0</td>\n",
              "      <td>...</td>\n",
              "      <td>0</td>\n",
              "      <td>0</td>\n",
              "      <td>0</td>\n",
              "      <td>0</td>\n",
              "      <td>0</td>\n",
              "      <td>0</td>\n",
              "      <td>0</td>\n",
              "      <td>0</td>\n",
              "      <td>0</td>\n",
              "      <td>0</td>\n",
              "    </tr>\n",
              "    <tr>\n",
              "      <th>1</th>\n",
              "      <td>34</td>\n",
              "      <td>0.0</td>\n",
              "      <td>0.0</td>\n",
              "      <td>0.0</td>\n",
              "      <td>0.0</td>\n",
              "      <td>0.0</td>\n",
              "      <td>0.0</td>\n",
              "      <td>0.0</td>\n",
              "      <td>0.0</td>\n",
              "      <td>0.0</td>\n",
              "      <td>...</td>\n",
              "      <td>0</td>\n",
              "      <td>0</td>\n",
              "      <td>0</td>\n",
              "      <td>0</td>\n",
              "      <td>0</td>\n",
              "      <td>0</td>\n",
              "      <td>0</td>\n",
              "      <td>0</td>\n",
              "      <td>0</td>\n",
              "      <td>0</td>\n",
              "    </tr>\n",
              "    <tr>\n",
              "      <th>2</th>\n",
              "      <td>23</td>\n",
              "      <td>0.0</td>\n",
              "      <td>0.0</td>\n",
              "      <td>0.0</td>\n",
              "      <td>0.0</td>\n",
              "      <td>0.0</td>\n",
              "      <td>0.0</td>\n",
              "      <td>0.0</td>\n",
              "      <td>0.0</td>\n",
              "      <td>0.0</td>\n",
              "      <td>...</td>\n",
              "      <td>0</td>\n",
              "      <td>0</td>\n",
              "      <td>0</td>\n",
              "      <td>0</td>\n",
              "      <td>0</td>\n",
              "      <td>0</td>\n",
              "      <td>0</td>\n",
              "      <td>0</td>\n",
              "      <td>0</td>\n",
              "      <td>0</td>\n",
              "    </tr>\n",
              "    <tr>\n",
              "      <th>3</th>\n",
              "      <td>37</td>\n",
              "      <td>195.0</td>\n",
              "      <td>0.0</td>\n",
              "      <td>0.0</td>\n",
              "      <td>195.0</td>\n",
              "      <td>0.0</td>\n",
              "      <td>0.0</td>\n",
              "      <td>195.0</td>\n",
              "      <td>0.0</td>\n",
              "      <td>0.0</td>\n",
              "      <td>...</td>\n",
              "      <td>0</td>\n",
              "      <td>0</td>\n",
              "      <td>0</td>\n",
              "      <td>0</td>\n",
              "      <td>0</td>\n",
              "      <td>0</td>\n",
              "      <td>0</td>\n",
              "      <td>0</td>\n",
              "      <td>0</td>\n",
              "      <td>0</td>\n",
              "    </tr>\n",
              "    <tr>\n",
              "      <th>4</th>\n",
              "      <td>39</td>\n",
              "      <td>0.0</td>\n",
              "      <td>0.0</td>\n",
              "      <td>0.0</td>\n",
              "      <td>0.0</td>\n",
              "      <td>0.0</td>\n",
              "      <td>0.0</td>\n",
              "      <td>0.0</td>\n",
              "      <td>0.0</td>\n",
              "      <td>0.0</td>\n",
              "      <td>...</td>\n",
              "      <td>3</td>\n",
              "      <td>0</td>\n",
              "      <td>0</td>\n",
              "      <td>0</td>\n",
              "      <td>0</td>\n",
              "      <td>0</td>\n",
              "      <td>0</td>\n",
              "      <td>0</td>\n",
              "      <td>0</td>\n",
              "      <td>0</td>\n",
              "    </tr>\n",
              "    <tr>\n",
              "      <th>...</th>\n",
              "      <td>...</td>\n",
              "      <td>...</td>\n",
              "      <td>...</td>\n",
              "      <td>...</td>\n",
              "      <td>...</td>\n",
              "      <td>...</td>\n",
              "      <td>...</td>\n",
              "      <td>...</td>\n",
              "      <td>...</td>\n",
              "      <td>...</td>\n",
              "      <td>...</td>\n",
              "      <td>...</td>\n",
              "      <td>...</td>\n",
              "      <td>...</td>\n",
              "      <td>...</td>\n",
              "      <td>...</td>\n",
              "      <td>...</td>\n",
              "      <td>...</td>\n",
              "      <td>...</td>\n",
              "      <td>...</td>\n",
              "      <td>...</td>\n",
              "    </tr>\n",
              "    <tr>\n",
              "      <th>76015</th>\n",
              "      <td>48</td>\n",
              "      <td>0.0</td>\n",
              "      <td>0.0</td>\n",
              "      <td>0.0</td>\n",
              "      <td>0.0</td>\n",
              "      <td>0.0</td>\n",
              "      <td>0.0</td>\n",
              "      <td>0.0</td>\n",
              "      <td>0.0</td>\n",
              "      <td>0.0</td>\n",
              "      <td>...</td>\n",
              "      <td>0</td>\n",
              "      <td>0</td>\n",
              "      <td>0</td>\n",
              "      <td>0</td>\n",
              "      <td>0</td>\n",
              "      <td>0</td>\n",
              "      <td>0</td>\n",
              "      <td>0</td>\n",
              "      <td>0</td>\n",
              "      <td>0</td>\n",
              "    </tr>\n",
              "    <tr>\n",
              "      <th>76016</th>\n",
              "      <td>39</td>\n",
              "      <td>0.0</td>\n",
              "      <td>0.0</td>\n",
              "      <td>0.0</td>\n",
              "      <td>0.0</td>\n",
              "      <td>0.0</td>\n",
              "      <td>0.0</td>\n",
              "      <td>0.0</td>\n",
              "      <td>0.0</td>\n",
              "      <td>0.0</td>\n",
              "      <td>...</td>\n",
              "      <td>6</td>\n",
              "      <td>0</td>\n",
              "      <td>0</td>\n",
              "      <td>0</td>\n",
              "      <td>0</td>\n",
              "      <td>0</td>\n",
              "      <td>0</td>\n",
              "      <td>0</td>\n",
              "      <td>0</td>\n",
              "      <td>0</td>\n",
              "    </tr>\n",
              "    <tr>\n",
              "      <th>76017</th>\n",
              "      <td>23</td>\n",
              "      <td>0.0</td>\n",
              "      <td>0.0</td>\n",
              "      <td>0.0</td>\n",
              "      <td>0.0</td>\n",
              "      <td>0.0</td>\n",
              "      <td>0.0</td>\n",
              "      <td>0.0</td>\n",
              "      <td>0.0</td>\n",
              "      <td>0.0</td>\n",
              "      <td>...</td>\n",
              "      <td>0</td>\n",
              "      <td>0</td>\n",
              "      <td>0</td>\n",
              "      <td>0</td>\n",
              "      <td>0</td>\n",
              "      <td>0</td>\n",
              "      <td>0</td>\n",
              "      <td>0</td>\n",
              "      <td>0</td>\n",
              "      <td>0</td>\n",
              "    </tr>\n",
              "    <tr>\n",
              "      <th>76018</th>\n",
              "      <td>25</td>\n",
              "      <td>0.0</td>\n",
              "      <td>0.0</td>\n",
              "      <td>0.0</td>\n",
              "      <td>0.0</td>\n",
              "      <td>0.0</td>\n",
              "      <td>0.0</td>\n",
              "      <td>0.0</td>\n",
              "      <td>0.0</td>\n",
              "      <td>0.0</td>\n",
              "      <td>...</td>\n",
              "      <td>0</td>\n",
              "      <td>0</td>\n",
              "      <td>0</td>\n",
              "      <td>0</td>\n",
              "      <td>0</td>\n",
              "      <td>0</td>\n",
              "      <td>0</td>\n",
              "      <td>0</td>\n",
              "      <td>0</td>\n",
              "      <td>0</td>\n",
              "    </tr>\n",
              "    <tr>\n",
              "      <th>76019</th>\n",
              "      <td>46</td>\n",
              "      <td>0.0</td>\n",
              "      <td>0.0</td>\n",
              "      <td>0.0</td>\n",
              "      <td>0.0</td>\n",
              "      <td>0.0</td>\n",
              "      <td>0.0</td>\n",
              "      <td>0.0</td>\n",
              "      <td>0.0</td>\n",
              "      <td>0.0</td>\n",
              "      <td>...</td>\n",
              "      <td>0</td>\n",
              "      <td>0</td>\n",
              "      <td>0</td>\n",
              "      <td>0</td>\n",
              "      <td>0</td>\n",
              "      <td>0</td>\n",
              "      <td>0</td>\n",
              "      <td>0</td>\n",
              "      <td>0</td>\n",
              "      <td>0</td>\n",
              "    </tr>\n",
              "  </tbody>\n",
              "</table>\n",
              "<p>76020 rows × 44 columns</p>\n",
              "</div>\n",
              "      <button class=\"colab-df-convert\" onclick=\"convertToInteractive('df-c68e5854-cea2-4aaf-8149-9b207a377f1c')\"\n",
              "              title=\"Convert this dataframe to an interactive table.\"\n",
              "              style=\"display:none;\">\n",
              "        \n",
              "  <svg xmlns=\"http://www.w3.org/2000/svg\" height=\"24px\"viewBox=\"0 0 24 24\"\n",
              "       width=\"24px\">\n",
              "    <path d=\"M0 0h24v24H0V0z\" fill=\"none\"/>\n",
              "    <path d=\"M18.56 5.44l.94 2.06.94-2.06 2.06-.94-2.06-.94-.94-2.06-.94 2.06-2.06.94zm-11 1L8.5 8.5l.94-2.06 2.06-.94-2.06-.94L8.5 2.5l-.94 2.06-2.06.94zm10 10l.94 2.06.94-2.06 2.06-.94-2.06-.94-.94-2.06-.94 2.06-2.06.94z\"/><path d=\"M17.41 7.96l-1.37-1.37c-.4-.4-.92-.59-1.43-.59-.52 0-1.04.2-1.43.59L10.3 9.45l-7.72 7.72c-.78.78-.78 2.05 0 2.83L4 21.41c.39.39.9.59 1.41.59.51 0 1.02-.2 1.41-.59l7.78-7.78 2.81-2.81c.8-.78.8-2.07 0-2.86zM5.41 20L4 18.59l7.72-7.72 1.47 1.35L5.41 20z\"/>\n",
              "  </svg>\n",
              "      </button>\n",
              "      \n",
              "  <style>\n",
              "    .colab-df-container {\n",
              "      display:flex;\n",
              "      flex-wrap:wrap;\n",
              "      gap: 12px;\n",
              "    }\n",
              "\n",
              "    .colab-df-convert {\n",
              "      background-color: #E8F0FE;\n",
              "      border: none;\n",
              "      border-radius: 50%;\n",
              "      cursor: pointer;\n",
              "      display: none;\n",
              "      fill: #1967D2;\n",
              "      height: 32px;\n",
              "      padding: 0 0 0 0;\n",
              "      width: 32px;\n",
              "    }\n",
              "\n",
              "    .colab-df-convert:hover {\n",
              "      background-color: #E2EBFA;\n",
              "      box-shadow: 0px 1px 2px rgba(60, 64, 67, 0.3), 0px 1px 3px 1px rgba(60, 64, 67, 0.15);\n",
              "      fill: #174EA6;\n",
              "    }\n",
              "\n",
              "    [theme=dark] .colab-df-convert {\n",
              "      background-color: #3B4455;\n",
              "      fill: #D2E3FC;\n",
              "    }\n",
              "\n",
              "    [theme=dark] .colab-df-convert:hover {\n",
              "      background-color: #434B5C;\n",
              "      box-shadow: 0px 1px 3px 1px rgba(0, 0, 0, 0.15);\n",
              "      filter: drop-shadow(0px 1px 2px rgba(0, 0, 0, 0.3));\n",
              "      fill: #FFFFFF;\n",
              "    }\n",
              "  </style>\n",
              "\n",
              "      <script>\n",
              "        const buttonEl =\n",
              "          document.querySelector('#df-c68e5854-cea2-4aaf-8149-9b207a377f1c button.colab-df-convert');\n",
              "        buttonEl.style.display =\n",
              "          google.colab.kernel.accessAllowed ? 'block' : 'none';\n",
              "\n",
              "        async function convertToInteractive(key) {\n",
              "          const element = document.querySelector('#df-c68e5854-cea2-4aaf-8149-9b207a377f1c');\n",
              "          const dataTable =\n",
              "            await google.colab.kernel.invokeFunction('convertToInteractive',\n",
              "                                                     [key], {});\n",
              "          if (!dataTable) return;\n",
              "\n",
              "          const docLinkHtml = 'Like what you see? Visit the ' +\n",
              "            '<a target=\"_blank\" href=https://colab.research.google.com/notebooks/data_table.ipynb>data table notebook</a>'\n",
              "            + ' to learn more about interactive tables.';\n",
              "          element.innerHTML = '';\n",
              "          dataTable['output_type'] = 'display_data';\n",
              "          await google.colab.output.renderOutput(dataTable, element);\n",
              "          const docLink = document.createElement('div');\n",
              "          docLink.innerHTML = docLinkHtml;\n",
              "          element.appendChild(docLink);\n",
              "        }\n",
              "      </script>\n",
              "    </div>\n",
              "  </div>\n",
              "  "
            ]
          },
          "metadata": {},
          "execution_count": 18
        }
      ]
    },
    {
      "cell_type": "markdown",
      "source": [
        "Definition of the split function:"
      ],
      "metadata": {
        "id": "0hZr8JpvuKcJ"
      }
    },
    {
      "cell_type": "code",
      "source": [
        "import numpy as np\n",
        "\n",
        "def split_train_test(data, test_ratio):\n",
        "    shuffled_indices = np.random.permutation(len(data))\n",
        "    test_set_size = int(len(data) * test_ratio)\n",
        "    test_indices = shuffled_indices[:test_set_size]\n",
        "    train_indices = shuffled_indices[test_set_size:]\n",
        "    return data.iloc[train_indices], data.iloc[test_indices]\n",
        "np.random.seed(42)"
      ],
      "metadata": {
        "id": "0BfUy_T976y5"
      },
      "execution_count": 20,
      "outputs": []
    },
    {
      "cell_type": "code",
      "source": [
        "train_set, test_set = split_train_test(customer_data[idx], 0.2)"
      ],
      "metadata": {
        "id": "oYVxZMe98k4L"
      },
      "execution_count": 21,
      "outputs": []
    },
    {
      "cell_type": "code",
      "source": [
        "X_train = train_set.values[:,0:42]\n",
        "X_validation  = test_set.values[:,0:42]"
      ],
      "metadata": {
        "id": "xxkxTL6E8nDQ"
      },
      "execution_count": 22,
      "outputs": []
    },
    {
      "cell_type": "code",
      "source": [
        "X_train.shape #debug"
      ],
      "metadata": {
        "colab": {
          "base_uri": "https://localhost:8080/"
        },
        "id": "HICpUViq8prv",
        "outputId": "1c007ea9-b7bd-499a-e0b4-57c7cf063536"
      },
      "execution_count": 23,
      "outputs": [
        {
          "output_type": "execute_result",
          "data": {
            "text/plain": [
              "(60816, 42)"
            ]
          },
          "metadata": {},
          "execution_count": 23
        }
      ]
    },
    {
      "cell_type": "code",
      "source": [
        "y_train = train_set.values[:,43]\n",
        "y_validation  = test_set.values[:,43]\n",
        "y_train.shape"
      ],
      "metadata": {
        "colab": {
          "base_uri": "https://localhost:8080/"
        },
        "id": "ZsLpyJBP8to1",
        "outputId": "50f0a905-ceae-4ba3-fecf-113834fbd0ba"
      },
      "execution_count": 24,
      "outputs": [
        {
          "output_type": "execute_result",
          "data": {
            "text/plain": [
              "(60816,)"
            ]
          },
          "metadata": {},
          "execution_count": 24
        }
      ]
    },
    {
      "cell_type": "code",
      "source": [
        "from collections import Counter\n",
        "print(f\"Training target statistics: {Counter(y_train)}\")\n",
        "print(f\"Testing target statistics: {Counter(y_validation)}\")"
      ],
      "metadata": {
        "colab": {
          "base_uri": "https://localhost:8080/"
        },
        "id": "F0CrwtLivW1R",
        "outputId": "833f22a6-56ad-4f84-9013-48855101c20f"
      },
      "execution_count": 39,
      "outputs": [
        {
          "output_type": "stream",
          "name": "stdout",
          "text": [
            "Training target statistics: Counter({0.0: 58415, 1.0: 2401})\n",
            "Testing target statistics: Counter({0.0: 14597, 1.0: 607})\n"
          ]
        }
      ]
    },
    {
      "cell_type": "code",
      "source": [
        "import tensorflow as tf\n",
        "from tensorflow import keras"
      ],
      "metadata": {
        "id": "yAEKD2GJ811Q"
      },
      "execution_count": 25,
      "outputs": []
    },
    {
      "cell_type": "markdown",
      "source": [
        "Definiton of the model:"
      ],
      "metadata": {
        "id": "KHxkXxgOuDz7"
      }
    },
    {
      "cell_type": "code",
      "source": [
        "model = keras.models.Sequential()\n",
        "model.add(keras.layers.Flatten(input_shape=[42]))\n",
        "\n",
        "#1st fully connected Neural Network hidden-layer\n",
        "model.add(keras.layers.Dense(160))\n",
        "model.add(keras.layers.Dropout(0.1))\n",
        "model.add(keras.layers.Activation('sigmoid'))\n",
        "\n",
        "#2nd fully connected Neural Network hidden-layer\n",
        "model.add(keras.layers.Dense(40))\n",
        "model.add(keras.layers.Dropout(0.1))\n",
        "model.add(keras.layers.Activation('relu'))\n",
        "\n",
        "#Output layer\n",
        "model.add(keras.layers.Dense(1, activation=\"sigmoid\"))\n",
        "model.summary()"
      ],
      "metadata": {
        "colab": {
          "base_uri": "https://localhost:8080/"
        },
        "id": "4qJVWd3a85P6",
        "outputId": "69bc56f5-dd41-458d-81dd-b28be738b8bf"
      },
      "execution_count": 26,
      "outputs": [
        {
          "output_type": "stream",
          "name": "stdout",
          "text": [
            "Model: \"sequential\"\n",
            "_________________________________________________________________\n",
            " Layer (type)                Output Shape              Param #   \n",
            "=================================================================\n",
            " flatten (Flatten)           (None, 42)                0         \n",
            "                                                                 \n",
            " dense (Dense)               (None, 160)               6880      \n",
            "                                                                 \n",
            " dropout (Dropout)           (None, 160)               0         \n",
            "                                                                 \n",
            " activation (Activation)     (None, 160)               0         \n",
            "                                                                 \n",
            " dense_1 (Dense)             (None, 40)                6440      \n",
            "                                                                 \n",
            " dropout_1 (Dropout)         (None, 40)                0         \n",
            "                                                                 \n",
            " activation_1 (Activation)   (None, 40)                0         \n",
            "                                                                 \n",
            " dense_2 (Dense)             (None, 1)                 41        \n",
            "                                                                 \n",
            "=================================================================\n",
            "Total params: 13,361\n",
            "Trainable params: 13,361\n",
            "Non-trainable params: 0\n",
            "_________________________________________________________________\n"
          ]
        }
      ]
    },
    {
      "cell_type": "markdown",
      "source": [
        "Optimizer:"
      ],
      "metadata": {
        "id": "xFsybd4DuU5z"
      }
    },
    {
      "cell_type": "code",
      "source": [
        "sgd = keras.optimizers.SGD(learning_rate=0.05, decay=1e-6, momentum=0.9, nesterov=\"True\") "
      ],
      "metadata": {
        "id": "F_MxiOY69OOw"
      },
      "execution_count": 54,
      "outputs": []
    },
    {
      "cell_type": "markdown",
      "source": [
        "Compilation of the model:"
      ],
      "metadata": {
        "id": "ieGK2Ktlub6a"
      }
    },
    {
      "cell_type": "code",
      "source": [
        "model.compile(loss=\"binary_crossentropy\", optimizer=\"sgd\", metrics=[\"accuracy\"])\n",
        "epch = 20"
      ],
      "metadata": {
        "id": "AmdgBUKD9YjA"
      },
      "execution_count": 56,
      "outputs": []
    },
    {
      "cell_type": "markdown",
      "source": [
        "Training of the first model:"
      ],
      "metadata": {
        "id": "COJAc2f5uwRx"
      }
    },
    {
      "cell_type": "code",
      "source": [
        "history = model.fit(X_train, y_train, epochs=epch, validation_data=(X_validation, y_validation))"
      ],
      "metadata": {
        "colab": {
          "base_uri": "https://localhost:8080/"
        },
        "id": "iX3rftCV9hWO",
        "outputId": "30e5146a-6b08-4895-a292-50934d38d2bb"
      },
      "execution_count": 57,
      "outputs": [
        {
          "output_type": "stream",
          "name": "stdout",
          "text": [
            "Epoch 1/20\n",
            "1901/1901 [==============================] - 5s 2ms/step - loss: 0.1542 - accuracy: 0.9593 - val_loss: 0.1520 - val_accuracy: 0.9601\n",
            "Epoch 2/20\n",
            "1901/1901 [==============================] - 4s 2ms/step - loss: 0.1489 - accuracy: 0.9605 - val_loss: 0.1516 - val_accuracy: 0.9601\n",
            "Epoch 3/20\n",
            "1901/1901 [==============================] - 4s 2ms/step - loss: 0.1483 - accuracy: 0.9605 - val_loss: 0.1505 - val_accuracy: 0.9601\n",
            "Epoch 4/20\n",
            "1901/1901 [==============================] - 5s 3ms/step - loss: 0.1484 - accuracy: 0.9605 - val_loss: 0.1506 - val_accuracy: 0.9601\n",
            "Epoch 5/20\n",
            "1901/1901 [==============================] - 6s 3ms/step - loss: 0.1479 - accuracy: 0.9605 - val_loss: 0.1514 - val_accuracy: 0.9601\n",
            "Epoch 6/20\n",
            "1901/1901 [==============================] - 4s 2ms/step - loss: 0.1480 - accuracy: 0.9605 - val_loss: 0.1497 - val_accuracy: 0.9601\n",
            "Epoch 7/20\n",
            "1901/1901 [==============================] - 4s 2ms/step - loss: 0.1479 - accuracy: 0.9605 - val_loss: 0.1528 - val_accuracy: 0.9601\n",
            "Epoch 8/20\n",
            "1901/1901 [==============================] - 4s 2ms/step - loss: 0.1477 - accuracy: 0.9605 - val_loss: 0.1501 - val_accuracy: 0.9601\n",
            "Epoch 9/20\n",
            "1901/1901 [==============================] - 4s 2ms/step - loss: 0.1481 - accuracy: 0.9605 - val_loss: 0.1502 - val_accuracy: 0.9601\n",
            "Epoch 10/20\n",
            "1901/1901 [==============================] - 4s 2ms/step - loss: 0.1475 - accuracy: 0.9605 - val_loss: 0.1514 - val_accuracy: 0.9601\n",
            "Epoch 11/20\n",
            "1901/1901 [==============================] - 4s 2ms/step - loss: 0.1477 - accuracy: 0.9605 - val_loss: 0.1504 - val_accuracy: 0.9601\n",
            "Epoch 12/20\n",
            "1901/1901 [==============================] - 4s 2ms/step - loss: 0.1466 - accuracy: 0.9605 - val_loss: 0.1505 - val_accuracy: 0.9601\n",
            "Epoch 13/20\n",
            "1901/1901 [==============================] - 4s 2ms/step - loss: 0.1477 - accuracy: 0.9605 - val_loss: 0.1505 - val_accuracy: 0.9601\n",
            "Epoch 14/20\n",
            "1901/1901 [==============================] - 4s 2ms/step - loss: 0.1469 - accuracy: 0.9605 - val_loss: 0.1498 - val_accuracy: 0.9601\n",
            "Epoch 15/20\n",
            "1901/1901 [==============================] - 4s 2ms/step - loss: 0.1469 - accuracy: 0.9605 - val_loss: 0.1504 - val_accuracy: 0.9601\n",
            "Epoch 16/20\n",
            "1901/1901 [==============================] - 4s 2ms/step - loss: 0.1472 - accuracy: 0.9605 - val_loss: 0.1504 - val_accuracy: 0.9601\n",
            "Epoch 17/20\n",
            "1901/1901 [==============================] - 4s 2ms/step - loss: 0.1469 - accuracy: 0.9605 - val_loss: 0.1502 - val_accuracy: 0.9601\n",
            "Epoch 18/20\n",
            "1901/1901 [==============================] - 4s 2ms/step - loss: 0.1470 - accuracy: 0.9605 - val_loss: 0.1502 - val_accuracy: 0.9601\n",
            "Epoch 19/20\n",
            "1901/1901 [==============================] - 4s 2ms/step - loss: 0.1468 - accuracy: 0.9605 - val_loss: 0.1504 - val_accuracy: 0.9601\n",
            "Epoch 20/20\n",
            "1901/1901 [==============================] - 4s 2ms/step - loss: 0.1466 - accuracy: 0.9605 - val_loss: 0.1503 - val_accuracy: 0.9601\n"
          ]
        }
      ]
    },
    {
      "cell_type": "code",
      "source": [
        "y_proba = model.predict(X_validation)"
      ],
      "metadata": {
        "id": "d9_scUbI-h3g"
      },
      "execution_count": 58,
      "outputs": []
    },
    {
      "cell_type": "code",
      "source": [
        "from sklearn.metrics import confusion_matrix\n",
        "from sklearn.metrics import roc_curve\n",
        "import seaborn as sns"
      ],
      "metadata": {
        "id": "8zsbes8L-qQq"
      },
      "execution_count": 59,
      "outputs": []
    },
    {
      "cell_type": "code",
      "source": [
        "fpr, tpr, thresholds = roc_curve(y_validation,y_proba)"
      ],
      "metadata": {
        "id": "4KfsNmik-_Xm"
      },
      "execution_count": 60,
      "outputs": []
    },
    {
      "cell_type": "code",
      "source": [
        "import matplotlib.pyplot as plt\n",
        "def plot_roc_curve(fpr, tpr, label=None):\n",
        "  plt.plot(fpr, tpr, linewidth=2, label=label)\n",
        "  plt.plot([0, 1], [0, 1], 'k--') # Dashed diagonal\n",
        "\n",
        "plot_roc_curve(fpr, tpr)\n",
        "plt.show()"
      ],
      "metadata": {
        "colab": {
          "base_uri": "https://localhost:8080/",
          "height": 265
        },
        "id": "VCvVabJX_Bha",
        "outputId": "e1451b69-06e3-4471-8bac-62c04e1f2af8"
      },
      "execution_count": 61,
      "outputs": [
        {
          "output_type": "display_data",
          "data": {
            "text/plain": [
              "<Figure size 432x288 with 1 Axes>"
            ],
            "image/png": "[encoded data removed]"
          },
          "metadata": {
            "needs_background": "light"
          }
        }
      ]
    },
    {
      "cell_type": "code",
      "source": [
        "from sklearn.metrics import roc_auc_score\n",
        "roc_auc_score(y_validation, y_proba)"
      ],
      "metadata": {
        "colab": {
          "base_uri": "https://localhost:8080/"
        },
        "id": "P-GQ6PD9_NV4",
        "outputId": "3198cb9e-fab6-4ea2-bf56-2f102458f922"
      },
      "execution_count": 62,
      "outputs": [
        {
          "output_type": "execute_result",
          "data": {
            "text/plain": [
              "0.7648681845325127"
            ]
          },
          "metadata": {},
          "execution_count": 62
        }
      ]
    },
    {
      "cell_type": "code",
      "source": [
        "cf = confusion_matrix(y_validation, np.round(y_proba))\n",
        "ax = plt.subplots()\n",
        "ax = sns.heatmap(cf/np.sum(cf), annot=True, fmt='.2%', cmap='Blues')\n",
        "ax.set_title('Confusion matrix\\n\\n');\n",
        "ax.xaxis.set_ticklabels(['True','False'])\n",
        "ax.yaxis.set_ticklabels(['True','False'])\n",
        "plt.show()"
      ],
      "metadata": {
        "colab": {
          "base_uri": "https://localhost:8080/",
          "height": 311
        },
        "id": "0JzbkJSIGJTR",
        "outputId": "14f14049-6c6f-4316-beef-424a0f98bcc2"
      },
      "execution_count": 63,
      "outputs": [
        {
          "output_type": "display_data",
          "data": {
            "text/plain": [
              "<Figure size 432x288 with 2 Axes>"
            ],
            "image/png": "[encoded data removed]"
          },
          "metadata": {
            "needs_background": "light"
          }
        }
      ]
    },
    {
      "cell_type": "markdown",
      "source": [
        "Oversampler model:"
      ],
      "metadata": {
        "id": "42lLwm0vvb27"
      }
    },
    {
      "cell_type": "code",
      "source": [
        "from imblearn.over_sampling import RandomOverSampler\n",
        "over_sampler = RandomOverSampler(random_state=42)\n",
        "X_res, y_res = over_sampler.fit_resample(X_train, y_train)\n",
        "print(f\"Training target statistics: {Counter(y_res)}\")\n",
        "print(f\"Testing target statistics: {Counter(y_validation)}\")"
      ],
      "metadata": {
        "id": "NobxDJU2rZpp",
        "colab": {
          "base_uri": "https://localhost:8080/"
        },
        "outputId": "74657ec2-8ba3-44f8-e199-14527131ab1c"
      },
      "execution_count": 72,
      "outputs": [
        {
          "output_type": "stream",
          "name": "stdout",
          "text": [
            "Training target statistics: Counter({0.0: 58415, 1.0: 58415})\n",
            "Testing target statistics: Counter({0.0: 14597, 1.0: 607})\n"
          ]
        }
      ]
    },
    {
      "cell_type": "code",
      "source": [
        "history = model.fit(X_res, y_res, epochs=epch, validation_data=(X_validation, y_validation))"
      ],
      "metadata": {
        "id": "Tj-hPIaurdCg",
        "colab": {
          "base_uri": "https://localhost:8080/"
        },
        "outputId": "cbf8e014-01f0-427a-86ea-282348d03166"
      },
      "execution_count": 65,
      "outputs": [
        {
          "output_type": "stream",
          "name": "stdout",
          "text": [
            "Epoch 1/20\n",
            "3651/3651 [==============================] - 7s 2ms/step - loss: 0.5720 - accuracy: 0.7117 - val_loss: 0.5910 - val_accuracy: 0.7541\n",
            "Epoch 2/20\n",
            "3651/3651 [==============================] - 10s 3ms/step - loss: 0.5666 - accuracy: 0.7164 - val_loss: 0.5889 - val_accuracy: 0.7339\n",
            "Epoch 3/20\n",
            "3651/3651 [==============================] - 7s 2ms/step - loss: 0.5664 - accuracy: 0.7160 - val_loss: 0.5993 - val_accuracy: 0.7514\n",
            "Epoch 4/20\n",
            "3651/3651 [==============================] - 8s 2ms/step - loss: 0.5648 - accuracy: 0.7162 - val_loss: 0.5909 - val_accuracy: 0.7630\n",
            "Epoch 5/20\n",
            "3651/3651 [==============================] - 7s 2ms/step - loss: 0.5651 - accuracy: 0.7158 - val_loss: 0.5806 - val_accuracy: 0.7555\n",
            "Epoch 6/20\n",
            "3651/3651 [==============================] - 7s 2ms/step - loss: 0.5646 - accuracy: 0.7165 - val_loss: 0.5987 - val_accuracy: 0.7047\n",
            "Epoch 7/20\n",
            "3651/3651 [==============================] - 7s 2ms/step - loss: 0.5647 - accuracy: 0.7155 - val_loss: 0.6000 - val_accuracy: 0.7394\n",
            "Epoch 8/20\n",
            "3651/3651 [==============================] - 7s 2ms/step - loss: 0.5643 - accuracy: 0.7165 - val_loss: 0.5717 - val_accuracy: 0.7438\n",
            "Epoch 9/20\n",
            "3651/3651 [==============================] - 7s 2ms/step - loss: 0.5639 - accuracy: 0.7167 - val_loss: 0.5760 - val_accuracy: 0.7416\n",
            "Epoch 10/20\n",
            "3651/3651 [==============================] - 8s 2ms/step - loss: 0.5636 - accuracy: 0.7169 - val_loss: 0.6034 - val_accuracy: 0.7322\n",
            "Epoch 11/20\n",
            "3651/3651 [==============================] - 7s 2ms/step - loss: 0.5636 - accuracy: 0.7161 - val_loss: 0.5529 - val_accuracy: 0.7531\n",
            "Epoch 12/20\n",
            "3651/3651 [==============================] - 7s 2ms/step - loss: 0.5632 - accuracy: 0.7172 - val_loss: 0.5573 - val_accuracy: 0.7319\n",
            "Epoch 13/20\n",
            "3651/3651 [==============================] - 8s 2ms/step - loss: 0.5635 - accuracy: 0.7166 - val_loss: 0.6088 - val_accuracy: 0.7130\n",
            "Epoch 14/20\n",
            "3651/3651 [==============================] - 8s 2ms/step - loss: 0.5633 - accuracy: 0.7158 - val_loss: 0.5701 - val_accuracy: 0.7266\n",
            "Epoch 15/20\n",
            "3651/3651 [==============================] - 7s 2ms/step - loss: 0.5630 - accuracy: 0.7169 - val_loss: 0.5409 - val_accuracy: 0.7625\n",
            "Epoch 16/20\n",
            "3651/3651 [==============================] - 7s 2ms/step - loss: 0.5622 - accuracy: 0.7175 - val_loss: 0.5683 - val_accuracy: 0.7494\n",
            "Epoch 17/20\n",
            "3651/3651 [==============================] - 7s 2ms/step - loss: 0.5621 - accuracy: 0.7172 - val_loss: 0.5524 - val_accuracy: 0.7474\n",
            "Epoch 18/20\n",
            "3651/3651 [==============================] - 7s 2ms/step - loss: 0.5620 - accuracy: 0.7169 - val_loss: 0.5825 - val_accuracy: 0.7235\n",
            "Epoch 19/20\n",
            "3651/3651 [==============================] - 7s 2ms/step - loss: 0.5619 - accuracy: 0.7171 - val_loss: 0.5711 - val_accuracy: 0.7432\n",
            "Epoch 20/20\n",
            "3651/3651 [==============================] - 7s 2ms/step - loss: 0.5621 - accuracy: 0.7180 - val_loss: 0.5438 - val_accuracy: 0.7537\n"
          ]
        }
      ]
    },
    {
      "cell_type": "code",
      "source": [
        "y_proba = model.predict(X_validation)\n",
        "fpr, tpr, thresholds = roc_curve(y_validation,y_proba)\n",
        "plot_roc_curve(fpr, tpr)\n",
        "plt.show()"
      ],
      "metadata": {
        "id": "N2C6a7wJri6n",
        "colab": {
          "base_uri": "https://localhost:8080/",
          "height": 265
        },
        "outputId": "7e715d44-ee8f-42cf-e40d-cc0d1bc2df0f"
      },
      "execution_count": 66,
      "outputs": [
        {
          "output_type": "display_data",
          "data": {
            "text/plain": [
              "<Figure size 432x288 with 1 Axes>"
            ],
            "image/png": "[encoded data removed]"
          },
          "metadata": {
            "needs_background": "light"
          }
        }
      ]
    },
    {
      "cell_type": "code",
      "source": [
        "roc_auc_score(y_validation, y_proba)"
      ],
      "metadata": {
        "id": "aSveWZDarjlz",
        "colab": {
          "base_uri": "https://localhost:8080/"
        },
        "outputId": "f5f14985-18df-4f32-9776-0b1ded6fcae8"
      },
      "execution_count": 67,
      "outputs": [
        {
          "output_type": "execute_result",
          "data": {
            "text/plain": [
              "0.7707358229258591"
            ]
          },
          "metadata": {},
          "execution_count": 67
        }
      ]
    },
    {
      "cell_type": "code",
      "source": [
        "cf = confusion_matrix(y_validation, np.round(y_proba))\n",
        "ax = plt.subplots()\n",
        "ax = sns.heatmap(cf/np.sum(cf), annot=True, fmt='.2%', cmap='Blues')\n",
        "ax.set_title('Confusion matrix\\n\\n');\n",
        "ax.xaxis.set_ticklabels(['True','False'])\n",
        "ax.yaxis.set_ticklabels(['True','False'])\n",
        "plt.show()"
      ],
      "metadata": {
        "id": "9MAqXcd0ru_w",
        "colab": {
          "base_uri": "https://localhost:8080/",
          "height": 311
        },
        "outputId": "27143819-1d91-4f12-95f4-026801ddeaae"
      },
      "execution_count": 68,
      "outputs": [
        {
          "output_type": "display_data",
          "data": {
            "text/plain": [
              "<Figure size 432x288 with 2 Axes>"
            ],
            "image/png": "[encoded data removed]"
          },
          "metadata": {
            "needs_background": "light"
          }
        }
      ]
    },
    {
      "cell_type": "code",
      "source": [
        "print(f\"Training target statistics: {Counter(y_res)}\")\n",
        "print(f\"Testing target statistics: {Counter(y_validation)}\")"
      ],
      "metadata": {
        "colab": {
          "base_uri": "https://localhost:8080/"
        },
        "id": "G7YayqurypvW",
        "outputId": "e7edb721-f7f9-48fb-90f6-c92e93a991c0"
      },
      "execution_count": 73,
      "outputs": [
        {
          "output_type": "stream",
          "name": "stdout",
          "text": [
            "Training target statistics: Counter({0.0: 58415, 1.0: 58415})\n",
            "Testing target statistics: Counter({0.0: 14597, 1.0: 607})\n"
          ]
        }
      ]
    },
    {
      "cell_type": "markdown",
      "source": [
        "Undersampler model:"
      ],
      "metadata": {
        "id": "Pz_obCyQwEst"
      }
    },
    {
      "cell_type": "code",
      "source": [
        "from imblearn.under_sampling import RandomUnderSampler\n",
        "\n",
        "under_sampler = RandomUnderSampler(random_state=42)\n",
        "X_res, y_res = under_sampler.fit_resample(X_train, y_train)\n",
        "print(f\"Training target statistics: {Counter(y_res)}\")\n",
        "print(f\"Testing target statistics: {Counter(y_validation)}\")"
      ],
      "metadata": {
        "id": "IWmRjOM3r0QQ",
        "colab": {
          "base_uri": "https://localhost:8080/"
        },
        "outputId": "572ff4cf-30be-4539-b3c9-abf78d70502e"
      },
      "execution_count": 74,
      "outputs": [
        {
          "output_type": "stream",
          "name": "stdout",
          "text": [
            "Training target statistics: Counter({0.0: 2401, 1.0: 2401})\n",
            "Testing target statistics: Counter({0.0: 14597, 1.0: 607})\n"
          ]
        }
      ]
    },
    {
      "cell_type": "code",
      "source": [
        "history = model.fit(X_res, y_res, epochs=epch, validation_data=(X_validation, y_validation))"
      ],
      "metadata": {
        "id": "sYtMEhEWr1Dp",
        "colab": {
          "base_uri": "https://localhost:8080/"
        },
        "outputId": "86be09bc-a919-4178-f035-25d3c0e3404c"
      },
      "execution_count": 70,
      "outputs": [
        {
          "output_type": "stream",
          "name": "stdout",
          "text": [
            "Epoch 1/20\n",
            "151/151 [==============================] - 1s 6ms/step - loss: 0.5571 - accuracy: 0.7228 - val_loss: 0.5813 - val_accuracy: 0.7330\n",
            "Epoch 2/20\n",
            "151/151 [==============================] - 1s 6ms/step - loss: 0.5562 - accuracy: 0.7287 - val_loss: 0.5510 - val_accuracy: 0.7526\n",
            "Epoch 3/20\n",
            "151/151 [==============================] - 1s 6ms/step - loss: 0.5545 - accuracy: 0.7228 - val_loss: 0.5338 - val_accuracy: 0.7609\n",
            "Epoch 4/20\n",
            "151/151 [==============================] - 1s 6ms/step - loss: 0.5547 - accuracy: 0.7264 - val_loss: 0.5328 - val_accuracy: 0.7553\n",
            "Epoch 5/20\n",
            "151/151 [==============================] - 1s 6ms/step - loss: 0.5569 - accuracy: 0.7245 - val_loss: 0.5443 - val_accuracy: 0.7511\n",
            "Epoch 6/20\n",
            "151/151 [==============================] - 1s 6ms/step - loss: 0.5557 - accuracy: 0.7239 - val_loss: 0.5937 - val_accuracy: 0.7458\n",
            "Epoch 7/20\n",
            "151/151 [==============================] - 1s 6ms/step - loss: 0.5552 - accuracy: 0.7291 - val_loss: 0.5991 - val_accuracy: 0.7462\n",
            "Epoch 8/20\n",
            "151/151 [==============================] - 2s 11ms/step - loss: 0.5533 - accuracy: 0.7237 - val_loss: 0.5675 - val_accuracy: 0.7516\n",
            "Epoch 9/20\n",
            "151/151 [==============================] - 1s 8ms/step - loss: 0.5539 - accuracy: 0.7251 - val_loss: 0.4948 - val_accuracy: 0.7748\n",
            "Epoch 10/20\n",
            "151/151 [==============================] - 1s 6ms/step - loss: 0.5539 - accuracy: 0.7312 - val_loss: 0.5672 - val_accuracy: 0.7419\n",
            "Epoch 11/20\n",
            "151/151 [==============================] - 1s 6ms/step - loss: 0.5569 - accuracy: 0.7243 - val_loss: 0.5382 - val_accuracy: 0.7644\n",
            "Epoch 12/20\n",
            "151/151 [==============================] - 1s 6ms/step - loss: 0.5533 - accuracy: 0.7280 - val_loss: 0.5959 - val_accuracy: 0.7459\n",
            "Epoch 13/20\n",
            "151/151 [==============================] - 1s 6ms/step - loss: 0.5575 - accuracy: 0.7205 - val_loss: 0.5374 - val_accuracy: 0.7618\n",
            "Epoch 14/20\n",
            "151/151 [==============================] - 1s 6ms/step - loss: 0.5587 - accuracy: 0.7253 - val_loss: 0.5857 - val_accuracy: 0.7373\n",
            "Epoch 15/20\n",
            "151/151 [==============================] - 1s 6ms/step - loss: 0.5560 - accuracy: 0.7270 - val_loss: 0.6627 - val_accuracy: 0.6696\n",
            "Epoch 16/20\n",
            "151/151 [==============================] - 1s 6ms/step - loss: 0.5593 - accuracy: 0.7257 - val_loss: 0.6278 - val_accuracy: 0.7063\n",
            "Epoch 17/20\n",
            "151/151 [==============================] - 1s 6ms/step - loss: 0.5519 - accuracy: 0.7241 - val_loss: 0.5866 - val_accuracy: 0.7208\n",
            "Epoch 18/20\n",
            "151/151 [==============================] - 1s 6ms/step - loss: 0.5557 - accuracy: 0.7262 - val_loss: 0.5097 - val_accuracy: 0.7616\n",
            "Epoch 19/20\n",
            "151/151 [==============================] - 1s 6ms/step - loss: 0.5527 - accuracy: 0.7289 - val_loss: 0.6489 - val_accuracy: 0.7111\n",
            "Epoch 20/20\n",
            "151/151 [==============================] - 1s 6ms/step - loss: 0.5558 - accuracy: 0.7226 - val_loss: 0.5595 - val_accuracy: 0.7561\n"
          ]
        }
      ]
    },
    {
      "cell_type": "code",
      "source": [
        "y_proba = model.predict(X_validation)\n",
        "fpr, tpr, thresholds = roc_curve(y_validation,y_proba)\n",
        "plot_roc_curve(fpr, tpr)\n",
        "plt.show()"
      ],
      "metadata": {
        "id": "Ilv5flI8r4lU",
        "colab": {
          "base_uri": "https://localhost:8080/",
          "height": 265
        },
        "outputId": "39b766a6-586e-4e77-e032-cb07278a2db3"
      },
      "execution_count": 75,
      "outputs": [
        {
          "output_type": "display_data",
          "data": {
            "text/plain": [
              "<Figure size 432x288 with 1 Axes>"
            ],
            "image/png": "[encoded data removed]"
          },
          "metadata": {
            "needs_background": "light"
          }
        }
      ]
    },
    {
      "cell_type": "code",
      "source": [
        "roc_auc_score(y_validation, y_proba)"
      ],
      "metadata": {
        "id": "uRutIDv2r7J_",
        "colab": {
          "base_uri": "https://localhost:8080/"
        },
        "outputId": "5d952449-b9be-4593-e603-f9fa5c7f2b3d"
      },
      "execution_count": 76,
      "outputs": [
        {
          "output_type": "execute_result",
          "data": {
            "text/plain": [
              "0.7680412429310304"
            ]
          },
          "metadata": {},
          "execution_count": 76
        }
      ]
    },
    {
      "cell_type": "code",
      "source": [
        "cf = confusion_matrix(y_validation, np.round(y_proba))\n",
        "ax = plt.subplots()\n",
        "ax = sns.heatmap(cf/np.sum(cf), annot=True, fmt='.2%', cmap='Blues')\n",
        "ax.set_title('Confusion matrix\\n\\n');\n",
        "ax.xaxis.set_ticklabels(['True','False'])\n",
        "ax.yaxis.set_ticklabels(['True','False'])\n",
        "plt.show()"
      ],
      "metadata": {
        "id": "sdFAn3E3sCFV",
        "colab": {
          "base_uri": "https://localhost:8080/",
          "height": 311
        },
        "outputId": "6844f657-da69-4344-817b-5940adde07bd"
      },
      "execution_count": 77,
      "outputs": [
        {
          "output_type": "display_data",
          "data": {
            "text/plain": [
              "<Figure size 432x288 with 2 Axes>"
            ],
            "image/png": "[encoded data removed]"
          },
          "metadata": {
            "needs_background": "light"
          }
        }
      ]
    },
    {
      "cell_type": "code",
      "source": [
        "print(f\"Training target statistics: {Counter(y_res)}\")\n",
        "print(f\"Testing target statistics: {Counter(y_validation)}\")"
      ],
      "metadata": {
        "colab": {
          "base_uri": "https://localhost:8080/"
        },
        "id": "AObz4L39zAua",
        "outputId": "a51469e8-3984-47f7-de11-ad3f2aa1f5a4"
      },
      "execution_count": 78,
      "outputs": [
        {
          "output_type": "stream",
          "name": "stdout",
          "text": [
            "Training target statistics: Counter({0.0: 2401, 1.0: 2401})\n",
            "Testing target statistics: Counter({0.0: 14597, 1.0: 607})\n"
          ]
        }
      ]
    }
  ]
}